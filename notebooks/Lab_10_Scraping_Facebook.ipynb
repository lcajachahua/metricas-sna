{
 "cells": [
  {
   "cell_type": "markdown",
   "id": "a7a4397e-cd12-4ffe-8d6e-cd68b5dc79f3",
   "metadata": {},
   "source": [
    "# Extracción de Comentarios de Facebook\n",
    "Se descargaron todos los comentarios de un post de Facebook en formato html para realizar el pasring.\n",
    "Primero, instalamos las librerías necesarias"
   ]
  },
  {
   "cell_type": "code",
   "execution_count": null,
   "id": "d7b2cb5b-4269-4af8-81e4-2c628d178873",
   "metadata": {},
   "outputs": [],
   "source": [
    "install.packages(\"rvest\")"
   ]
  },
  {
   "cell_type": "markdown",
   "id": "96447dc0-c7b4-45dc-9744-5494212e9375",
   "metadata": {},
   "source": [
    "#### Activamos las librerías"
   ]
  },
  {
   "cell_type": "code",
   "execution_count": null,
   "id": "6515da44-028b-41c9-99c9-4ff71e822003",
   "metadata": {},
   "outputs": [],
   "source": [
    "library(rvest)\n",
    "library(stringr)"
   ]
  },
  {
   "cell_type": "markdown",
   "id": "1f73f8b5-e6ae-4b3d-80b0-6eabe63aaea2",
   "metadata": {},
   "source": [
    "#### Leer la página web con read_html()"
   ]
  },
  {
   "cell_type": "code",
   "execution_count": null,
   "id": "8efc1ea8-702e-4a85-a0b7-76fa08db5568",
   "metadata": {},
   "outputs": [],
   "source": [
    "url <-\"../data/bcp.html\" \n",
    "lista <- url %>% read_html() %>% html_nodes(\"._7791\")"
   ]
  },
  {
   "cell_type": "markdown",
   "id": "8a9b2b59-8b3c-4b49-b05d-a5cc073508b0",
   "metadata": {},
   "source": [
    "#### Extraer el nombre del Usuario"
   ]
  },
  {
   "cell_type": "code",
   "execution_count": null,
   "id": "e44740d4-c190-474d-b74e-f7d053e18d27",
   "metadata": {},
   "outputs": [],
   "source": [
    "usur <- lista %>% html_nodes(\"._6qw4\") %>% html_text()\n",
    "head(usur)"
   ]
  },
  {
   "cell_type": "markdown",
   "id": "97b26935-ff5c-4622-a24a-4308a5b260d1",
   "metadata": {},
   "source": [
    "#### Extraer el bloque Usuario+Comentario+Likes"
   ]
  },
  {
   "cell_type": "code",
   "execution_count": null,
   "id": "3ff6511c-a892-440b-80f3-1f4bbf41b9b3",
   "metadata": {},
   "outputs": [],
   "source": [
    "usurcomm <- lista %>% html_nodes(\"._680y\") %>% html_text()\n",
    "head(usurcomm)"
   ]
  },
  {
   "cell_type": "markdown",
   "id": "f9eef758-6fdf-4508-a8d1-d35e6314a25d",
   "metadata": {},
   "source": [
    "#### Extraer las fechas"
   ]
  },
  {
   "cell_type": "code",
   "execution_count": null,
   "id": "5b00dda9-03b4-476f-9aa2-0f7fac434d86",
   "metadata": {},
   "outputs": [],
   "source": [
    "fecha <- lista %>% html_nodes(\".livetimestamp\") %>% html_attr(\"data-tooltip-content\")\n",
    "head(fecha)"
   ]
  },
  {
   "cell_type": "markdown",
   "id": "53657022-1595-4b2b-bd55-bb3a124f14ff",
   "metadata": {},
   "source": [
    "#### Extraer los enlaces de cada Usuario"
   ]
  },
  {
   "cell_type": "code",
   "execution_count": null,
   "id": "75de4743-f859-44f4-9079-3797dae1eef5",
   "metadata": {},
   "outputs": [],
   "source": [
    "link <- lista %>% html_nodes(\"._6qw4\") %>% html_attr(\"href\")\n",
    "head(link)"
   ]
  },
  {
   "cell_type": "markdown",
   "id": "6ba2aa2f-38f8-4142-9610-200872d2af35",
   "metadata": {},
   "source": [
    "#### Extraer la cantidad de likes de cada comentario"
   ]
  },
  {
   "cell_type": "code",
   "execution_count": null,
   "id": "eae4877d-6c20-4a98-9d34-2db1b24704cd",
   "metadata": {},
   "outputs": [],
   "source": [
    "tmpx1 <- sapply(usur,nchar)\n",
    "comm <- substr(usurcomm,tmpx1+2,tmpx1+2650)\n",
    "likes <- str_extract(substr(comm, nchar(comm)-1, nchar(comm)), \"\\\\-*\\\\d+\\\\.*\\\\d*\")\n",
    "head(likes)"
   ]
  },
  {
   "cell_type": "markdown",
   "id": "c7b6285f-6bf1-49a8-8846-df281b99e0ac",
   "metadata": {},
   "source": [
    "#### Extraer sólo el Comentario"
   ]
  },
  {
   "cell_type": "code",
   "execution_count": null,
   "id": "84b50d02-2263-48c0-81b1-5d084a86de9d",
   "metadata": {},
   "outputs": [],
   "source": [
    "tmpx1 <- sapply(likes,nchar)\n",
    "tmpx1[is.na(tmpx1)] <- 0\n",
    "comm <- substr(comm,1,nchar(comm)-tmpx1)\n",
    "comm <- gsub(\"[\\n\\r\\t\\\"]\", \" \", comm)\n",
    "head(comm)"
   ]
  },
  {
   "cell_type": "markdown",
   "id": "a0e84717-1c79-4912-8396-dd11b45c4e9d",
   "metadata": {},
   "source": [
    "#### Combinando los datos para exportar"
   ]
  },
  {
   "cell_type": "code",
   "execution_count": null,
   "id": "31e41c83-6da2-4bcf-93f7-e71aa4cd345e",
   "metadata": {},
   "outputs": [],
   "source": [
    "datas <- data.frame(fecha,link,usur,likes,comm)\n",
    "head(datas)"
   ]
  },
  {
   "cell_type": "code",
   "execution_count": null,
   "id": "7e8df992-e970-4afa-966f-8f833faaee44",
   "metadata": {},
   "outputs": [],
   "source": [
    "write.csv(datas, \"../data/BCP.csv\", row.names = F)"
   ]
  },
  {
   "cell_type": "markdown",
   "id": "fc88597d-d048-4c81-8398-89dc61642775",
   "metadata": {},
   "source": []
  }
 ],
 "metadata": {
  "kernelspec": {
   "display_name": "R",
   "language": "R",
   "name": "ir"
  },
  "language_info": {
   "codemirror_mode": "r",
   "file_extension": ".r",
   "mimetype": "text/x-r-source",
   "name": "R",
   "pygments_lexer": "r",
   "version": "3.6.3"
  }
 },
 "nbformat": 4,
 "nbformat_minor": 5
}
