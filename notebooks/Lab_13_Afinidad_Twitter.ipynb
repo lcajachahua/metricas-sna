{
 "cells": [
  {
   "cell_type": "markdown",
   "id": "64517fc2",
   "metadata": {},
   "source": [
    "# Afinidad de Términos en Twitter"
   ]
  },
  {
   "cell_type": "markdown",
   "id": "a7d71f0f",
   "metadata": {},
   "source": [
    "## Cargar el archivo\n",
    "Se extrajeron tweets del año 2016 en los que se menciona al BBVA de la solución GNIP\n",
    "\n",
    "Instalamos las librerías necesarias para leer archivos de Excel"
   ]
  },
  {
   "cell_type": "code",
   "execution_count": null,
   "id": "c086f9f8",
   "metadata": {},
   "outputs": [],
   "source": [
    "pip install openpyxl"
   ]
  },
  {
   "cell_type": "code",
   "execution_count": null,
   "id": "d414f2d0-06d4-43d9-92dd-1c37d4508da0",
   "metadata": {},
   "outputs": [],
   "source": [
    "pip install mlxtend"
   ]
  },
  {
   "cell_type": "code",
   "execution_count": null,
   "id": "68915d24-e5ba-4aba-9917-d50fd9412b20",
   "metadata": {},
   "outputs": [],
   "source": [
    "import pandas as pd\n",
    "import numpy as np \n",
    "import matplotlib.pyplot as plt\n",
    "import networkx as nx\n",
    "from networkx.algorithms import community\n",
    "from sklearn.feature_extraction.text import CountVectorizer\n",
    "from mlxtend.frequent_patterns import apriori\n",
    "from mlxtend.frequent_patterns import association_rules\n",
    "import time"
   ]
  },
  {
   "cell_type": "code",
   "execution_count": null,
   "id": "44286594",
   "metadata": {},
   "outputs": [],
   "source": [
    "df = pd.read_excel('../data/Tweets_BBVA.xlsx', index_col=\"id\")\n",
    "df.head()"
   ]
  },
  {
   "cell_type": "markdown",
   "id": "71ded9d7",
   "metadata": {},
   "source": [
    "Extraemos el campo \"body\" que contiene el tweet"
   ]
  },
  {
   "cell_type": "code",
   "execution_count": null,
   "id": "4fb37031",
   "metadata": {},
   "outputs": [],
   "source": [
    "tweet = df[\"body\"]\n",
    "tweet.head()"
   ]
  },
  {
   "cell_type": "markdown",
   "id": "7dbf8154-0dd7-4ac0-a35a-2abec5d4c999",
   "metadata": {},
   "source": [
    "#### Creamos la Matriz Documento-Término (DTM)"
   ]
  },
  {
   "cell_type": "code",
   "execution_count": null,
   "id": "dd05303d-4d84-49e1-87ee-d718dbc41a7a",
   "metadata": {},
   "outputs": [],
   "source": [
    "vec = CountVectorizer()\n",
    "X = vec.fit_transform(tweet)"
   ]
  },
  {
   "cell_type": "code",
   "execution_count": null,
   "id": "2e760d37-de57-4e3e-8680-a5e7bf1a511e",
   "metadata": {},
   "outputs": [],
   "source": [
    "dtm = pd.DataFrame(X.toarray(), columns=vec.get_feature_names())\n",
    "dtm.head()"
   ]
  },
  {
   "cell_type": "code",
   "execution_count": null,
   "id": "31c057f6-1647-4ffd-bb2c-ce671a1b4502",
   "metadata": {},
   "outputs": [],
   "source": [
    "dtm.info()"
   ]
  },
  {
   "cell_type": "markdown",
   "id": "e0e40fcb-a04e-4e83-8a00-f8bf02da3dd5",
   "metadata": {},
   "source": [
    "#### Removemos las columnas de las stopwords y de los términos poco frecuentes"
   ]
  },
  {
   "cell_type": "code",
   "execution_count": null,
   "id": "a1550085-4bce-4c2c-a850-a50636db8b92",
   "metadata": {},
   "outputs": [],
   "source": [
    "column = pd.DataFrame(dtm.sum())\n",
    "column.head()"
   ]
  },
  {
   "cell_type": "code",
   "execution_count": null,
   "id": "551035bf-26d9-4ac0-960b-8765a4d674a7",
   "metadata": {},
   "outputs": [],
   "source": [
    "column[column[0]>300].index"
   ]
  },
  {
   "cell_type": "code",
   "execution_count": null,
   "id": "0a52d5ae-cbcb-4d0b-bc03-50f423756bd6",
   "metadata": {},
   "outputs": [],
   "source": [
    "dtm.drop(columns=['al', 'co', 'con', 'de', 'del', 'el', 'en', 'es', 'https', 'la', 'las', 'lo', 'los', 'me', 'mi', 'rt',\n",
    "                  'no', 'para', 'por', 'que', 'se', 'su', 'un', 'una', 'at', 'in', 'ya', 'sus', 'nos'], inplace=True)"
   ]
  },
  {
   "cell_type": "code",
   "execution_count": null,
   "id": "74c20397-7b19-4d31-b82e-497b4fdba347",
   "metadata": {},
   "outputs": [],
   "source": [
    "stop = list(column[column[0]<5].index)"
   ]
  },
  {
   "cell_type": "code",
   "execution_count": null,
   "id": "809f7571-ab6c-4b51-8a8e-903f9b4beb2b",
   "metadata": {},
   "outputs": [],
   "source": [
    "dtm.drop(columns=stop, inplace=True)"
   ]
  },
  {
   "cell_type": "markdown",
   "id": "1100e324-9558-4abb-a995-b8c5d021f52e",
   "metadata": {},
   "source": [
    "#### Realizamos un Encoding antes de utilizar los algoritmos de Afinidad"
   ]
  },
  {
   "cell_type": "code",
   "execution_count": null,
   "id": "629eb3e1-a57e-44a4-a65e-1ba99c0f25e5",
   "metadata": {},
   "outputs": [],
   "source": [
    "def encode_units(x):\n",
    "    if x <= 0:\n",
    "        return 0\n",
    "    if x >= 1:\n",
    "        return 1\n",
    "    \n",
    "dtm_nw = dtm.applymap(encode_units)\n",
    "dtm_nw.head()"
   ]
  },
  {
   "cell_type": "markdown",
   "id": "f676da78-f01e-4c1d-929b-a359f164f19c",
   "metadata": {},
   "source": [
    "#### Seleccionamos reglas con un mínimo de Soporte"
   ]
  },
  {
   "cell_type": "code",
   "execution_count": null,
   "id": "3d4f384d-cdf1-454b-91d6-e74101f3cbcd",
   "metadata": {},
   "outputs": [],
   "source": [
    "freq_words = apriori(dtm_nw, min_support=0.02, use_colnames=True).sort_values('support', ascending=False).reset_index(drop=True)\n",
    "freq_words['freq'] = freq_words['itemsets'].apply(lambda x: len(x))\n",
    "freq_words.head()"
   ]
  },
  {
   "cell_type": "code",
   "execution_count": null,
   "id": "ddcf1297-f3c9-4f40-b698-3c9221211596",
   "metadata": {},
   "outputs": [],
   "source": [
    "freq_words.info()"
   ]
  },
  {
   "cell_type": "markdown",
   "id": "de31e720-f14f-4c45-84ed-9abbc20aed30",
   "metadata": {},
   "source": [
    "#### Ahora generamos las reglas, ordenando de acuerdo al Lift"
   ]
  },
  {
   "cell_type": "code",
   "execution_count": null,
   "id": "3dee7df8-9bc5-4d7c-8af7-a1f4f7171595",
   "metadata": {},
   "outputs": [],
   "source": [
    "res = association_rules(freq_words, metric='lift').sort_values('lift', ascending=False).reset_index(drop=True)\n",
    "res.head(20)"
   ]
  },
  {
   "cell_type": "code",
   "execution_count": null,
   "id": "66a29723-73d7-4678-be2e-510c6f185061",
   "metadata": {},
   "outputs": [],
   "source": [
    "res.info()"
   ]
  },
  {
   "cell_type": "markdown",
   "id": "70a347b3",
   "metadata": {},
   "source": [
    "#### Ahora podemos transformar el DataFrame en un Grafo Dirigido con el Soporte como peso de la relación entre los términos"
   ]
  },
  {
   "cell_type": "code",
   "execution_count": null,
   "id": "83920e28",
   "metadata": {},
   "outputs": [],
   "source": [
    "G = nx.from_pandas_edgelist(res, source = 'antecedents', target = 'consequents', create_using=nx.DiGraph(), edge_attr='support')\n",
    "print(nx.info(G))"
   ]
  },
  {
   "cell_type": "markdown",
   "id": "606b81f9",
   "metadata": {},
   "source": [
    "Crear la función top_nodes que mostrará los valores más altos de un diccionario"
   ]
  },
  {
   "cell_type": "code",
   "execution_count": null,
   "id": "b9705c28",
   "metadata": {},
   "outputs": [],
   "source": [
    "def get_top_nodes(cdict, num=5):\n",
    "    top_nodes ={}\n",
    "    for i in range(num):\n",
    "        top_nodes =dict(\n",
    "            sorted(cdict.items(), key=lambda x: x[1], reverse=True)[:num]\n",
    "            )\n",
    "        return top_nodes"
   ]
  },
  {
   "cell_type": "markdown",
   "id": "3869f316",
   "metadata": {},
   "source": [
    "#### Representación de las relaciones entre Términos"
   ]
  },
  {
   "cell_type": "markdown",
   "id": "c97e9afe",
   "metadata": {},
   "source": [
    "Guardar el grado de cada nodo en un diccionario"
   ]
  },
  {
   "cell_type": "code",
   "execution_count": null,
   "id": "683ceeb2",
   "metadata": {},
   "outputs": [],
   "source": [
    "gdeg=G.degree()"
   ]
  },
  {
   "cell_type": "code",
   "execution_count": null,
   "id": "d36ae6a0",
   "metadata": {},
   "outputs": [],
   "source": [
    "get_top_nodes(dict(gdeg))"
   ]
  },
  {
   "cell_type": "code",
   "execution_count": null,
   "id": "84d9b25b-f0ac-4a46-aa4d-92b9f6946e88",
   "metadata": {},
   "outputs": [],
   "source": [
    "plt.figure(figsize=(32,18))\n",
    "edges = G.edges()\n",
    "weights = [G[u][v]['support'] for u,v in edges]\n",
    "nx.draw_networkx(G, width=weights, node_size=[100*val for(node,val)in gdeg])\n",
    "plt.show()"
   ]
  },
  {
   "cell_type": "markdown",
   "id": "0bae14b6",
   "metadata": {},
   "source": [
    "Elaborado por Luis Cajachahua bajo licencia MIT (2022)"
   ]
  }
 ],
 "metadata": {
  "kernelspec": {
   "display_name": "Python 3 (ipykernel)",
   "language": "python",
   "name": "python3"
  },
  "language_info": {
   "codemirror_mode": {
    "name": "ipython",
    "version": 3
   },
   "file_extension": ".py",
   "mimetype": "text/x-python",
   "name": "python",
   "nbconvert_exporter": "python",
   "pygments_lexer": "ipython3",
   "version": "3.9.7"
  }
 },
 "nbformat": 4,
 "nbformat_minor": 5
}
