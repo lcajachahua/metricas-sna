{
 "cells": [
  {
   "cell_type": "markdown",
   "id": "a648f23e",
   "metadata": {},
   "source": [
    "# Trabajando con Datos Externos"
   ]
  },
  {
   "cell_type": "markdown",
   "id": "dbdbee6b",
   "metadata": {},
   "source": [
    "## Cargar archivos csv\n",
    "Utilizamos la base de datos de Marvel (https://www.kaggle.com/csanhueza/the-marvel-universe-social-network)"
   ]
  },
  {
   "cell_type": "code",
   "execution_count": null,
   "id": "2681ecd1",
   "metadata": {},
   "outputs": [],
   "source": [
    "import pandas as pd\n",
    "import numpy as np \n",
    "import matplotlib.pyplot as plt\n",
    "import networkx as nx\n",
    "import time"
   ]
  },
  {
   "cell_type": "code",
   "execution_count": null,
   "id": "9857b04a",
   "metadata": {},
   "outputs": [],
   "source": [
    "h = pd.read_csv('../data/hero-network.csv')"
   ]
  },
  {
   "cell_type": "markdown",
   "id": "827bead0",
   "metadata": {},
   "source": [
    "Revisamos la información del DataFrame"
   ]
  },
  {
   "cell_type": "code",
   "execution_count": null,
   "id": "e12cd49d",
   "metadata": {},
   "outputs": [],
   "source": [
    "h.info()"
   ]
  },
  {
   "cell_type": "markdown",
   "id": "9f589b41",
   "metadata": {},
   "source": [
    "Transformamos el DataFrame en un Grafo No Dirigido"
   ]
  },
  {
   "cell_type": "code",
   "execution_count": null,
   "id": "bffe3bc4",
   "metadata": {},
   "outputs": [],
   "source": [
    "G = nx.from_pandas_edgelist(h, source = \"hero1\", target = \"hero2\")\n",
    "print(nx.info(G))"
   ]
  },
  {
   "cell_type": "markdown",
   "id": "e7a3d3a0",
   "metadata": {},
   "source": [
    "Crear la función top_nodes que mostrará los valores más altos de un diccionario"
   ]
  },
  {
   "cell_type": "code",
   "execution_count": null,
   "id": "3d8e84dc",
   "metadata": {},
   "outputs": [],
   "source": [
    "def get_top_nodes(cdict, num=5):\n",
    "    top_nodes ={}\n",
    "    for i in range(num):\n",
    "        top_nodes =dict(\n",
    "            sorted(cdict.items(), key=lambda x: x[1], reverse=True)[:num]\n",
    "            )\n",
    "        return top_nodes"
   ]
  },
  {
   "cell_type": "markdown",
   "id": "77f82afc",
   "metadata": {},
   "source": [
    "#### Grado"
   ]
  },
  {
   "cell_type": "markdown",
   "id": "58e1412e",
   "metadata": {},
   "source": [
    "Guardar el grado de cada nodo en un diccionario"
   ]
  },
  {
   "cell_type": "code",
   "execution_count": null,
   "id": "92757735",
   "metadata": {},
   "outputs": [],
   "source": [
    "gdeg=G.degree()"
   ]
  },
  {
   "cell_type": "code",
   "execution_count": null,
   "id": "5b038e8a",
   "metadata": {},
   "outputs": [],
   "source": [
    "get_top_nodes(dict(gdeg))"
   ]
  },
  {
   "cell_type": "code",
   "execution_count": null,
   "id": "c78b7aea",
   "metadata": {},
   "outputs": [],
   "source": [
    "print(nx.info(G,'CAPTAIN AMERICA'))"
   ]
  },
  {
   "cell_type": "markdown",
   "id": "cede1ac0",
   "metadata": {},
   "source": [
    "#### Degree Centrality"
   ]
  },
  {
   "cell_type": "code",
   "execution_count": null,
   "id": "50680fb4",
   "metadata": {},
   "outputs": [],
   "source": [
    "degree_centrality =nx.degree_centrality(G)\n",
    "nx.set_node_attributes(G,degree_centrality, 'dc')\n",
    "get_top_nodes(degree_centrality)"
   ]
  },
  {
   "cell_type": "markdown",
   "id": "f3b8afea",
   "metadata": {},
   "source": [
    "#### Betweenness"
   ]
  },
  {
   "cell_type": "code",
   "execution_count": null,
   "id": "7cb75db0",
   "metadata": {},
   "outputs": [],
   "source": [
    "t0= time.process_time()\n",
    "\n",
    "betweenness_centrality = nx.betweenness_centrality(G)\n",
    "nx.set_node_attributes(G,betweenness_centrality, 'bc')\n",
    "\n",
    "t1 = time.process_time() - t0\n",
    "print(\"Time elapsed: \", t1)"
   ]
  },
  {
   "cell_type": "code",
   "execution_count": null,
   "id": "aca31a4d",
   "metadata": {},
   "outputs": [],
   "source": [
    "get_top_nodes(betweenness_centrality)"
   ]
  },
  {
   "cell_type": "markdown",
   "id": "20e4c9d6",
   "metadata": {},
   "source": [
    "#### Closeness"
   ]
  },
  {
   "cell_type": "code",
   "execution_count": null,
   "id": "7afa3b50",
   "metadata": {},
   "outputs": [],
   "source": [
    "t0= time.process_time()\n",
    "\n",
    "closeness_centrality =nx.closeness_centrality(G)\n",
    "nx.set_node_attributes(G,closeness_centrality, 'cc')\n",
    "\n",
    "t1 = time.process_time() - t0\n",
    "print(\"Time elapsed: \", t1)"
   ]
  },
  {
   "cell_type": "code",
   "execution_count": null,
   "id": "361a1e71",
   "metadata": {},
   "outputs": [],
   "source": [
    "get_top_nodes(closeness_centrality)"
   ]
  },
  {
   "cell_type": "markdown",
   "id": "20342e60",
   "metadata": {},
   "source": [
    "#### Eigenvector Centrality"
   ]
  },
  {
   "cell_type": "code",
   "execution_count": null,
   "id": "3a433e10",
   "metadata": {},
   "outputs": [],
   "source": [
    "t0= time.process_time()\n",
    "\n",
    "eigenvector_centrality = nx.eigenvector_centrality(G)\n",
    "nx.set_node_attributes(G, eigenvector_centrality,'ec')\n",
    "\n",
    "t1 = time.process_time() - t0\n",
    "print(\"Time elapsed: \", t1)"
   ]
  },
  {
   "cell_type": "code",
   "execution_count": null,
   "id": "c1ab2e2e",
   "metadata": {},
   "outputs": [],
   "source": [
    "get_top_nodes(eigenvector_centrality)"
   ]
  },
  {
   "cell_type": "markdown",
   "id": "b63206dd",
   "metadata": {},
   "source": [
    "#### PageRank Centrality"
   ]
  },
  {
   "cell_type": "code",
   "execution_count": null,
   "id": "fa52ade9",
   "metadata": {},
   "outputs": [],
   "source": [
    "t0= time.process_time()\n",
    "\n",
    "pagerank_centrality =nx.pagerank(G)\n",
    "nx.set_node_attributes(G, pagerank_centrality, 'pr')\n",
    "\n",
    "t1 = time.process_time() - t0\n",
    "print(\"Time elapsed: \", t1)"
   ]
  },
  {
   "cell_type": "code",
   "execution_count": null,
   "id": "f7ca7844",
   "metadata": {},
   "outputs": [],
   "source": [
    "get_top_nodes(pagerank_centrality)"
   ]
  },
  {
   "cell_type": "markdown",
   "id": "3daca9d6",
   "metadata": {},
   "source": [
    "## Métricas de Grafo"
   ]
  },
  {
   "cell_type": "markdown",
   "id": "b87bf0c5",
   "metadata": {},
   "source": [
    "#### All Shortest Path"
   ]
  },
  {
   "cell_type": "code",
   "execution_count": null,
   "id": "91e425cb",
   "metadata": {},
   "outputs": [],
   "source": [
    "list(nx.all_shortest_paths(G,'SPIDER-MAN/PETER PAR','QUILL'))"
   ]
  },
  {
   "cell_type": "code",
   "execution_count": null,
   "id": "574ccbbd",
   "metadata": {},
   "outputs": [],
   "source": [
    "nx.shortest_path_length(G,'SPIDER-MAN/PETER PAR','QUILL')"
   ]
  },
  {
   "cell_type": "markdown",
   "id": "dabb1502",
   "metadata": {},
   "source": [
    "#### Average Path Length"
   ]
  },
  {
   "cell_type": "code",
   "execution_count": null,
   "id": "b6fa64db",
   "metadata": {},
   "outputs": [],
   "source": [
    "nx.average_shortest_path_length(G)"
   ]
  },
  {
   "cell_type": "code",
   "execution_count": null,
   "id": "355e884e-8eaa-4085-87eb-994e8b2dda7f",
   "metadata": {},
   "outputs": [],
   "source": [
    "nx.is_connected(G)"
   ]
  },
  {
   "cell_type": "code",
   "execution_count": null,
   "id": "988e3da9-a68e-432e-8c58-30bb15a7973a",
   "metadata": {},
   "outputs": [],
   "source": [
    "nx.number_connected_components(G)"
   ]
  },
  {
   "cell_type": "code",
   "execution_count": null,
   "id": "1dd6bbdc-0aa2-461b-ba04-29dc5599d2da",
   "metadata": {},
   "outputs": [],
   "source": [
    "largest_cc = max(nx.connected_components(G), key=len)\n",
    "SG=G.subgraph(largest_cc)"
   ]
  },
  {
   "cell_type": "code",
   "execution_count": null,
   "id": "b087d461-b62f-402a-a34c-fc3e587df717",
   "metadata": {},
   "outputs": [],
   "source": [
    "t0= time.process_time()\n",
    "nx.average_shortest_path_length(SG)\n",
    "t1 = time.process_time() - t0\n",
    "print(\"Time elapsed: \", t1)"
   ]
  },
  {
   "cell_type": "markdown",
   "id": "c474a754",
   "metadata": {},
   "source": [
    "#### Diametro"
   ]
  },
  {
   "cell_type": "code",
   "execution_count": null,
   "id": "6546da6b",
   "metadata": {},
   "outputs": [],
   "source": [
    "nx.diameter(G)"
   ]
  },
  {
   "cell_type": "code",
   "execution_count": null,
   "id": "89183559-df55-491d-a420-8934cb428546",
   "metadata": {},
   "outputs": [],
   "source": [
    "t0= time.process_time()\n",
    "nx.diameter(SG)\n",
    "t1 = time.process_time() - t0\n",
    "print(\"Time elapsed: \", t1)"
   ]
  },
  {
   "cell_type": "markdown",
   "id": "ed1dc6e6",
   "metadata": {},
   "source": [
    "#### Densidad"
   ]
  },
  {
   "cell_type": "code",
   "execution_count": null,
   "id": "8634734a",
   "metadata": {},
   "outputs": [],
   "source": [
    "nx.density(G)"
   ]
  },
  {
   "cell_type": "markdown",
   "id": "7798389e",
   "metadata": {},
   "source": [
    "#### Local Clustering Coefficient"
   ]
  },
  {
   "cell_type": "code",
   "execution_count": null,
   "id": "98e2e924",
   "metadata": {},
   "outputs": [],
   "source": [
    "nx.average_clustering(G)"
   ]
  },
  {
   "cell_type": "markdown",
   "id": "6117880c",
   "metadata": {},
   "source": [
    "Elaborado por Luis Cajachahua bajo licencia MIT (2022)"
   ]
  }
 ],
 "metadata": {
  "kernelspec": {
   "display_name": "Python 3",
   "language": "python",
   "name": "python3"
  },
  "language_info": {
   "codemirror_mode": {
    "name": "ipython",
    "version": 3
   },
   "file_extension": ".py",
   "mimetype": "text/x-python",
   "name": "python",
   "nbconvert_exporter": "python",
   "pygments_lexer": "ipython3",
   "version": "3.8.8"
  }
 },
 "nbformat": 4,
 "nbformat_minor": 5
}
