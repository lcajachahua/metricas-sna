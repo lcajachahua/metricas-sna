{
 "cells": [
  {
   "cell_type": "markdown",
   "id": "e1bf30a3-6a0a-4b15-b5dc-6aa1ea140f7f",
   "metadata": {},
   "source": [
    "# Análisis de Portafolios de Inversión con datos de Yahoo Finance\n",
    "#### Descargando los datos\n",
    "Existe una librería llamada yfinance que nos permite descargar series de stocks y rendimientos (https://github.com/ranaroussi/yfinance) de la web Yahoo Finance (https://help.yahoo.com/kb/SLN2311.html)"
   ]
  },
  {
   "cell_type": "code",
   "execution_count": null,
   "id": "3bc7b100-4cd4-40da-9bb1-d263a8c17bb3",
   "metadata": {},
   "outputs": [],
   "source": [
    "!pip install yfinance"
   ]
  },
  {
   "cell_type": "code",
   "execution_count": null,
   "id": "bbb36c53-e69f-4c4b-904e-e602d4872d97",
   "metadata": {},
   "outputs": [],
   "source": [
    "import yfinance as yf"
   ]
  },
  {
   "cell_type": "markdown",
   "id": "66a51cce-88e5-4b6d-8f77-d1f0c349a7a7",
   "metadata": {},
   "source": [
    "Con la función 'yf.download', podemos descargar varias series al mismo tiempo. "
   ]
  },
  {
   "cell_type": "code",
   "execution_count": null,
   "id": "b0cc8805-0155-4493-b4bc-a7a5ead9b001",
   "metadata": {},
   "outputs": [],
   "source": [
    "tickers = ['GOOGL','AAPL','FB','JPM','BAC','HSBC','GOLD','MRNA','JNJ','PFE','COST','WMT','KR']\n",
    "data = yf.download(tickers,auto_adjust=True,start='2017-01-01',end='2022-01-01').dropna()\n",
    "returns,prices = data.Close.pct_change().dropna(),data['Close']\n",
    "returns.head()"
   ]
  },
  {
   "cell_type": "code",
   "execution_count": null,
   "id": "34f56115-3000-43b9-a509-c4fa5cee2aba",
   "metadata": {},
   "outputs": [],
   "source": [
    "prices.head()"
   ]
  },
  {
   "cell_type": "markdown",
   "id": "706c67f7-97ab-42b1-8331-b34e7fa01be7",
   "metadata": {},
   "source": [
    "Podemos visualizar algunas series que nos parezcan interesantes:"
   ]
  },
  {
   "cell_type": "code",
   "execution_count": null,
   "id": "960a49b8-df0a-4f25-97dd-bdd84b582036",
   "metadata": {},
   "outputs": [],
   "source": [
    "prices['AAPL'].plot(title=\"Apple stock price\")"
   ]
  },
  {
   "cell_type": "code",
   "execution_count": null,
   "id": "948bc4c1-5e8b-43b1-8cc4-345341d68cd4",
   "metadata": {},
   "outputs": [],
   "source": [
    "prices['GOOGL'].plot(title=\"Google stock price\")"
   ]
  },
  {
   "cell_type": "markdown",
   "id": "a6e8d1e4-1116-4f21-91d3-ea2f9c1aa909",
   "metadata": {},
   "source": [
    "#### Análisis de Portafolios de Inversión\n",
    "Ahora podemos trabajar con los retornos para encontrar el mix óptimo para invertir (Ejemplo tomado de: https://builtin.com/data-science/portfolio-optimization-python)"
   ]
  },
  {
   "cell_type": "code",
   "execution_count": null,
   "id": "cfac1087-f492-40de-a97a-d546db8a4011",
   "metadata": {},
   "outputs": [],
   "source": [
    "!pip install PyPortfolioOpt"
   ]
  },
  {
   "cell_type": "code",
   "execution_count": null,
   "id": "bad4c164-fec9-4b59-83c5-092bfd0b62bd",
   "metadata": {},
   "outputs": [],
   "source": [
    "from pypfopt.expected_returns import mean_historical_return\n",
    "from pypfopt.risk_models import CovarianceShrinkage\n",
    "from pypfopt.efficient_frontier import EfficientFrontier\n",
    "\n",
    "mu = mean_historical_return(prices)\n",
    "S = CovarianceShrinkage(prices).ledoit_wolf()\n",
    "\n",
    "ef = EfficientFrontier(mu, S)\n",
    "weights = ef.max_sharpe()\n",
    "\n",
    "cleaned_weights = ef.clean_weights()\n",
    "print(dict(cleaned_weights))"
   ]
  },
  {
   "cell_type": "markdown",
   "id": "fddf19a1-a2c6-429c-b315-9f358ad57131",
   "metadata": {},
   "source": [
    "Los pesos resultantes nos dan una idea de cómo es la distribución óptima, utilizando el método básico de Media y Varianza. Podemos calcular la rentabilidad esperada con esta combinación:"
   ]
  },
  {
   "cell_type": "code",
   "execution_count": null,
   "id": "c0bb9419-f256-46ae-898a-c55d01794886",
   "metadata": {},
   "outputs": [],
   "source": [
    "ef.portfolio_performance(verbose=True)"
   ]
  },
  {
   "cell_type": "markdown",
   "id": "b355f076-6658-411d-8b53-ab17f8b16a1e",
   "metadata": {},
   "source": [
    "Finalmente, podemos encontrar la distribución óptima de opciones para una inversión de USD 100k:"
   ]
  },
  {
   "cell_type": "code",
   "execution_count": null,
   "id": "17fa3878-7c73-4d67-8274-8d6ba513b0d1",
   "metadata": {},
   "outputs": [],
   "source": [
    "from pypfopt.discrete_allocation import DiscreteAllocation, get_latest_prices\n",
    "\n",
    "latest_prices = get_latest_prices(prices)\n",
    "\n",
    "da = DiscreteAllocation(weights, latest_prices, total_portfolio_value=100000)\n",
    "\n",
    "allocation, leftover = da.greedy_portfolio()\n",
    "print(\"Discrete allocation:\", allocation)\n",
    "print(\"Funds remaining: ${:.2f}\".format(leftover))"
   ]
  },
  {
   "cell_type": "markdown",
   "id": "e671e479-7e17-4aaa-8d25-a99281a6efed",
   "metadata": {},
   "source": [
    "La estrategia sería comprar 232 opciones de Apple, 60 de CostCo, 83 de Moderna y 1 de Google. Además nos muestra el monto que nos queda de resto."
   ]
  },
  {
   "cell_type": "markdown",
   "id": "668a8a2e-a1f9-4115-9601-8408483a4800",
   "metadata": {},
   "source": [
    "Elaborado por Luis Cajachahua bajo licencia MIT (2022)"
   ]
  }
 ],
 "metadata": {
  "kernelspec": {
   "display_name": "Python 3 (ipykernel)",
   "language": "python",
   "name": "python3"
  },
  "language_info": {
   "codemirror_mode": {
    "name": "ipython",
    "version": 3
   },
   "file_extension": ".py",
   "mimetype": "text/x-python",
   "name": "python",
   "nbconvert_exporter": "python",
   "pygments_lexer": "ipython3",
   "version": "3.9.7"
  }
 },
 "nbformat": 4,
 "nbformat_minor": 5
}
