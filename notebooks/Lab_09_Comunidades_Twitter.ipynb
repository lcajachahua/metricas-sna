{
 "cells": [
  {
   "cell_type": "markdown",
   "id": "64517fc2",
   "metadata": {},
   "source": [
    "# Detección de Comunidades en Twitter"
   ]
  },
  {
   "cell_type": "markdown",
   "id": "a7d71f0f",
   "metadata": {},
   "source": [
    "## Cargar el archivo\n",
    "Se extrajeron tweets del año 2016 en los que se menciona al BBVA de la solución GNIP\n",
    "\n",
    "Instalamos la librería necesaria para leer archivos de Excel"
   ]
  },
  {
   "cell_type": "code",
   "execution_count": null,
   "id": "c086f9f8",
   "metadata": {},
   "outputs": [],
   "source": [
    "##pip install openpyxl"
   ]
  },
  {
   "cell_type": "code",
   "execution_count": null,
   "id": "68915d24-e5ba-4aba-9917-d50fd9412b20",
   "metadata": {},
   "outputs": [],
   "source": [
    "import pandas as pd\n",
    "import numpy as np \n",
    "import matplotlib.pyplot as plt\n",
    "import networkx as nx\n",
    "from networkx.algorithms import community\n",
    "import time"
   ]
  },
  {
   "cell_type": "code",
   "execution_count": null,
   "id": "44286594",
   "metadata": {},
   "outputs": [],
   "source": [
    "df = pd.read_excel('../data/Tweets_BBVA.xlsx')\n",
    "df.head()"
   ]
  },
  {
   "cell_type": "markdown",
   "id": "71ded9d7",
   "metadata": {},
   "source": [
    "Revisamos los nombres de todas las columnas"
   ]
  },
  {
   "cell_type": "code",
   "execution_count": null,
   "id": "4fb37031",
   "metadata": {},
   "outputs": [],
   "source": [
    "df.info()"
   ]
  },
  {
   "cell_type": "markdown",
   "id": "7dbf8154-0dd7-4ac0-a35a-2abec5d4c999",
   "metadata": {},
   "source": [
    "Creamos g1 como las relaciones de retuiteo (Se descartan los que no hicieron retuit)"
   ]
  },
  {
   "cell_type": "code",
   "execution_count": null,
   "id": "ec8d4b88-2969-4668-b770-90c77fd1a9f6",
   "metadata": {},
   "outputs": [],
   "source": [
    "g1 = df[['preferredUsername', 'actor.preferredUsername']][df['actor.preferredUsername'].notnull()]\n",
    "g1.head()"
   ]
  },
  {
   "cell_type": "markdown",
   "id": "531cf607-b2ab-48f1-978f-a24910f445c0",
   "metadata": {},
   "source": [
    "Creamos g2 para almacenar las relaciones de mención dentro del tweet (Se descartan los que no mencionan a nadie)"
   ]
  },
  {
   "cell_type": "code",
   "execution_count": null,
   "id": "c359e6fe-8525-4cab-9e1f-d39956286f72",
   "metadata": {},
   "outputs": [],
   "source": [
    "g2 = df[['preferredUsername', 'user_mention_screen_names']][df['user_mention_screen_names'].notnull()]\n",
    "g2.head()"
   ]
  },
  {
   "cell_type": "markdown",
   "id": "65b86fe2-6efc-48c5-8a64-9aa6956cb270",
   "metadata": {},
   "source": [
    "Creamos una lista 's' que contiene todos los mencionados desagrupados (uno por línea)"
   ]
  },
  {
   "cell_type": "code",
   "execution_count": null,
   "id": "6abd93fd-7340-4235-818f-f22b66832f70",
   "metadata": {},
   "outputs": [],
   "source": [
    "s = g2['user_mention_screen_names'].str.split(',').apply(pd.Series, 1).stack()\n",
    "s.index = s.index.droplevel(-1)\n",
    "s.name = 'actor.preferredUsername'"
   ]
  },
  {
   "cell_type": "markdown",
   "id": "3839b48a-c0c5-454a-b260-45953177425b",
   "metadata": {},
   "source": [
    "Eliminamos de g2 la columna agrupada"
   ]
  },
  {
   "cell_type": "code",
   "execution_count": null,
   "id": "07261c5e-5b74-4b25-9804-70da46d3275a",
   "metadata": {},
   "outputs": [],
   "source": [
    "del g2['user_mention_screen_names']"
   ]
  },
  {
   "cell_type": "markdown",
   "id": "f8b5b75e-1921-4433-b0a3-1b0bb40e429e",
   "metadata": {},
   "source": [
    "Agregamos a g2 la nueva columna desagrupada, haciendo join por el campo 'preferredUsername'"
   ]
  },
  {
   "cell_type": "code",
   "execution_count": null,
   "id": "16f93b5b-7315-4344-bbac-b4dc6fd2e531",
   "metadata": {},
   "outputs": [],
   "source": [
    "g2=g2.join(s)"
   ]
  },
  {
   "cell_type": "markdown",
   "id": "94ac1644-f823-4cc2-838b-78f8a1835f8a",
   "metadata": {},
   "source": [
    "Unimos los dos dataframes, eliminando las relaciones duplicadas"
   ]
  },
  {
   "cell_type": "code",
   "execution_count": null,
   "id": "745622c2-9a27-46d0-a0a6-61839602258c",
   "metadata": {},
   "outputs": [],
   "source": [
    "h = pd.concat([g1, g2]).drop_duplicates()\n",
    "h.info()"
   ]
  },
  {
   "cell_type": "markdown",
   "id": "feaa8c58-058c-47b4-81ff-a263073d15f2",
   "metadata": {},
   "source": [
    "Nos ha quedado la lista de pares de usuarios donde el primero referencia al segundo"
   ]
  },
  {
   "cell_type": "code",
   "execution_count": null,
   "id": "b8d0c6bc-2d1f-4a3c-bbf6-fd28fd612348",
   "metadata": {},
   "outputs": [],
   "source": [
    "h.head()"
   ]
  },
  {
   "cell_type": "markdown",
   "id": "70a347b3",
   "metadata": {},
   "source": [
    "Transformamos el DataFrame en un Grafo Dirigido"
   ]
  },
  {
   "cell_type": "code",
   "execution_count": null,
   "id": "83920e28",
   "metadata": {},
   "outputs": [],
   "source": [
    "G = nx.from_pandas_edgelist(h, source = 'preferredUsername', target = 'actor.preferredUsername')\n",
    "print(nx.info(G))"
   ]
  },
  {
   "cell_type": "markdown",
   "id": "606b81f9",
   "metadata": {},
   "source": [
    "Crear la función top_nodes que mostrará los valores más altos de un diccionario"
   ]
  },
  {
   "cell_type": "code",
   "execution_count": null,
   "id": "b9705c28",
   "metadata": {},
   "outputs": [],
   "source": [
    "def get_top_nodes(cdict, num=5):\n",
    "    top_nodes ={}\n",
    "    for i in range(num):\n",
    "        top_nodes =dict(\n",
    "            sorted(cdict.items(), key=lambda x: x[1], reverse=True)[:num]\n",
    "            )\n",
    "        return top_nodes"
   ]
  },
  {
   "cell_type": "markdown",
   "id": "3869f316",
   "metadata": {},
   "source": [
    "#### Grado"
   ]
  },
  {
   "cell_type": "markdown",
   "id": "c97e9afe",
   "metadata": {},
   "source": [
    "Guardar el grado de cada nodo en un diccionario"
   ]
  },
  {
   "cell_type": "code",
   "execution_count": null,
   "id": "683ceeb2",
   "metadata": {},
   "outputs": [],
   "source": [
    "gdeg=G.degree()"
   ]
  },
  {
   "cell_type": "code",
   "execution_count": null,
   "id": "d36ae6a0",
   "metadata": {},
   "outputs": [],
   "source": [
    "get_top_nodes(dict(gdeg))"
   ]
  },
  {
   "cell_type": "markdown",
   "id": "db1c7a75",
   "metadata": {},
   "source": [
    "#### Degree Centrality"
   ]
  },
  {
   "cell_type": "code",
   "execution_count": null,
   "id": "f3b13d36",
   "metadata": {},
   "outputs": [],
   "source": [
    "degree_centrality =nx.degree_centrality(G)\n",
    "nx.set_node_attributes(G,degree_centrality, 'dc')\n",
    "get_top_nodes(degree_centrality)"
   ]
  },
  {
   "cell_type": "markdown",
   "id": "976925ff",
   "metadata": {},
   "source": [
    "#### Betweenness"
   ]
  },
  {
   "cell_type": "code",
   "execution_count": null,
   "id": "8b6b45e3",
   "metadata": {},
   "outputs": [],
   "source": [
    "betweenness_centrality = nx.betweenness_centrality(G)\n",
    "nx.set_node_attributes(G,betweenness_centrality, 'bc')\n",
    "get_top_nodes(betweenness_centrality)"
   ]
  },
  {
   "cell_type": "markdown",
   "id": "775c7634",
   "metadata": {},
   "source": [
    "#### Closeness"
   ]
  },
  {
   "cell_type": "code",
   "execution_count": null,
   "id": "5a72768e",
   "metadata": {},
   "outputs": [],
   "source": [
    "closeness_centrality =nx.closeness_centrality(G)\n",
    "nx.set_node_attributes(G,closeness_centrality, 'cc')\n",
    "get_top_nodes(closeness_centrality)"
   ]
  },
  {
   "cell_type": "markdown",
   "id": "c51b3635",
   "metadata": {},
   "source": [
    "#### PageRank Centrality"
   ]
  },
  {
   "cell_type": "code",
   "execution_count": null,
   "id": "509f69b6",
   "metadata": {},
   "outputs": [],
   "source": [
    "pagerank_centrality =nx.pagerank(G)\n",
    "nx.set_node_attributes(G, pagerank_centrality, 'pr')\n",
    "get_top_nodes(pagerank_centrality)"
   ]
  },
  {
   "cell_type": "markdown",
   "id": "11622421",
   "metadata": {},
   "source": [
    "## Identificando las Comunidades"
   ]
  },
  {
   "cell_type": "markdown",
   "id": "e2dc113b",
   "metadata": {},
   "source": [
    "#### Densidad"
   ]
  },
  {
   "cell_type": "code",
   "execution_count": null,
   "id": "32ed7e85",
   "metadata": {},
   "outputs": [],
   "source": [
    "nx.density(G)"
   ]
  },
  {
   "cell_type": "markdown",
   "id": "cdb01b9d-82b8-413c-be45-13ecaacf8787",
   "metadata": {},
   "source": [
    "Definiendo algunas propiedades para las visualizaciones"
   ]
  },
  {
   "cell_type": "code",
   "execution_count": null,
   "id": "8c462e23-bab4-4977-84a8-7cf204afd441",
   "metadata": {},
   "outputs": [],
   "source": [
    "H = nx.convert_node_labels_to_integers(G,label_attribute='old_label')"
   ]
  },
  {
   "cell_type": "code",
   "execution_count": null,
   "id": "a16ddf60-d17f-4191-b2c2-80b9599edf29",
   "metadata": {},
   "outputs": [],
   "source": [
    "pos = nx.spring_layout(H, k=0.3)"
   ]
  },
  {
   "cell_type": "code",
   "execution_count": null,
   "id": "3f89ff29-4b05-41bc-8146-630f29c6db98",
   "metadata": {},
   "outputs": [],
   "source": [
    "from random import randint\n",
    "colors = []\n",
    "n = 1000\n",
    "for i in range(n):\n",
    "    colors.append('#%06X' % randint(0, 0xFFFFFF))"
   ]
  },
  {
   "cell_type": "markdown",
   "id": "54f3150d-eec6-40e9-9e52-2c7f5fada8d7",
   "metadata": {},
   "source": [
    "#### Algoritmo Label Propagation"
   ]
  },
  {
   "cell_type": "code",
   "execution_count": null,
   "id": "077b5664-8d28-4c78-9467-373adb0c939c",
   "metadata": {},
   "outputs": [],
   "source": [
    "cluslprop=community.label_propagation_communities(H)"
   ]
  },
  {
   "cell_type": "code",
   "execution_count": null,
   "id": "5efaa244-4f0f-454d-a0c9-277edaddee09",
   "metadata": {},
   "outputs": [],
   "source": [
    "color_map_b = [\"black\"] * nx.number_of_nodes(H)\n",
    "counter = 0\n",
    "for c in cluslprop:\n",
    "    for n in c:\n",
    "        color_map_b[n] = colors[counter]\n",
    "    counter = counter + 1\n",
    "plt.figure(figsize=(80,45))\n",
    "nx.draw_networkx_edges(H, pos)\n",
    "nx.draw_networkx_nodes(H, pos, node_size=10, node_color=color_map_b)\n",
    "nx.draw_networkx_labels(H, pos, alpha=.1)\n",
    "plt.show()"
   ]
  },
  {
   "cell_type": "code",
   "execution_count": null,
   "id": "8f81925f-5102-44f9-ba5a-5a2a6bf42cf5",
   "metadata": {},
   "outputs": [],
   "source": []
  },
  {
   "cell_type": "markdown",
   "id": "4b53bc82-4e63-4799-92a4-08078413ba60",
   "metadata": {},
   "source": [
    "#### Algoritmo Greedy Modularity"
   ]
  },
  {
   "cell_type": "code",
   "execution_count": null,
   "id": "90fd386b-4024-4b03-a310-5049ba3cd5e5",
   "metadata": {},
   "outputs": [],
   "source": [
    "clusgmod = community.greedy_modularity_communities(H)"
   ]
  },
  {
   "cell_type": "code",
   "execution_count": null,
   "id": "69f3b630-5a74-4b82-a450-e2e2670a4a2b",
   "metadata": {},
   "outputs": [],
   "source": [
    "color_map_b = [\"black\"] * nx.number_of_nodes(H)\n",
    "counter = 0\n",
    "for c in clusgmod:\n",
    "    for n in c:\n",
    "        color_map_b[n] = colors[counter]\n",
    "    counter = counter + 1\n",
    "plt.figure(figsize=(80,45))\n",
    "nx.draw_networkx_edges(H, pos)\n",
    "nx.draw_networkx_nodes(H, pos, node_size=10, node_color=color_map_b)\n",
    "nx.draw_networkx_labels(H, pos, alpha=.1)\n",
    "plt.show()"
   ]
  },
  {
   "cell_type": "code",
   "execution_count": null,
   "id": "5adf3996-80f8-4497-8baf-6b28f285259b",
   "metadata": {},
   "outputs": [],
   "source": []
  },
  {
   "cell_type": "markdown",
   "id": "f6579a67-e885-4999-83aa-3f5b01d6029e",
   "metadata": {},
   "source": [
    "#### Algoritmo Louvain\n",
    "Ejecutamos el script functions.py para cargar todas las funciones que se necesitan"
   ]
  },
  {
   "cell_type": "code",
   "execution_count": null,
   "id": "bc410fee-ccac-4653-aabf-b3495033ef33",
   "metadata": {},
   "outputs": [],
   "source": [
    "%run functions.py"
   ]
  },
  {
   "cell_type": "code",
   "execution_count": null,
   "id": "0fe73034-6846-44db-87f6-2414b4d8a53d",
   "metadata": {},
   "outputs": [],
   "source": [
    "cluslouv = get_clusters(H,louvain(H))"
   ]
  },
  {
   "cell_type": "code",
   "execution_count": null,
   "id": "c1f3ecc2-c7be-4f7a-8721-c746addd589b",
   "metadata": {},
   "outputs": [],
   "source": [
    "plt.figure(figsize=(32,18))\n",
    "for cluster,nodes in cluslouv.items():\n",
    "  nx.draw_networkx_nodes(H, pos, node_size=10, nodelist=nodes, node_color=colors[cluster%len(colors)])\n",
    "nx.draw_networkx_edges(H, pos, alpha=.1)"
   ]
  },
  {
   "cell_type": "code",
   "execution_count": null,
   "id": "17d8d1a6-d706-40b1-b2c2-2111e9fe7c05",
   "metadata": {},
   "outputs": [],
   "source": [
    "cluslouv.items()"
   ]
  },
  {
   "cell_type": "markdown",
   "id": "7caf5de9-2218-41a5-9fdf-c1c17d4fdb5d",
   "metadata": {},
   "source": []
  },
  {
   "cell_type": "markdown",
   "id": "0bae14b6",
   "metadata": {},
   "source": [
    "Elaborado por Luis Cajachahua bajo licencia MIT (2021)"
   ]
  }
 ],
 "metadata": {
  "kernelspec": {
   "display_name": "Python 3",
   "language": "python",
   "name": "python3"
  },
  "language_info": {
   "codemirror_mode": {
    "name": "ipython",
    "version": 3
   },
   "file_extension": ".py",
   "mimetype": "text/x-python",
   "name": "python",
   "nbconvert_exporter": "python",
   "pygments_lexer": "ipython3",
   "version": "3.8.8"
  }
 },
 "nbformat": 4,
 "nbformat_minor": 5
}
