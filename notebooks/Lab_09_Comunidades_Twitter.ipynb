{
 "cells": [
  {
   "cell_type": "markdown",
   "id": "64517fc2",
   "metadata": {},
   "source": [
    "# Detección de Comunidades en Twitter"
   ]
  },
  {
   "cell_type": "markdown",
   "id": "a7d71f0f",
   "metadata": {},
   "source": [
    "## Cargar el archivo\n",
    "Se extrajeron tweets del año 2016 en los que se menciona al BBVA de la solución GNIP"
   ]
  },
  {
   "cell_type": "code",
   "execution_count": null,
   "id": "c086f9f8",
   "metadata": {},
   "outputs": [],
   "source": [
    "pip install openpyxl"
   ]
  },
  {
   "cell_type": "code",
   "execution_count": null,
   "id": "68915d24-e5ba-4aba-9917-d50fd9412b20",
   "metadata": {},
   "outputs": [],
   "source": [
    "import pandas as pd\n",
    "import numpy as np \n",
    "import matplotlib.pyplot as plt\n",
    "import networkx as nx\n",
    "from networkx.algorithms import community\n",
    "import time"
   ]
  },
  {
   "cell_type": "code",
   "execution_count": null,
   "id": "44286594",
   "metadata": {},
   "outputs": [],
   "source": [
    "df = pd.read_excel('../data/Tweets_BBVA.xlsx')\n",
    "df.head()"
   ]
  },
  {
   "cell_type": "markdown",
   "id": "71ded9d7",
   "metadata": {},
   "source": [
    "Revisamos la información del DataFrame"
   ]
  },
  {
   "cell_type": "code",
   "execution_count": null,
   "id": "4fb37031",
   "metadata": {},
   "outputs": [],
   "source": [
    "df.info()"
   ]
  },
  {
   "cell_type": "code",
   "execution_count": null,
   "id": "ec8d4b88-2969-4668-b770-90c77fd1a9f6",
   "metadata": {},
   "outputs": [],
   "source": [
    "g1 = df[['preferredUsername', 'actor.preferredUsername']][df['actor.preferredUsername'].notnull()]\n",
    "g1.head()"
   ]
  },
  {
   "cell_type": "code",
   "execution_count": null,
   "id": "c359e6fe-8525-4cab-9e1f-d39956286f72",
   "metadata": {},
   "outputs": [],
   "source": [
    "g2 = df[['preferredUsername', 'user_mention_screen_names']][df['user_mention_screen_names'].notnull()]\n",
    "g2.head()"
   ]
  },
  {
   "cell_type": "code",
   "execution_count": null,
   "id": "6abd93fd-7340-4235-818f-f22b66832f70",
   "metadata": {},
   "outputs": [],
   "source": [
    "s = g2['user_mention_screen_names'].str.split(',').apply(pd.Series, 1).stack()\n",
    "s.index = s.index.droplevel(-1)\n",
    "s.name = 'actor.preferredUsername'"
   ]
  },
  {
   "cell_type": "code",
   "execution_count": null,
   "id": "cbdb23e5-f452-4096-b2c2-6f0da9d22c93",
   "metadata": {},
   "outputs": [],
   "source": []
  },
  {
   "cell_type": "code",
   "execution_count": null,
   "id": "07261c5e-5b74-4b25-9804-70da46d3275a",
   "metadata": {},
   "outputs": [],
   "source": [
    "del g2['user_mention_screen_names']"
   ]
  },
  {
   "cell_type": "code",
   "execution_count": null,
   "id": "16f93b5b-7315-4344-bbac-b4dc6fd2e531",
   "metadata": {},
   "outputs": [],
   "source": [
    "g2=g2.join(s)"
   ]
  },
  {
   "cell_type": "code",
   "execution_count": null,
   "id": "694ac59c-4eb6-455f-a15a-bb2a0946b5a0",
   "metadata": {},
   "outputs": [],
   "source": []
  },
  {
   "cell_type": "code",
   "execution_count": null,
   "id": "745622c2-9a27-46d0-a0a6-61839602258c",
   "metadata": {},
   "outputs": [],
   "source": [
    "h = pd.concat([g1, g2]).drop_duplicates()\n",
    "h.info()"
   ]
  },
  {
   "cell_type": "code",
   "execution_count": null,
   "id": "b8d0c6bc-2d1f-4a3c-bbf6-fd28fd612348",
   "metadata": {},
   "outputs": [],
   "source": []
  },
  {
   "cell_type": "markdown",
   "id": "70a347b3",
   "metadata": {},
   "source": [
    "Transformamos el DataFrame en un Grafo Dirigido"
   ]
  },
  {
   "cell_type": "code",
   "execution_count": null,
   "id": "83920e28",
   "metadata": {},
   "outputs": [],
   "source": [
    "G = nx.from_pandas_edgelist(h, source = 'preferredUsername', target = 'actor.preferredUsername', create_using=nx.DiGraph())\n",
    "print(nx.info(G))"
   ]
  },
  {
   "cell_type": "markdown",
   "id": "606b81f9",
   "metadata": {},
   "source": [
    "Crear la función top_nodes que mostrará los valores más altos de un diccionario"
   ]
  },
  {
   "cell_type": "code",
   "execution_count": null,
   "id": "b9705c28",
   "metadata": {},
   "outputs": [],
   "source": [
    "def get_top_nodes(cdict, num=5):\n",
    "    top_nodes ={}\n",
    "    for i in range(num):\n",
    "        top_nodes =dict(\n",
    "            sorted(cdict.items(), key=lambda x: x[1], reverse=True)[:num]\n",
    "            )\n",
    "        return top_nodes"
   ]
  },
  {
   "cell_type": "markdown",
   "id": "3869f316",
   "metadata": {},
   "source": [
    "#### Grado"
   ]
  },
  {
   "cell_type": "markdown",
   "id": "c97e9afe",
   "metadata": {},
   "source": [
    "Guardar el grado de cada nodo en un diccionario"
   ]
  },
  {
   "cell_type": "code",
   "execution_count": null,
   "id": "683ceeb2",
   "metadata": {},
   "outputs": [],
   "source": [
    "gdeg=G.degree()"
   ]
  },
  {
   "cell_type": "code",
   "execution_count": null,
   "id": "d36ae6a0",
   "metadata": {},
   "outputs": [],
   "source": [
    "get_top_nodes(dict(gdeg))"
   ]
  },
  {
   "cell_type": "markdown",
   "id": "b8d077f5",
   "metadata": {},
   "source": [
    "#### In-Degree"
   ]
  },
  {
   "cell_type": "code",
   "execution_count": null,
   "id": "066edeaa",
   "metadata": {},
   "outputs": [],
   "source": [
    "indeg=G.in_degree()\n",
    "get_top_nodes(dict(indeg))"
   ]
  },
  {
   "cell_type": "markdown",
   "id": "f86037bd",
   "metadata": {},
   "source": [
    "#### Out-Degree"
   ]
  },
  {
   "cell_type": "code",
   "execution_count": null,
   "id": "ed815a06",
   "metadata": {},
   "outputs": [],
   "source": [
    "outdeg=G.out_degree()\n",
    "get_top_nodes(dict(outdeg))"
   ]
  },
  {
   "cell_type": "markdown",
   "id": "db1c7a75",
   "metadata": {},
   "source": [
    "#### Degree Centrality"
   ]
  },
  {
   "cell_type": "code",
   "execution_count": null,
   "id": "f3b13d36",
   "metadata": {},
   "outputs": [],
   "source": [
    "degree_centrality =nx.degree_centrality(G)\n",
    "nx.set_node_attributes(G,degree_centrality, 'dc')\n",
    "get_top_nodes(degree_centrality)"
   ]
  },
  {
   "cell_type": "markdown",
   "id": "976925ff",
   "metadata": {},
   "source": [
    "#### Betweenness"
   ]
  },
  {
   "cell_type": "code",
   "execution_count": null,
   "id": "8b6b45e3",
   "metadata": {},
   "outputs": [],
   "source": [
    "t0= time.process_time()\n",
    "\n",
    "betweenness_centrality = nx.betweenness_centrality(G)\n",
    "nx.set_node_attributes(G,betweenness_centrality, 'bc')\n",
    "\n",
    "t1 = time.process_time() - t0\n",
    "print(\"Time elapsed: \", t1)"
   ]
  },
  {
   "cell_type": "code",
   "execution_count": null,
   "id": "666cb943",
   "metadata": {},
   "outputs": [],
   "source": [
    "get_top_nodes(betweenness_centrality)"
   ]
  },
  {
   "cell_type": "markdown",
   "id": "775c7634",
   "metadata": {},
   "source": [
    "#### Closeness"
   ]
  },
  {
   "cell_type": "code",
   "execution_count": null,
   "id": "5a72768e",
   "metadata": {},
   "outputs": [],
   "source": [
    "closeness_centrality =nx.closeness_centrality(G)\n",
    "nx.set_node_attributes(G,closeness_centrality, 'cc')"
   ]
  },
  {
   "cell_type": "code",
   "execution_count": null,
   "id": "09904a61",
   "metadata": {},
   "outputs": [],
   "source": [
    "get_top_nodes(closeness_centrality)"
   ]
  },
  {
   "cell_type": "markdown",
   "id": "68a3d137",
   "metadata": {},
   "source": [
    "#### Eigenvector Centrality"
   ]
  },
  {
   "cell_type": "code",
   "execution_count": null,
   "id": "addee212",
   "metadata": {},
   "outputs": [],
   "source": [
    "eigenvector_centrality = nx.eigenvector_centrality(G)\n",
    "nx.set_node_attributes(G, eigenvector_centrality,'ec')"
   ]
  },
  {
   "cell_type": "code",
   "execution_count": null,
   "id": "625b3092",
   "metadata": {},
   "outputs": [],
   "source": [
    "get_top_nodes(eigenvector_centrality)"
   ]
  },
  {
   "cell_type": "markdown",
   "id": "c51b3635",
   "metadata": {},
   "source": [
    "#### PageRank Centrality"
   ]
  },
  {
   "cell_type": "code",
   "execution_count": null,
   "id": "509f69b6",
   "metadata": {},
   "outputs": [],
   "source": [
    "pagerank_centrality =nx.pagerank(G)\n",
    "nx.set_node_attributes(G, pagerank_centrality, 'pr')"
   ]
  },
  {
   "cell_type": "code",
   "execution_count": null,
   "id": "f919b18d",
   "metadata": {},
   "outputs": [],
   "source": [
    "get_top_nodes(pagerank_centrality)"
   ]
  },
  {
   "cell_type": "markdown",
   "id": "11622421",
   "metadata": {},
   "source": [
    "## Métricas de Grafo"
   ]
  },
  {
   "cell_type": "markdown",
   "id": "e2dc113b",
   "metadata": {},
   "source": [
    "#### Densidad"
   ]
  },
  {
   "cell_type": "code",
   "execution_count": null,
   "id": "32ed7e85",
   "metadata": {},
   "outputs": [],
   "source": [
    "nx.density(G)"
   ]
  },
  {
   "cell_type": "markdown",
   "id": "f1b53027",
   "metadata": {},
   "source": [
    "#### Local Clustering Coefficient"
   ]
  },
  {
   "cell_type": "code",
   "execution_count": null,
   "id": "69146b98",
   "metadata": {},
   "outputs": [],
   "source": [
    "nx.average_clustering(G)"
   ]
  },
  {
   "cell_type": "code",
   "execution_count": null,
   "id": "9e0c53ce-d4c9-4101-868a-e14b612bd1e9",
   "metadata": {},
   "outputs": [],
   "source": []
  },
  {
   "cell_type": "code",
   "execution_count": null,
   "id": "85dc30fc-badb-4530-822d-c9659b8cb0ee",
   "metadata": {},
   "outputs": [],
   "source": [
    "communities = community.centrality.girvan_newman(G)"
   ]
  },
  {
   "cell_type": "code",
   "execution_count": null,
   "id": "11f87806-be04-43b4-9466-6ac17b888f2c",
   "metadata": {},
   "outputs": [],
   "source": [
    "node_groups = []\n",
    "for com in next(communities):\n",
    "    node_groups.append(list(com))\n",
    "#print(node_groups)"
   ]
  },
  {
   "cell_type": "code",
   "execution_count": null,
   "id": "2de3b4f3-a827-4917-9a3e-5d3fdb33a8f7",
   "metadata": {},
   "outputs": [],
   "source": [
    "len(node_groups)"
   ]
  },
  {
   "cell_type": "code",
   "execution_count": null,
   "id": "ae7393e4-9fba-4933-82f9-3bf0b47230b4",
   "metadata": {},
   "outputs": [],
   "source": []
  },
  {
   "cell_type": "code",
   "execution_count": null,
   "id": "90fd386b-4024-4b03-a310-5049ba3cd5e5",
   "metadata": {},
   "outputs": [],
   "source": []
  },
  {
   "cell_type": "code",
   "execution_count": null,
   "id": "69f3b630-5a74-4b82-a450-e2e2670a4a2b",
   "metadata": {},
   "outputs": [],
   "source": []
  },
  {
   "cell_type": "markdown",
   "id": "0d93dfcb-ab9a-415a-91bb-7d880868904a",
   "metadata": {},
   "source": [
    "## Pregunta\n",
    "¿Cuáles son las principales diferencias entre el cálculo de métricas entre grafos dirigidos y no dirigidos? ¿Cuáles ejecutan más rápido? ¿Hay alguna que no se pueda calcular para uno de los tipos? (Explique en no más de 300 palabras)"
   ]
  },
  {
   "cell_type": "markdown",
   "id": "7caf5de9-2218-41a5-9fdf-c1c17d4fdb5d",
   "metadata": {},
   "source": []
  },
  {
   "cell_type": "markdown",
   "id": "0bae14b6",
   "metadata": {},
   "source": [
    "Elaborado por Luis Cajachahua bajo licencia MIT (2021)"
   ]
  }
 ],
 "metadata": {
  "kernelspec": {
   "display_name": "Python 3",
   "language": "python",
   "name": "python3"
  },
  "language_info": {
   "codemirror_mode": {
    "name": "ipython",
    "version": 3
   },
   "file_extension": ".py",
   "mimetype": "text/x-python",
   "name": "python",
   "nbconvert_exporter": "python",
   "pygments_lexer": "ipython3",
   "version": "3.7.8"
  }
 },
 "nbformat": 4,
 "nbformat_minor": 5
}
