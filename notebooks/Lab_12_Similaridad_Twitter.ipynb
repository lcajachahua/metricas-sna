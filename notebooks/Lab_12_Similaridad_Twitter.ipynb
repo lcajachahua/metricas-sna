{
 "cells": [
  {
   "cell_type": "markdown",
   "id": "64517fc2",
   "metadata": {},
   "source": [
    "# Análisis de Similaridad en Twitter"
   ]
  },
  {
   "cell_type": "markdown",
   "id": "a7d71f0f",
   "metadata": {},
   "source": [
    "## Cargar el archivo\n",
    "Se extrajeron tweets del año 2016 en los que se menciona al BBVA de la solución GNIP\n",
    "\n",
    "Instalamos la librería necesaria para leer archivos de Excel"
   ]
  },
  {
   "cell_type": "code",
   "execution_count": null,
   "id": "c086f9f8",
   "metadata": {},
   "outputs": [],
   "source": [
    "#pip install openpyxl"
   ]
  },
  {
   "cell_type": "code",
   "execution_count": null,
   "id": "68915d24-e5ba-4aba-9917-d50fd9412b20",
   "metadata": {},
   "outputs": [],
   "source": [
    "import pandas as pd\n",
    "import numpy as np \n",
    "import matplotlib.pyplot as plt\n",
    "import networkx as nx\n",
    "from networkx.algorithms import community\n",
    "import time"
   ]
  },
  {
   "cell_type": "code",
   "execution_count": null,
   "id": "44286594",
   "metadata": {},
   "outputs": [],
   "source": [
    "df = pd.read_excel('../data/Tweets_BBVA.xlsx', index_col=\"id\")\n",
    "df.head()"
   ]
  },
  {
   "cell_type": "markdown",
   "id": "71ded9d7",
   "metadata": {},
   "source": [
    "Extraemos el campo \"body\" que contiene el tweet"
   ]
  },
  {
   "cell_type": "code",
   "execution_count": null,
   "id": "4fb37031",
   "metadata": {},
   "outputs": [],
   "source": [
    "tweet = df[\"body\"][1:500]\n",
    "tweet.head()"
   ]
  },
  {
   "cell_type": "markdown",
   "id": "7dbf8154-0dd7-4ac0-a35a-2abec5d4c999",
   "metadata": {},
   "source": [
    "#### Creamos la Matriz Documento-Término con CountVectorizer"
   ]
  },
  {
   "cell_type": "code",
   "execution_count": null,
   "id": "ec8d4b88-2969-4668-b770-90c77fd1a9f6",
   "metadata": {},
   "outputs": [],
   "source": [
    "from sklearn.feature_extraction.text import CountVectorizer"
   ]
  },
  {
   "cell_type": "code",
   "execution_count": null,
   "id": "dd05303d-4d84-49e1-87ee-d718dbc41a7a",
   "metadata": {},
   "outputs": [],
   "source": [
    "vec = CountVectorizer()\n",
    "X = vec.fit_transform(tweet)"
   ]
  },
  {
   "cell_type": "code",
   "execution_count": null,
   "id": "ed8c7d92-f9ce-443b-8c2b-2f27efe47185",
   "metadata": {},
   "outputs": [],
   "source": [
    "dtm = pd.DataFrame(X.toarray().transpose(), index=vec.get_feature_names())\n",
    "dtm.columns = tweet.index\n",
    "dtm.head()"
   ]
  },
  {
   "cell_type": "markdown",
   "id": "a4b3ebbd-36f5-431b-bf3d-dcb170e67b24",
   "metadata": {},
   "source": [
    "#### Creamos la Matriz Documento-Término con TfidfVectorizer"
   ]
  },
  {
   "cell_type": "markdown",
   "id": "531cf607-b2ab-48f1-978f-a24910f445c0",
   "metadata": {},
   "source": [
    "Es otra opción, considerando la Frecuencia Inversa de los Términos"
   ]
  },
  {
   "cell_type": "code",
   "execution_count": null,
   "id": "c359e6fe-8525-4cab-9e1f-d39956286f72",
   "metadata": {},
   "outputs": [],
   "source": [
    "from sklearn.feature_extraction.text import TfidfVectorizer"
   ]
  },
  {
   "cell_type": "code",
   "execution_count": null,
   "id": "94157389-32bc-47dd-8a5f-86b586414944",
   "metadata": {},
   "outputs": [],
   "source": [
    "vectorizer = TfidfVectorizer()\n",
    "doc_vec = vectorizer.fit_transform(tweet)"
   ]
  },
  {
   "cell_type": "code",
   "execution_count": null,
   "id": "5e3b43b9-b97e-42d5-88fc-e0be697ea777",
   "metadata": {},
   "outputs": [],
   "source": [
    "dtm2 = pd.DataFrame(doc_vec.toarray().transpose(),\n",
    "                   index=vectorizer.get_feature_names())\n",
    "dtm2.columns = tweet.index\n",
    "dtm2.head()"
   ]
  },
  {
   "cell_type": "markdown",
   "id": "65b86fe2-6efc-48c5-8a64-9aa6956cb270",
   "metadata": {},
   "source": [
    "Calculamos la matriz de correlaciones"
   ]
  },
  {
   "cell_type": "code",
   "execution_count": null,
   "id": "6abd93fd-7340-4235-818f-f22b66832f70",
   "metadata": {},
   "outputs": [],
   "source": [
    "matcor = dtm.corr()\n",
    "matcor.head()"
   ]
  },
  {
   "cell_type": "markdown",
   "id": "3839b48a-c0c5-454a-b260-45953177425b",
   "metadata": {},
   "source": [
    "Transformamos la matriz en un DataFrame de input para el Grafo"
   ]
  },
  {
   "cell_type": "code",
   "execution_count": null,
   "id": "aabd0e63-a8df-4382-8883-36e28a635f1e",
   "metadata": {},
   "outputs": [],
   "source": [
    "cordf = pd.DataFrame()\n",
    "cordf = pd.DataFrame(columns = ['inicio', 'fin', 'peso'])\n",
    "for i in matcor.index:\n",
    "    for j in matcor.index:\n",
    "        if i<j:\n",
    "            try:\n",
    "                w=matcor.loc[i,j]\n",
    "                cordf = cordf.append({'inicio' : i, 'fin' : j, 'peso' : w}, ignore_index = True)\n",
    "            except Exception:\n",
    "                pass"
   ]
  },
  {
   "cell_type": "markdown",
   "id": "fcad2069-765e-4ec7-b788-4b07c9b17c1f",
   "metadata": {},
   "source": [
    "Filtramos las correlaciones bajas y monstramos las más altas"
   ]
  },
  {
   "cell_type": "code",
   "execution_count": null,
   "id": "8b4f8f54-18c1-452f-9cf3-f7d74d7f0e23",
   "metadata": {},
   "outputs": [],
   "source": [
    "cordf = cordf[cordf['peso']>.4]\n",
    "cordf.sort_values('peso', ascending=False).head(10)"
   ]
  },
  {
   "cell_type": "markdown",
   "id": "1f3e6b2c-f821-48a7-a54a-3405b4c08f2a",
   "metadata": {},
   "source": [
    "Los tweets que tienen correlación 1, tienen exactamente el mismo contenido"
   ]
  },
  {
   "cell_type": "code",
   "execution_count": null,
   "id": "f27cdda4-d4e2-4c21-bc6e-9705f0f03904",
   "metadata": {},
   "outputs": [],
   "source": [
    "tweet[tweet.index==44670]"
   ]
  },
  {
   "cell_type": "code",
   "execution_count": null,
   "id": "0dea96d8-b0c1-45e3-8361-64324b567c8d",
   "metadata": {},
   "outputs": [],
   "source": [
    "tweet[tweet.index==44681]"
   ]
  },
  {
   "cell_type": "markdown",
   "id": "f8b5b75e-1921-4433-b0a3-1b0bb40e429e",
   "metadata": {},
   "source": [
    "Creamos el Grafo de Relaciones entre Tweets, para identificar visualmente los que sean similares"
   ]
  },
  {
   "cell_type": "code",
   "execution_count": null,
   "id": "cb31a188-17e7-4487-9b2e-d5713bea947a",
   "metadata": {},
   "outputs": [],
   "source": [
    "G = nx.from_pandas_edgelist(cordf, source = 'inicio', target = 'fin', edge_attr='peso')\n",
    "print(nx.info(G))"
   ]
  },
  {
   "cell_type": "markdown",
   "id": "606b81f9",
   "metadata": {},
   "source": [
    "Crear la función top_nodes que mostrará los valores más altos de un diccionario"
   ]
  },
  {
   "cell_type": "code",
   "execution_count": null,
   "id": "b9705c28",
   "metadata": {},
   "outputs": [],
   "source": [
    "def get_top_nodes(cdict, num=5):\n",
    "    top_nodes ={}\n",
    "    for i in range(num):\n",
    "        top_nodes =dict(\n",
    "            sorted(cdict.items(), key=lambda x: x[1], reverse=True)[:num]\n",
    "            )\n",
    "        return top_nodes"
   ]
  },
  {
   "cell_type": "markdown",
   "id": "3869f316",
   "metadata": {},
   "source": [
    "#### Visualización de Similaridad"
   ]
  },
  {
   "cell_type": "markdown",
   "id": "c97e9afe",
   "metadata": {},
   "source": [
    "Guardar el grado de cada nodo en un diccionario"
   ]
  },
  {
   "cell_type": "code",
   "execution_count": null,
   "id": "683ceeb2",
   "metadata": {},
   "outputs": [],
   "source": [
    "gdeg=G.degree()\n",
    "get_top_nodes(dict(gdeg))"
   ]
  },
  {
   "cell_type": "markdown",
   "id": "159f8333-702d-4a44-a4e9-abe6c9dda3b1",
   "metadata": {},
   "source": [
    "Ahora Visualizamos los Tweets, agrupados por similaridad"
   ]
  },
  {
   "cell_type": "code",
   "execution_count": null,
   "id": "9abb1dbd-ca96-46f9-a187-158e5b1be04a",
   "metadata": {},
   "outputs": [],
   "source": [
    "plt.figure(figsize=(80,45)) \n",
    "pos=nx.spring_layout(G)\n",
    "edges = G.edges()\n",
    "weights = [G[u][v]['peso'] for u,v in edges]\n",
    "nx.draw_networkx(G, width=weights, pos=pos, node_size=[val*10 for(node,val)in gdeg])\n",
    "plt.show()"
   ]
  },
  {
   "cell_type": "markdown",
   "id": "7caf5de9-2218-41a5-9fdf-c1c17d4fdb5d",
   "metadata": {},
   "source": []
  },
  {
   "cell_type": "markdown",
   "id": "0bae14b6",
   "metadata": {},
   "source": [
    "Elaborado por Luis Cajachahua bajo licencia MIT (2021)"
   ]
  }
 ],
 "metadata": {
  "kernelspec": {
   "display_name": "Python 3",
   "language": "python",
   "name": "python3"
  },
  "language_info": {
   "codemirror_mode": {
    "name": "ipython",
    "version": 3
   },
   "file_extension": ".py",
   "mimetype": "text/x-python",
   "name": "python",
   "nbconvert_exporter": "python",
   "pygments_lexer": "ipython3",
   "version": "3.8.8"
  }
 },
 "nbformat": 4,
 "nbformat_minor": 5
}
