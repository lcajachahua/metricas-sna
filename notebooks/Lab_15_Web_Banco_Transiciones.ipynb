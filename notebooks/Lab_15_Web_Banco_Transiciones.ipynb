{
 "cells": [
  {
   "cell_type": "markdown",
   "id": "2448743d",
   "metadata": {},
   "source": [
    "# Caso: Análisis de los Logs de Navegación de la web de un Banco"
   ]
  },
  {
   "cell_type": "markdown",
   "id": "da74f8e3",
   "metadata": {},
   "source": [
    "Utilizamos una muestra del Log de Navegación del sitio web de un Banco\n",
    "##### Clientes analizados: 6,576\n",
    "##### Horizonte de tiempo: Del 12-Mar-2018 al 21-May-2018 (Poco menos de 3 meses)"
   ]
  },
  {
   "cell_type": "code",
   "execution_count": null,
   "id": "2a803026",
   "metadata": {},
   "outputs": [],
   "source": [
    "import pandas as pd\n",
    "import numpy as np \n",
    "import matplotlib.pyplot as plt\n",
    "import networkx as nx\n",
    "import time"
   ]
  },
  {
   "cell_type": "code",
   "execution_count": null,
   "id": "1a589d45",
   "metadata": {},
   "outputs": [],
   "source": [
    "df = pd.read_csv('../data/weblog.csv')\n",
    "df.head()"
   ]
  },
  {
   "cell_type": "code",
   "execution_count": null,
   "id": "502901d1-b4d5-4219-890c-4fba0fb07072",
   "metadata": {},
   "outputs": [],
   "source": [
    "df.info()"
   ]
  },
  {
   "cell_type": "markdown",
   "id": "a554c3c9",
   "metadata": {},
   "source": [
    "Revisamos la información del DataFrame"
   ]
  },
  {
   "cell_type": "code",
   "execution_count": null,
   "id": "030e3790",
   "metadata": {},
   "outputs": [],
   "source": [
    "df=df.sort_values(['CUSTOMER_ID', 'TD_TIMECODE']).reset_index(drop=True)\n",
    "df.head()"
   ]
  },
  {
   "cell_type": "code",
   "execution_count": null,
   "id": "a13e95cf-6837-4ca2-aa2a-d9934e14325d",
   "metadata": {},
   "outputs": [],
   "source": [
    "seq = pd.DataFrame()\n",
    "seq = pd.DataFrame(columns = ['customer', 'inicio', 'fin'])\n",
    "for i in range(len(df)-1):\n",
    "    if df.iloc[i,1] == df.iloc[i+1,1]:\n",
    "        try:\n",
    "            user = df.iloc[i,1]\n",
    "            start = df.iloc[i,3]\n",
    "            end = df.iloc[i+1,3]\n",
    "            seq = seq.append({'customer' : user, 'inicio' : start, 'fin' : end}, ignore_index = True)\n",
    "        except Exception:\n",
    "            pass"
   ]
  },
  {
   "cell_type": "code",
   "execution_count": null,
   "id": "aff4c46e-4cde-42e7-a58c-1900a372faa2",
   "metadata": {},
   "outputs": [],
   "source": [
    "seq.head()"
   ]
  },
  {
   "cell_type": "markdown",
   "id": "47c69049-c2e1-4af7-b4ac-f02cec126eed",
   "metadata": {},
   "source": [
    "Agrupamos por las páginas visitadas y contamos cuántos clientes hicieron ese salto"
   ]
  },
  {
   "cell_type": "code",
   "execution_count": null,
   "id": "10c8fb83-77a7-4b2d-9cd0-9ee892c39acb",
   "metadata": {},
   "outputs": [],
   "source": [
    "h=seq.groupby(['inicio', 'fin'], as_index=False).count()\n",
    "h.head(12)"
   ]
  },
  {
   "cell_type": "markdown",
   "id": "d13e4cf6-ad06-4b77-a257-ebf8af89334c",
   "metadata": {},
   "source": [
    "#### Creamos la Matriz de Transición"
   ]
  },
  {
   "cell_type": "markdown",
   "id": "e590cff4",
   "metadata": {},
   "source": [
    "Transformamos el DataFrame en un Grafo dirigido con pesos (cantidad de llamadas y duración)"
   ]
  },
  {
   "cell_type": "code",
   "execution_count": null,
   "id": "14ba9b0f",
   "metadata": {},
   "outputs": [],
   "source": [
    "G = nx.from_pandas_edgelist(h, source='inicio', target='fin', edge_attr=['customer'], create_using=nx.DiGraph())\n",
    "print(nx.info(G))"
   ]
  },
  {
   "cell_type": "markdown",
   "id": "2279bce0-5896-4fde-b90b-cd5db83460f9",
   "metadata": {},
   "source": [
    "Utilizamos la función 'to_numpy_array' para extraer la matriz de transición y realizamos algunos cambios para poderla utilizar"
   ]
  },
  {
   "cell_type": "code",
   "execution_count": null,
   "id": "3b67b160-eaf5-40bd-accf-bcf13c465b6a",
   "metadata": {},
   "outputs": [],
   "source": [
    "adjmat = nx.convert_matrix.to_numpy_array(G, weight='customer')\n",
    "print(adjmat)"
   ]
  },
  {
   "cell_type": "code",
   "execution_count": null,
   "id": "2714fdf9-5b2e-4082-b975-0e54618b5642",
   "metadata": {},
   "outputs": [],
   "source": [
    "adjmat[2,2]=1\n",
    "adjmat[5,5]=1\n",
    "transitionMatrix=adjmat"
   ]
  },
  {
   "cell_type": "code",
   "execution_count": null,
   "id": "8fab0234-2b74-42d7-90aa-872f4d10efc9",
   "metadata": {},
   "outputs": [],
   "source": [
    "for i in range(len(adjmat)-1):\n",
    "    transitionMatrix[i]=adjmat[i]/sum(adjmat[i])\n",
    "transitionMatrix"
   ]
  },
  {
   "cell_type": "markdown",
   "id": "4c6eba50-9e52-4704-8f62-f678331c3464",
   "metadata": {},
   "source": [
    "## Estimación de estados para una sucesión de eventos"
   ]
  },
  {
   "cell_type": "markdown",
   "id": "51939f2b-e5c3-4503-b075-4aec36a656ba",
   "metadata": {},
   "source": [
    "Utilizamos una colección de eventos más sencilla para representar los cambios en la transición"
   ]
  },
  {
   "cell_type": "code",
   "execution_count": null,
   "id": "162e8d9c-2898-4dcd-b3ab-fbf481bb5313",
   "metadata": {},
   "outputs": [],
   "source": [
    "states = [\"Start\",\"Oper\",\"Change\",\"Info\"]\n",
    "transitionName = [[\"SS\",\"SO\",\"SC\",\"SI\"],[\"OS\",\"OO\",\"OC\",\"OI\"],[\"CS\",\"CO\",\"CC\",\"CI\"],[\"IS\",\"IO\",\"IC\",\"II\"]]\n",
    "transitionMatrix = [[0.2,0.6,0.1,0.1],[0.1,0.6,0.2,0.1],[0.1,0.4,0.3,0.2],[0.2,0.5,0.1,0.2]]"
   ]
  },
  {
   "cell_type": "markdown",
   "id": "75666590-3845-465d-8855-a25726355e6d",
   "metadata": {},
   "source": [
    "Creamos una función que permita generar la secuencia de eventos resultante después de una cantidad de días. Inicia con \"Start\""
   ]
  },
  {
   "cell_type": "code",
   "execution_count": null,
   "id": "72b4616d-8484-47a8-9e3a-432778cf3014",
   "metadata": {},
   "outputs": [],
   "source": [
    "def activity_forecast(days):\n",
    "    # Choose the starting state\n",
    "    activityToday = \"Start\"\n",
    "    print(\"Start state: \" + activityToday)\n",
    "    # Shall store the sequence of states taken. So, this only has the starting state for now.\n",
    "    activityList = [activityToday]\n",
    "    i = 0\n",
    "    # To calculate the probability of the activityList\n",
    "    prob = 1\n",
    "    while i != days:\n",
    "        if activityToday == \"Start\":\n",
    "            change = np.random.choice(transitionName[0],replace=True,p=transitionMatrix[0])\n",
    "            if change == \"SS\":\n",
    "                prob = prob * 0.2\n",
    "                activityList.append(\"Start\")\n",
    "                pass\n",
    "            elif change == \"SO\":\n",
    "                prob = prob * 0.6\n",
    "                activityToday = \"Oper\"\n",
    "                activityList.append(\"Oper\")\n",
    "            elif change == \"SC\":\n",
    "                prob = prob * 0.1\n",
    "                activityToday = \"Change\"\n",
    "                activityList.append(\"Change\")\n",
    "            else:\n",
    "                prob = prob * 0.1\n",
    "                activityToday = \"Info\"\n",
    "                activityList.append(\"Info\")\n",
    "        elif activityToday == \"Oper\":\n",
    "            change = np.random.choice(transitionName[1],replace=True,p=transitionMatrix[1])\n",
    "            if change == \"OO\":\n",
    "                prob = prob * 0.6\n",
    "                activityList.append(\"Oper\")\n",
    "                pass\n",
    "            elif change == \"OS\":\n",
    "                prob = prob * 0.1\n",
    "                activityToday = \"Start\"\n",
    "                activityList.append(\"Start\")\n",
    "            elif change == \"OC\":\n",
    "                prob = prob * 0.2\n",
    "                activityToday = \"Change\"\n",
    "                activityList.append(\"Change\")\n",
    "            else:\n",
    "                prob = prob * 0.1\n",
    "                activityToday = \"Info\"\n",
    "                activityList.append(\"Info\")\n",
    "        elif activityToday == \"Change\":\n",
    "            change = np.random.choice(transitionName[1],replace=True,p=transitionMatrix[1])\n",
    "            if change == \"CC\":\n",
    "                prob = prob * 0.3\n",
    "                activityList.append(\"Change\")\n",
    "                pass\n",
    "            elif change == \"CS\":\n",
    "                prob = prob * 0.1\n",
    "                activityToday = \"Start\"\n",
    "                activityList.append(\"Start\")\n",
    "            elif change == \"CO\":\n",
    "                prob = prob * 0.4\n",
    "                activityToday = \"Oper\"\n",
    "                activityList.append(\"Oper\")\n",
    "            else:\n",
    "                prob = prob * 0.2\n",
    "                activityToday = \"Info\"\n",
    "                activityList.append(\"Info\")\n",
    "        elif activityToday == \"Info\":\n",
    "            change = np.random.choice(transitionName[2],replace=True,p=transitionMatrix[2])\n",
    "            if change == \"II\":\n",
    "                prob = prob * 0.2\n",
    "                activityList.append(\"Info\")\n",
    "                pass\n",
    "            elif change == \"IS\":\n",
    "                prob = prob * 0.2\n",
    "                activityToday = \"Start\"\n",
    "                activityList.append(\"Start\")\n",
    "            elif change == \"IC\":\n",
    "                prob = prob * 0.1\n",
    "                activityToday = \"Change\"\n",
    "                activityList.append(\"change\")\n",
    "            else:\n",
    "                prob = prob * 0.5\n",
    "                activityToday = \"Oper\"\n",
    "                activityList.append(\"Oper\")\n",
    "        i += 1  \n",
    "    print(\"La secuencia de estados es: \" + str(activityList))\n",
    "    print(\"El estado final luego de \"+ str(days) + \" días es: \" + activityToday)\n",
    "    print(\"La probabilidad de esta secuencia es: \" + str(prob))"
   ]
  },
  {
   "cell_type": "markdown",
   "id": "5ff404fe-d454-4f32-95b3-0a4689977afd",
   "metadata": {},
   "source": [
    "Hacemos una ejecución para dos días"
   ]
  },
  {
   "cell_type": "code",
   "execution_count": null,
   "id": "dd5d194a-dd96-459d-b233-4293123d3938",
   "metadata": {},
   "outputs": [],
   "source": [
    "activity_forecast(2)"
   ]
  },
  {
   "cell_type": "markdown",
   "id": "71e12385-864d-45b5-8454-2ffdebc768bf",
   "metadata": {},
   "source": [
    "Y para cuatro días"
   ]
  },
  {
   "cell_type": "code",
   "execution_count": null,
   "id": "4b2b5a77-08b9-4a7c-b831-55463ccf8bab",
   "metadata": {},
   "outputs": [],
   "source": [
    "activity_forecast(4)"
   ]
  },
  {
   "cell_type": "markdown",
   "id": "7a6b0d37-f93e-4d4c-9536-f78cbfcb6b32",
   "metadata": {},
   "source": [
    "#### Podemos ejecutar una gran cantidad de simulaciones para ver cuál es la probabilidad de que se produzca un resultado específico, dado un estado inicial"
   ]
  },
  {
   "cell_type": "markdown",
   "id": "1e79d665-3124-4c0a-8d82-de15e322cf7b",
   "metadata": {},
   "source": [
    "Por ejemplo, si el estado inicial es \"Start\" y deseamos calcular la probabilidad que en los dos siguientes días el resultado sea \"Oper\""
   ]
  },
  {
   "cell_type": "code",
   "execution_count": null,
   "id": "51f4bdb7-c180-4bc8-a640-a1e21e102595",
   "metadata": {},
   "outputs": [],
   "source": [
    "def activity_forecast(days):\n",
    "    # Choose the starting state\n",
    "    activityToday = \"Start\"\n",
    "    # Shall store the sequence of states taken. So, this only has the starting state for now.\n",
    "    activityList = [activityToday]\n",
    "    i = 0\n",
    "    # To calculate the probability of the activityList\n",
    "    prob = 1\n",
    "    while i != days:\n",
    "        if activityToday == \"Start\":\n",
    "            change = np.random.choice(transitionName[0],replace=True,p=transitionMatrix[0])\n",
    "            if change == \"SS\":\n",
    "                prob = prob * 0.2\n",
    "                activityList.append(\"Start\")\n",
    "                pass\n",
    "            elif change == \"SO\":\n",
    "                prob = prob * 0.6\n",
    "                activityToday = \"Oper\"\n",
    "                activityList.append(\"Oper\")\n",
    "            elif change == \"SC\":\n",
    "                prob = prob * 0.1\n",
    "                activityToday = \"Change\"\n",
    "                activityList.append(\"Change\")\n",
    "            else:\n",
    "                prob = prob * 0.1\n",
    "                activityToday = \"Info\"\n",
    "                activityList.append(\"Info\")\n",
    "        elif activityToday == \"Oper\":\n",
    "            change = np.random.choice(transitionName[1],replace=True,p=transitionMatrix[1])\n",
    "            if change == \"OO\":\n",
    "                prob = prob * 0.6\n",
    "                activityList.append(\"Oper\")\n",
    "                pass\n",
    "            elif change == \"OS\":\n",
    "                prob = prob * 0.1\n",
    "                activityToday = \"Start\"\n",
    "                activityList.append(\"Start\")\n",
    "            elif change == \"OC\":\n",
    "                prob = prob * 0.2\n",
    "                activityToday = \"Change\"\n",
    "                activityList.append(\"Change\")\n",
    "            else:\n",
    "                prob = prob * 0.1\n",
    "                activityToday = \"Info\"\n",
    "                activityList.append(\"Info\")\n",
    "        elif activityToday == \"Change\":\n",
    "            change = np.random.choice(transitionName[1],replace=True,p=transitionMatrix[1])\n",
    "            if change == \"CC\":\n",
    "                prob = prob * 0.3\n",
    "                activityList.append(\"Change\")\n",
    "                pass\n",
    "            elif change == \"CS\":\n",
    "                prob = prob * 0.1\n",
    "                activityToday = \"Start\"\n",
    "                activityList.append(\"Start\")\n",
    "            elif change == \"CO\":\n",
    "                prob = prob * 0.4\n",
    "                activityToday = \"Oper\"\n",
    "                activityList.append(\"Oper\")\n",
    "            else:\n",
    "                prob = prob * 0.2\n",
    "                activityToday = \"Info\"\n",
    "                activityList.append(\"Info\")\n",
    "        elif activityToday == \"Info\":\n",
    "            change = np.random.choice(transitionName[2],replace=True,p=transitionMatrix[2])\n",
    "            if change == \"II\":\n",
    "                prob = prob * 0.2\n",
    "                activityList.append(\"Info\")\n",
    "                pass\n",
    "            elif change == \"IS\":\n",
    "                prob = prob * 0.2\n",
    "                activityToday = \"Start\"\n",
    "                activityList.append(\"Start\")\n",
    "            elif change == \"IC\":\n",
    "                prob = prob * 0.1\n",
    "                activityToday = \"Change\"\n",
    "                activityList.append(\"change\")\n",
    "            else:\n",
    "                prob = prob * 0.5\n",
    "                activityToday = \"Oper\"\n",
    "                activityList.append(\"Oper\")\n",
    "        i += 1  \n",
    "    return activityList\n",
    "\n",
    "# To save every activityList\n",
    "list_activity = []\n",
    "count = 0\n",
    "\n",
    "# `Range` starts from the first count up until but excluding the last count\n",
    "for iterations in range(1,10000):\n",
    "        list_activity.append(activity_forecast(2))\n",
    "\n",
    "# Iterate through the list to get a count of all activities ending in state:'Run'\n",
    "for smaller_list in list_activity:\n",
    "    if(smaller_list[-1] == \"Oper\"):\n",
    "        count += 1\n",
    "\n",
    "# Calculate the probability of starting from state:'Sleep' and ending at state:'Run'\n",
    "percentage = (count/10000) * 100\n",
    "print(\"La probabilidad de iniciar en 'Start' y terminar en el estado 'Oper' es: \" + str(percentage) + \"%\")"
   ]
  },
  {
   "cell_type": "code",
   "execution_count": null,
   "id": "d935b902-5301-4c3c-8caf-af59364ad9ca",
   "metadata": {},
   "outputs": [],
   "source": []
  },
  {
   "cell_type": "markdown",
   "id": "b56d4e70",
   "metadata": {},
   "source": [
    "Elaborado por Luis Cajachahua bajo licencia MIT (2022)"
   ]
  }
 ],
 "metadata": {
  "kernelspec": {
   "display_name": "Python 3",
   "language": "python",
   "name": "python3"
  },
  "language_info": {
   "codemirror_mode": {
    "name": "ipython",
    "version": 3
   },
   "file_extension": ".py",
   "mimetype": "text/x-python",
   "name": "python",
   "nbconvert_exporter": "python",
   "pygments_lexer": "ipython3",
   "version": "3.8.8"
  }
 },
 "nbformat": 4,
 "nbformat_minor": 5
}
