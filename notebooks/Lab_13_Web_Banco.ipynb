{
 "cells": [
  {
   "cell_type": "markdown",
   "id": "2448743d",
   "metadata": {},
   "source": [
    "# Caso: Análisis de los Logs de Navegación de la web de un Banco"
   ]
  },
  {
   "cell_type": "markdown",
   "id": "da74f8e3",
   "metadata": {},
   "source": [
    "Utilizamos una muestra del Log de Navegación del sitio web de un Banco\n",
    "##### Clientes analizados: 6,576\n",
    "##### Horizonte de tiempo: Del 12-Mar-2018 al 21-May-2018 (Poco menos de 3 meses)"
   ]
  },
  {
   "cell_type": "code",
   "execution_count": null,
   "id": "2a803026",
   "metadata": {},
   "outputs": [],
   "source": [
    "import pandas as pd\n",
    "import numpy as np \n",
    "import matplotlib.pyplot as plt\n",
    "import networkx as nx\n",
    "import time"
   ]
  },
  {
   "cell_type": "code",
   "execution_count": null,
   "id": "1a589d45",
   "metadata": {},
   "outputs": [],
   "source": [
    "df = pd.read_csv('../data/weblog.csv')\n",
    "df.head()"
   ]
  },
  {
   "cell_type": "code",
   "execution_count": null,
   "id": "502901d1-b4d5-4219-890c-4fba0fb07072",
   "metadata": {},
   "outputs": [],
   "source": [
    "df.info()"
   ]
  },
  {
   "cell_type": "markdown",
   "id": "a554c3c9",
   "metadata": {},
   "source": [
    "Revisamos la información del DataFrame"
   ]
  },
  {
   "cell_type": "code",
   "execution_count": null,
   "id": "030e3790",
   "metadata": {},
   "outputs": [],
   "source": [
    "df=df.sort_values(['CUSTOMER_ID', 'TD_TIMECODE']).reset_index(drop=True)\n",
    "df.head()"
   ]
  },
  {
   "cell_type": "code",
   "execution_count": null,
   "id": "a13e95cf-6837-4ca2-aa2a-d9934e14325d",
   "metadata": {},
   "outputs": [],
   "source": [
    "seq = pd.DataFrame()\n",
    "seq = pd.DataFrame(columns = ['customer', 'inicio', 'fin'])\n",
    "for i in range(len(df)-1):\n",
    "    if df.iloc[i,1] == df.iloc[i+1,1]:\n",
    "        try:\n",
    "            user = df.iloc[i,1]\n",
    "            start = df.iloc[i,3]\n",
    "            end = df.iloc[i+1,3]\n",
    "            seq = seq.append({'customer' : user, 'inicio' : start, 'fin' : end}, ignore_index = True)\n",
    "        except Exception:\n",
    "            pass"
   ]
  },
  {
   "cell_type": "code",
   "execution_count": null,
   "id": "aff4c46e-4cde-42e7-a58c-1900a372faa2",
   "metadata": {},
   "outputs": [],
   "source": [
    "seq.head()"
   ]
  },
  {
   "cell_type": "markdown",
   "id": "47c69049-c2e1-4af7-b4ac-f02cec126eed",
   "metadata": {},
   "source": [
    "Agrupamos por las páginas visitadas y contamos cuántos clientes hicieron ese salto"
   ]
  },
  {
   "cell_type": "code",
   "execution_count": null,
   "id": "10c8fb83-77a7-4b2d-9cd0-9ee892c39acb",
   "metadata": {},
   "outputs": [],
   "source": [
    "h=seq.groupby(['inicio', 'fin'], as_index=False).count()\n",
    "h.head()"
   ]
  },
  {
   "cell_type": "markdown",
   "id": "d13e4cf6-ad06-4b77-a257-ebf8af89334c",
   "metadata": {},
   "source": [
    "#### Creamos el Grafo de Navegación Web"
   ]
  },
  {
   "cell_type": "markdown",
   "id": "e590cff4",
   "metadata": {},
   "source": [
    "Transformamos el DataFrame en un Grafo dirigido con pesos (cantidad de llamadas y duración)"
   ]
  },
  {
   "cell_type": "code",
   "execution_count": null,
   "id": "14ba9b0f",
   "metadata": {},
   "outputs": [],
   "source": [
    "G = nx.from_pandas_edgelist(h, source='inicio', target='fin', edge_attr=['customer'], create_using=nx.DiGraph())\n",
    "print(nx.info(G))"
   ]
  },
  {
   "cell_type": "markdown",
   "id": "dc7b03d4",
   "metadata": {},
   "source": [
    "#### Grado"
   ]
  },
  {
   "cell_type": "markdown",
   "id": "e7136548",
   "metadata": {},
   "source": [
    "Guardar el grado de cada nodo en un diccionario"
   ]
  },
  {
   "cell_type": "code",
   "execution_count": null,
   "id": "88645144",
   "metadata": {},
   "outputs": [],
   "source": [
    "gdeg=G.degree(weight='customer')\n",
    "dict(gdeg)"
   ]
  },
  {
   "cell_type": "markdown",
   "id": "a7f68bab-acfd-4b6c-965a-2b94502dd626",
   "metadata": {},
   "source": [
    "Visualizamos la red considerando el grado y el peso de la relación"
   ]
  },
  {
   "cell_type": "code",
   "execution_count": null,
   "id": "1463bc2f-44c2-4f97-a000-abbc30cdb7bf",
   "metadata": {},
   "outputs": [],
   "source": [
    "plt.figure(figsize=(16,9)) \n",
    "pos=nx.circular_layout(G)\n",
    "edges = G.edges()\n",
    "weights = [G[u][v]['customer']/100 for u,v in edges]\n",
    "nx.draw_networkx(G, width=weights, pos=pos, node_size=[val for(node,val)in gdeg])\n",
    "plt.show()"
   ]
  },
  {
   "cell_type": "code",
   "execution_count": null,
   "id": "26392a81-e791-47f2-87f3-094949ca0b4b",
   "metadata": {},
   "outputs": [],
   "source": [
    "##pip install netgraph"
   ]
  },
  {
   "cell_type": "code",
   "execution_count": null,
   "id": "c2cdcac9-70ee-42c8-abcf-f2771ea83600",
   "metadata": {},
   "outputs": [],
   "source": [
    "from netgraph import InteractiveGraph\n",
    "plt.figure(figsize=(16,9)) \n",
    "plot_instance = InteractiveGraph(G, node_size=4, node_labels=True, node_label_offset=0.1, node_label_fontdict=dict(size=20),\n",
    "    edge_width=2, arrows=True)\n",
    "plt.show()"
   ]
  },
  {
   "cell_type": "code",
   "execution_count": null,
   "id": "e1095691",
   "metadata": {},
   "outputs": [],
   "source": [
    "indeg=G.in_degree(weight='customer')\n",
    "dict(indeg)"
   ]
  },
  {
   "cell_type": "code",
   "execution_count": null,
   "id": "353a906e-6b8b-4790-9073-d3f672be5778",
   "metadata": {},
   "outputs": [],
   "source": [
    "outdeg=G.out_degree(weight='customer')\n",
    "dict(outdeg)"
   ]
  },
  {
   "cell_type": "markdown",
   "id": "6effbddd-ea5e-422b-b547-61ce18cf2db9",
   "metadata": {},
   "source": [
    "IMPORTANTE: Tenemos dos puntos de cierre: 'Purchase' que es COMPRA y 'Product Return' que es DEVOLUCIÓN "
   ]
  },
  {
   "cell_type": "markdown",
   "id": "f2a4561d",
   "metadata": {},
   "source": [
    "#### Betweenness"
   ]
  },
  {
   "cell_type": "code",
   "execution_count": null,
   "id": "f4be442e",
   "metadata": {},
   "outputs": [],
   "source": [
    "betweenness_centrality = nx.betweenness_centrality(G,weight='customer')\n",
    "dict(betweenness_centrality)"
   ]
  },
  {
   "cell_type": "code",
   "execution_count": null,
   "id": "d8d265de-124b-4804-b536-5c28e23758c4",
   "metadata": {},
   "outputs": [],
   "source": [
    "plt.figure(figsize=(16,9)) \n",
    "sizes = dict(betweenness_centrality).values()\n",
    "nx.draw_networkx(G, width=weights, pos=pos, node_size=[v*10000 for v in sizes])\n",
    "plt.show()"
   ]
  },
  {
   "cell_type": "markdown",
   "id": "e93d5d87",
   "metadata": {},
   "source": [
    "#### PageRank"
   ]
  },
  {
   "cell_type": "code",
   "execution_count": null,
   "id": "c6fa592a",
   "metadata": {},
   "outputs": [],
   "source": [
    "pagerank_centrality =nx.pagerank(G,weight='customer')\n",
    "dict(pagerank_centrality)"
   ]
  },
  {
   "cell_type": "code",
   "execution_count": null,
   "id": "5673a5dc",
   "metadata": {},
   "outputs": [],
   "source": [
    "plt.figure(figsize=(16,9)) \n",
    "sizes = dict(pagerank_centrality).values()\n",
    "nx.draw_networkx(G, width=weights, pos=pos, node_size=[v*20000 for v in sizes])\n",
    "plt.show()"
   ]
  },
  {
   "cell_type": "code",
   "execution_count": null,
   "id": "0b4eab5b",
   "metadata": {},
   "outputs": [],
   "source": []
  },
  {
   "cell_type": "markdown",
   "id": "b56d4e70",
   "metadata": {},
   "source": [
    "Elaborado por Luis Cajachahua bajo licencia MIT (2021)"
   ]
  }
 ],
 "metadata": {
  "kernelspec": {
   "display_name": "Python 3",
   "language": "python",
   "name": "python3"
  },
  "language_info": {
   "codemirror_mode": {
    "name": "ipython",
    "version": 3
   },
   "file_extension": ".py",
   "mimetype": "text/x-python",
   "name": "python",
   "nbconvert_exporter": "python",
   "pygments_lexer": "ipython3",
   "version": "3.8.8"
  }
 },
 "nbformat": 4,
 "nbformat_minor": 5
}
