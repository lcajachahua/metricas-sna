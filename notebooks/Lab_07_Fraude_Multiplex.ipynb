{
 "cells": [
  {
   "cell_type": "markdown",
   "id": "a648f23e",
   "metadata": {},
   "source": [
    "# Análisis de Fraude en Organismos de Gobierno"
   ]
  },
  {
   "cell_type": "markdown",
   "id": "dbdbee6b",
   "metadata": {},
   "source": [
    "## Cargar los datos\n",
    "La base de datos proviene de una entidad gubernamental encargada de supervisar el pago de impuestos por parte de los ciudadanos de un país de Latinoamérica\n",
    "##### Individuos: 6.7 MM\n",
    "##### Relaciones: 11 MM\n",
    "##### Horizonte de tiempo: De Ene-2013 a Dic-2018 (5 años)"
   ]
  },
  {
   "cell_type": "code",
   "execution_count": null,
   "id": "2681ecd1",
   "metadata": {},
   "outputs": [],
   "source": [
    "import pandas as pd\n",
    "import numpy as np \n",
    "import matplotlib.pyplot as plt\n",
    "import networkx as nx\n",
    "import time"
   ]
  },
  {
   "cell_type": "code",
   "execution_count": null,
   "id": "9857b04a",
   "metadata": {},
   "outputs": [],
   "source": [
    "h = pd.read_csv('../data/paths.csv')\n",
    "h.head()"
   ]
  },
  {
   "cell_type": "markdown",
   "id": "827bead0",
   "metadata": {},
   "source": [
    "Revisamos la información del DataFrame"
   ]
  },
  {
   "cell_type": "code",
   "execution_count": null,
   "id": "e12cd49d",
   "metadata": {},
   "outputs": [],
   "source": [
    "h.info()"
   ]
  },
  {
   "cell_type": "markdown",
   "id": "9f589b41",
   "metadata": {},
   "source": [
    "Transformamos el DataFrame en un Grafo No Dirigido"
   ]
  },
  {
   "cell_type": "code",
   "execution_count": null,
   "id": "bffe3bc4",
   "metadata": {},
   "outputs": [],
   "source": [
    "G = nx.from_pandas_edgelist(h, source = \"NODE_SRC\", target = \"NODE_TRG\")\n",
    "print(nx.info(G))"
   ]
  },
  {
   "cell_type": "markdown",
   "id": "90c3d129-a48c-4777-a65b-5de94ab4a4fe",
   "metadata": {},
   "source": [
    "Agregamos el flag de fraude para cada nodo"
   ]
  },
  {
   "cell_type": "code",
   "execution_count": null,
   "id": "9d3b3a9c-21e0-4310-831c-cda0d48ddcf1",
   "metadata": {},
   "outputs": [],
   "source": [
    "fl = pd.read_csv('../data/nodesf.csv',index_col=\"id_node\")\n",
    "fl.head()"
   ]
  },
  {
   "cell_type": "code",
   "execution_count": null,
   "id": "cb9176f9-0b76-45e7-a40e-ddd3750aa1d9",
   "metadata": {},
   "outputs": [],
   "source": [
    "fl.info()"
   ]
  },
  {
   "cell_type": "code",
   "execution_count": null,
   "id": "411e4f44-ce80-4808-9ca1-f857754d4de0",
   "metadata": {},
   "outputs": [],
   "source": [
    "nx.set_node_attributes(G, dict(fl['fraude']), 'fraude')"
   ]
  },
  {
   "cell_type": "markdown",
   "id": "92d52c6e-7e2e-44ae-be23-b682408cf85e",
   "metadata": {},
   "source": [
    "Visualizamos la estructura de la red"
   ]
  },
  {
   "cell_type": "code",
   "execution_count": null,
   "id": "9e52ebf0-1f7b-4e5a-817f-85ead323c71c",
   "metadata": {},
   "outputs": [],
   "source": [
    "plt.figure(figsize=(80,45)) \n",
    "node_colors = ['r' if G.nodes[v]['fraude'] == 1\n",
    "               else 'b' for v in G]\n",
    "nx.draw_networkx(G, width=0.1, label=False, node_color=node_colors)\n",
    "plt.show()"
   ]
  },
  {
   "cell_type": "markdown",
   "id": "e7a3d3a0",
   "metadata": {},
   "source": [
    "Crear la función top_nodes que mostrará los valores más altos de un diccionario"
   ]
  },
  {
   "cell_type": "code",
   "execution_count": null,
   "id": "3d8e84dc",
   "metadata": {},
   "outputs": [],
   "source": [
    "def get_top_nodes(cdict, num=5):\n",
    "    top_nodes ={}\n",
    "    for i in range(num):\n",
    "        top_nodes =dict(\n",
    "            sorted(cdict.items(), key=lambda x: x[1], reverse=True)[:num]\n",
    "            )\n",
    "        return top_nodes"
   ]
  },
  {
   "cell_type": "markdown",
   "id": "77f82afc",
   "metadata": {},
   "source": [
    "#### Grado"
   ]
  },
  {
   "cell_type": "markdown",
   "id": "58e1412e",
   "metadata": {},
   "source": [
    "Guardar el grado de cada nodo en un diccionario"
   ]
  },
  {
   "cell_type": "code",
   "execution_count": null,
   "id": "92757735",
   "metadata": {},
   "outputs": [],
   "source": [
    "gdeg=G.degree()"
   ]
  },
  {
   "cell_type": "code",
   "execution_count": null,
   "id": "5b038e8a",
   "metadata": {},
   "outputs": [],
   "source": [
    "get_top_nodes(dict(gdeg))"
   ]
  },
  {
   "cell_type": "code",
   "execution_count": null,
   "id": "c78b7aea",
   "metadata": {},
   "outputs": [],
   "source": [
    "nx.is_connected(G)"
   ]
  },
  {
   "cell_type": "markdown",
   "id": "cede1ac0",
   "metadata": {},
   "source": [
    "#### Degree Centrality"
   ]
  },
  {
   "cell_type": "code",
   "execution_count": null,
   "id": "50680fb4",
   "metadata": {},
   "outputs": [],
   "source": [
    "degree_centrality =nx.degree_centrality(G)\n",
    "nx.set_node_attributes(G,degree_centrality, 'dc')\n",
    "get_top_nodes(degree_centrality)"
   ]
  },
  {
   "cell_type": "markdown",
   "id": "f3b8afea",
   "metadata": {},
   "source": [
    "#### Betweenness"
   ]
  },
  {
   "cell_type": "code",
   "execution_count": null,
   "id": "7cb75db0",
   "metadata": {},
   "outputs": [],
   "source": [
    "t0= time.process_time()\n",
    "betweenness_centrality = nx.betweenness_centrality(G)\n",
    "nx.set_node_attributes(G,betweenness_centrality, 'bc')\n",
    "t1 = time.process_time() - t0\n",
    "print(\"Time elapsed: \", t1)"
   ]
  },
  {
   "cell_type": "code",
   "execution_count": null,
   "id": "aca31a4d",
   "metadata": {},
   "outputs": [],
   "source": [
    "get_top_nodes(betweenness_centrality)"
   ]
  },
  {
   "cell_type": "markdown",
   "id": "20e4c9d6",
   "metadata": {},
   "source": [
    "#### Closeness"
   ]
  },
  {
   "cell_type": "code",
   "execution_count": null,
   "id": "7afa3b50",
   "metadata": {},
   "outputs": [],
   "source": [
    "t0= time.process_time()\n",
    "closeness_centrality =nx.closeness_centrality(G)\n",
    "nx.set_node_attributes(G,closeness_centrality, 'cc')\n",
    "t1 = time.process_time() - t0\n",
    "print(\"Time elapsed: \", t1)"
   ]
  },
  {
   "cell_type": "code",
   "execution_count": null,
   "id": "361a1e71",
   "metadata": {},
   "outputs": [],
   "source": [
    "get_top_nodes(closeness_centrality)"
   ]
  },
  {
   "cell_type": "markdown",
   "id": "20342e60",
   "metadata": {},
   "source": [
    "#### Eigenvector Centrality"
   ]
  },
  {
   "cell_type": "code",
   "execution_count": null,
   "id": "3a433e10",
   "metadata": {},
   "outputs": [],
   "source": [
    "t0= time.process_time()\n",
    "eigenvector_centrality = nx.eigenvector_centrality_numpy(G)\n",
    "nx.set_node_attributes(G, eigenvector_centrality,'ec')\n",
    "t1 = time.process_time() - t0\n",
    "print(\"Time elapsed: \", t1)"
   ]
  },
  {
   "cell_type": "code",
   "execution_count": null,
   "id": "c1ab2e2e",
   "metadata": {},
   "outputs": [],
   "source": [
    "get_top_nodes(eigenvector_centrality)"
   ]
  },
  {
   "cell_type": "markdown",
   "id": "b63206dd",
   "metadata": {},
   "source": [
    "#### PageRank Centrality"
   ]
  },
  {
   "cell_type": "code",
   "execution_count": null,
   "id": "fa52ade9",
   "metadata": {},
   "outputs": [],
   "source": [
    "t0= time.process_time()\n",
    "pagerank_centrality =nx.pagerank(G)\n",
    "nx.set_node_attributes(G, pagerank_centrality, 'pr')\n",
    "t1 = time.process_time() - t0\n",
    "print(\"Time elapsed: \", t1)"
   ]
  },
  {
   "cell_type": "code",
   "execution_count": null,
   "id": "f7ca7844",
   "metadata": {},
   "outputs": [],
   "source": [
    "get_top_nodes(pagerank_centrality)"
   ]
  },
  {
   "cell_type": "markdown",
   "id": "3daca9d6",
   "metadata": {},
   "source": [
    "## Métricas de Grafo"
   ]
  },
  {
   "cell_type": "markdown",
   "id": "b87bf0c5",
   "metadata": {},
   "source": [
    "#### Shortest Paths\n",
    "Armamos un proceso para identificar a los clientes no fraudulentos que se encuentran relacionados a los fraudulentos"
   ]
  },
  {
   "cell_type": "code",
   "execution_count": null,
   "id": "f6e1b101-3d97-4459-b2d2-18f08569bd2a",
   "metadata": {},
   "outputs": [],
   "source": [
    "sub=fl.loc[fl.fraude==1]\n",
    "sub.head()"
   ]
  },
  {
   "cell_type": "code",
   "execution_count": null,
   "id": "9608cad5-8a6c-4291-bd59-b48c2e18c4b7",
   "metadata": {},
   "outputs": [],
   "source": [
    "dist={}\n",
    "for i in sub.index:\n",
    "    for j in sub.index:\n",
    "        if i<j:\n",
    "            try:\n",
    "                dist[i,j]=nx.shortest_path_length(G,i,j)\n",
    "            except Exception:\n",
    "                pass"
   ]
  },
  {
   "cell_type": "code",
   "execution_count": null,
   "id": "70792931-ce1b-4f4c-8090-1fda4e257708",
   "metadata": {},
   "outputs": [],
   "source": [
    "dist"
   ]
  },
  {
   "cell_type": "code",
   "execution_count": null,
   "id": "847c9f66-a900-4a17-b172-8754bd507682",
   "metadata": {},
   "outputs": [],
   "source": [
    "list(nx.all_shortest_paths(G,511748, 981630))"
   ]
  },
  {
   "cell_type": "code",
   "execution_count": null,
   "id": "81aa142d-231e-47ef-ba41-179816ea3564",
   "metadata": {},
   "outputs": [],
   "source": [
    "list(nx.all_shortest_paths(G,4610143, 5211021))"
   ]
  },
  {
   "cell_type": "code",
   "execution_count": null,
   "id": "02be771c-5aaf-4fd2-9d55-d5a2b711d374",
   "metadata": {},
   "outputs": [],
   "source": [
    "list(nx.all_shortest_paths(G,3142363, 4808898))"
   ]
  },
  {
   "cell_type": "code",
   "execution_count": null,
   "id": "e0fd9ffe-51c6-4c35-8d8a-d61c4fc63885",
   "metadata": {},
   "outputs": [],
   "source": [
    "list(nx.all_shortest_paths(G,5770584,6014218))"
   ]
  },
  {
   "cell_type": "code",
   "execution_count": null,
   "id": "f08d91dd-5340-46b8-9759-88d415ff52b9",
   "metadata": {},
   "outputs": [],
   "source": [
    "nx.is_connected(G)"
   ]
  },
  {
   "cell_type": "code",
   "execution_count": null,
   "id": "988e3da9-a68e-432e-8c58-30bb15a7973a",
   "metadata": {},
   "outputs": [],
   "source": [
    "nx.number_connected_components(G)"
   ]
  },
  {
   "cell_type": "markdown",
   "id": "ed1dc6e6",
   "metadata": {},
   "source": [
    "#### Densidad"
   ]
  },
  {
   "cell_type": "code",
   "execution_count": null,
   "id": "8634734a",
   "metadata": {},
   "outputs": [],
   "source": [
    "nx.density(G)"
   ]
  },
  {
   "cell_type": "markdown",
   "id": "7798389e",
   "metadata": {},
   "source": [
    "#### Local Clustering Coefficient"
   ]
  },
  {
   "cell_type": "code",
   "execution_count": null,
   "id": "98e2e924",
   "metadata": {},
   "outputs": [],
   "source": [
    "nx.average_clustering(G)"
   ]
  },
  {
   "cell_type": "markdown",
   "id": "6117880c",
   "metadata": {},
   "source": [
    "Elaborado por Luis Cajachahua bajo licencia MIT (2022)"
   ]
  }
 ],
 "metadata": {
  "kernelspec": {
   "display_name": "Python 3",
   "language": "python",
   "name": "python3"
  },
  "language_info": {
   "codemirror_mode": {
    "name": "ipython",
    "version": 3
   },
   "file_extension": ".py",
   "mimetype": "text/x-python",
   "name": "python",
   "nbconvert_exporter": "python",
   "pygments_lexer": "ipython3",
   "version": "3.8.8"
  }
 },
 "nbformat": 4,
 "nbformat_minor": 5
}
