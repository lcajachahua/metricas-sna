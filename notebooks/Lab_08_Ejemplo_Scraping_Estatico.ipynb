{
 "cells": [
  {
   "cell_type": "markdown",
   "id": "1f09c361-e4c8-4721-83da-1421a35179f4",
   "metadata": {},
   "source": [
    "# Scraping Estático de un sitio Web"
   ]
  },
  {
   "cell_type": "markdown",
   "id": "f27d411d-fe35-4eb8-868e-d63a153c324a",
   "metadata": {},
   "source": [
    "En este caso, tenemos un ejemplo de cómo se extrae la información de una página web de venta de inmuebles"
   ]
  },
  {
   "cell_type": "markdown",
   "id": "0fafe39a-878f-4e91-92d8-920b759e0c86",
   "metadata": {},
   "source": [
    "#### Instalar y activar la Librería"
   ]
  },
  {
   "cell_type": "code",
   "execution_count": null,
   "id": "cbd48db4-f470-4be0-938c-12b83b08d513",
   "metadata": {},
   "outputs": [],
   "source": [
    "install.packages(\"rvest\")"
   ]
  },
  {
   "cell_type": "code",
   "execution_count": null,
   "id": "e2d8db2e-6001-4b0a-9892-25247966977f",
   "metadata": {},
   "outputs": [],
   "source": [
    "library(rvest)"
   ]
  },
  {
   "cell_type": "markdown",
   "id": "2904be1e-15fa-472f-b995-1e494c39dfca",
   "metadata": {},
   "source": [
    "#### Leer la página web con read_html()"
   ]
  },
  {
   "cell_type": "code",
   "execution_count": null,
   "id": "2095c3fc-6458-4058-a1c1-2cf9a2a9d21c",
   "metadata": {},
   "outputs": [],
   "source": [
    "web <- read_html(\"https://inmuebles.mercadolibre.com.mx/venta/_Desde_97_NoIndex_True\")"
   ]
  },
  {
   "cell_type": "markdown",
   "id": "4b099580-9874-488b-8bfa-b8cd24ea90e0",
   "metadata": {},
   "source": [
    "#### Extraer el titular del aviso"
   ]
  },
  {
   "cell_type": "code",
   "execution_count": null,
   "id": "71acaac3-11d0-448f-b224-b583558f61ab",
   "metadata": {},
   "outputs": [],
   "source": [
    "Titular<-web %>% html_nodes(\".ui-search-item__title.ui-search-item__group__element\") %>% html_text()\n",
    "Titular"
   ]
  },
  {
   "cell_type": "markdown",
   "id": "f685be4f-8158-4ae6-b241-d573dd811483",
   "metadata": {},
   "source": [
    "#### Extraer la ubicación"
   ]
  },
  {
   "cell_type": "code",
   "execution_count": null,
   "id": "b715642a-3d11-48b0-a314-a3636a530c80",
   "metadata": {},
   "outputs": [],
   "source": [
    "Ubicacion<-web %>% html_nodes(\".ui-search-item__group--location\") %>% html_text()\n",
    "Ubicacion"
   ]
  },
  {
   "cell_type": "markdown",
   "id": "f71e88da-487d-4f8f-93ca-051c09b0f497",
   "metadata": {},
   "source": [
    "#### Extraer el precio de venta"
   ]
  },
  {
   "cell_type": "code",
   "execution_count": null,
   "id": "e815a9ed-876f-4dda-9b5c-330018bbfa28",
   "metadata": {},
   "outputs": [],
   "source": [
    "Precio<-web %>% html_nodes(\".price-tag-text-sr-only\") %>% html_text()\n",
    "Precio"
   ]
  },
  {
   "cell_type": "markdown",
   "id": "2b9c4519-0e59-4e3c-ba97-f8553115680e",
   "metadata": {},
   "source": [
    "#### Extraer el área y la cantidad de recámaras"
   ]
  },
  {
   "cell_type": "code",
   "execution_count": null,
   "id": "eb46ccac-d05e-4e5c-9a24-4ccc2d78ad45",
   "metadata": {},
   "outputs": [],
   "source": [
    "Atr<-web %>% html_nodes(\".ui-search-card-attributes__attribute\") %>% html_text()\n",
    "Atr"
   ]
  },
  {
   "cell_type": "markdown",
   "id": "de89d95b-7284-4f13-a510-7794ff1faef7",
   "metadata": {},
   "source": [
    "#### Separamos el área"
   ]
  },
  {
   "cell_type": "code",
   "execution_count": null,
   "id": "bb5d3ab3-5987-4a7a-9964-55edac9ff293",
   "metadata": {},
   "outputs": [],
   "source": [
    "Area<-Atr[(grepl('m²', Atr, fixed = TRUE)==TRUE)]\n",
    "Area"
   ]
  },
  {
   "cell_type": "markdown",
   "id": "453fbb24-ef4e-4151-a18d-efc5a70b2ffb",
   "metadata": {},
   "source": [
    "#### Combinando los datos para exportar"
   ]
  },
  {
   "cell_type": "code",
   "execution_count": null,
   "id": "50938860-16cf-47dd-9d45-8d3767ff0f72",
   "metadata": {},
   "outputs": [],
   "source": [
    "base<-data.frame(Titular,Ubicacion,Area,Precio)"
   ]
  },
  {
   "cell_type": "code",
   "execution_count": null,
   "id": "4d4462da-4abc-4377-8eb3-e8b74818449f",
   "metadata": {},
   "outputs": [],
   "source": [
    "head(base)"
   ]
  },
  {
   "cell_type": "code",
   "execution_count": null,
   "id": "918a49ee-6b35-4bc2-82ef-ee2cd984f6a8",
   "metadata": {},
   "outputs": [],
   "source": [
    "write.csv(base, \"inmuebles.csv\")"
   ]
  },
  {
   "cell_type": "markdown",
   "id": "a316a541-5680-4e38-9cd8-83928abaad23",
   "metadata": {},
   "source": [
    "#### Automatizamos la función para que haga una descarga en bloque y agregue cada iteración en un archivo"
   ]
  },
  {
   "cell_type": "code",
   "execution_count": null,
   "id": "0a5063c0-8c8b-4baf-ba4b-c7657f04d7fe",
   "metadata": {},
   "outputs": [],
   "source": [
    "colec_precios<-function() {\n",
    "  looping<-c(\"https://inmuebles.mercadolibre.com.mx/departamentos/venta/propiedades-individuales/estado-de-mexico/_NoIndex_True\")\n",
    "  for(i in 1:10) {tmp<-paste(\"https://inmuebles.mercadolibre.com.mx/departamentos/venta/propiedades-individuales/estado-de-mexico/_Desde_\",i*48+1,\"_NoIndex_True\",sep=\"\")\n",
    "  looping<-c(looping,tmp)}\n",
    "  tableout <- data.frame()\n",
    "  for(i in looping){\n",
    "  web <- i %>% read_html()\n",
    "  Titular<-web %>% html_nodes(\".ui-search-item__title.ui-search-item__group__element\") %>% html_text()\n",
    "  Ubicacion<-web %>% html_nodes(\".ui-search-item__group--location\") %>% html_text()\n",
    "  Precio<-web %>% html_nodes(\".price-tag-text-sr-only\") %>% html_text()    \n",
    "  Atr<-web %>% html_nodes(\".ui-search-card-attributes__attribute\") %>% html_text()    \n",
    "  Area<-Atr[(grepl('m²', Atr, fixed = TRUE)==TRUE)]\n",
    "  try(temp.tableout <- data.frame(Titular,Ubicacion,Area,Precio))\n",
    "  write.table(temp.tableout,file=\"precios.txt\",row.names=F,col.names=F,append=T,sep=\",\")}}"
   ]
  },
  {
   "cell_type": "code",
   "execution_count": null,
   "id": "8dd82f37-d07f-4ed6-aa77-a7e0f3a3ccf0",
   "metadata": {},
   "outputs": [],
   "source": [
    "colec_precios()"
   ]
  },
  {
   "cell_type": "markdown",
   "id": "5301d3da-2888-4aaf-837b-1df28deab36b",
   "metadata": {},
   "source": [
    "Más ejemplos en: https://github.com/rfordatascience/tidytuesday/search?q=rvest+&type="
   ]
  },
  {
   "cell_type": "markdown",
   "id": "5b8e4f68-c82f-428b-b14f-a2447564bb2d",
   "metadata": {},
   "source": [
    "Elaborado por Luis Cajachahua bajo licencia MIT (2022)"
   ]
  }
 ],
 "metadata": {
  "kernelspec": {
   "display_name": "R",
   "language": "R",
   "name": "ir"
  },
  "language_info": {
   "codemirror_mode": "r",
   "file_extension": ".r",
   "mimetype": "text/x-r-source",
   "name": "R",
   "pygments_lexer": "r",
   "version": "3.6.1"
  }
 },
 "nbformat": 4,
 "nbformat_minor": 5
}
