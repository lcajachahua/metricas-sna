{
 "cells": [
  {
   "cell_type": "markdown",
   "id": "82d85a7b-741d-4610-8455-576b2119d31a",
   "metadata": {},
   "source": [
    "# Scraping Dinámico con Selenium: Extrayendo Datos de Restaurantes de Indonesia"
   ]
  },
  {
   "cell_type": "markdown",
   "id": "44fed36a-5cb4-45b9-b01e-37716026738c",
   "metadata": {},
   "source": [
    "Adaptado de: https://towardsai.net/p/programming/web-scraping-with-selenium-foods-around-jakarta-zomato"
   ]
  },
  {
   "cell_type": "code",
   "execution_count": null,
   "id": "a5129a8c-72f5-4c38-ad57-9642362172f4",
   "metadata": {},
   "outputs": [],
   "source": [
    "!pip install selenium"
   ]
  },
  {
   "cell_type": "code",
   "execution_count": null,
   "id": "91237368-b17c-4b17-86ea-c2316f58265c",
   "metadata": {},
   "outputs": [],
   "source": [
    "from selenium import webdriver\n",
    "import pandas as pd"
   ]
  },
  {
   "cell_type": "markdown",
   "id": "622e91de-020c-462d-8140-9857d09af03d",
   "metadata": {},
   "source": [
    "#### Indicar la Ruta donde se encuentra el driver para Selenium"
   ]
  },
  {
   "cell_type": "code",
   "execution_count": null,
   "id": "526e33ea-27c2-4005-8dde-38ebeca5692b",
   "metadata": {},
   "outputs": [],
   "source": [
    "chromepath = r'C:/TDAPPS/chromedriver.exe'\n",
    "driver = webdriver.Chrome(chromepath)"
   ]
  },
  {
   "cell_type": "markdown",
   "id": "49de8f7f-8f84-4015-99d1-8b727e934367",
   "metadata": {},
   "source": [
    "#### Extrayendo el listado de enlaces para visitar la web de cada Restaurante"
   ]
  },
  {
   "cell_type": "code",
   "execution_count": null,
   "id": "abba5f93-c771-4da8-ae4f-25151e6d4aa1",
   "metadata": {},
   "outputs": [],
   "source": [
    "out_lst = []\n",
    "\n",
    "for i in range(1, 20):\n",
    "    print('Opening Search Pages ' + str(i))\n",
    "    driver.get('https://www.zomato.com/jakarta/restoran?page={}'.format(i))\n",
    "    print('Accessing Webpage OK \\n')\n",
    "    url_elt = driver.find_elements_by_class_name(\"fNzDaR\")\n",
    "\n",
    "    for j in url_elt:\n",
    "        url = j.get_attribute(\"href\")\n",
    "        out_lst.append(url)\n",
    "\n",
    "driver.close()"
   ]
  },
  {
   "cell_type": "markdown",
   "id": "573f382b-f088-4599-b2ba-a04336a4e0a8",
   "metadata": {},
   "source": [
    "#### Almacenamos la lista de direcciones en un DataFrame"
   ]
  },
  {
   "cell_type": "code",
   "execution_count": null,
   "id": "2e6e9faa-0021-4305-af32-9807dfc7fe28",
   "metadata": {},
   "outputs": [],
   "source": [
    "out_df = pd.DataFrame(out_lst, columns=['Website'])\n",
    "out_df.head()"
   ]
  },
  {
   "cell_type": "markdown",
   "id": "6fd783e5-8949-4213-a715-c82a95bc5e8e",
   "metadata": {},
   "source": [
    "#### Utilizando la lista, descargamos los nombres de cada uno de los restaurantes"
   ]
  },
  {
   "cell_type": "code",
   "execution_count": null,
   "id": "8f8f6235-1bf3-491e-98be-a1c111ddcf2e",
   "metadata": {},
   "outputs": [],
   "source": [
    "# Initialize Empty List that we will use to store the scraping data results\n",
    "rest_name = []\n",
    "\n",
    "driver = webdriver.Chrome(chromepath)\n",
    "\n",
    "# Scrape the data by looping through entries in DataFrame\n",
    "for url in out_df['Website']:\n",
    "    driver.get(url)\n",
    "    print('Accessing Webpage OK')\n",
    "\n",
    "    try:\n",
    "        name_anchor = driver.find_element_by_tag_name('h1')\n",
    "        name = name_anchor.text\n",
    "        rest_name.append(name)\n",
    "    except NoSuchElementException:\n",
    "        name = \"404 Error\"\n",
    "        rest_name.append(name)\n",
    "        pass\n",
    "\n",
    "    print(f'Scraping Restaurant Name - {name} - OK')\n",
    "\n",
    "driver.close()"
   ]
  },
  {
   "cell_type": "markdown",
   "id": "182af0f1-0bd1-40b6-be85-3273a8eacac1",
   "metadata": {},
   "source": [
    "#### Generamos un loop para extraer información de todos los restaurantes de la lista"
   ]
  },
  {
   "cell_type": "code",
   "execution_count": null,
   "id": "e5d2ab59-a314-48c9-bbdf-9dc1179e16bb",
   "metadata": {},
   "outputs": [],
   "source": [
    "# Initialize Empty List that we will use to store the scraping data results\n",
    "rest_name = []\n",
    "rest_type = []\n",
    "rest_rating = []\n",
    "rest_review = []\n",
    "rest_address = []\n",
    "\n",
    "# Initialize Webdriver\n",
    "driver = webdriver.Chrome(chromepath)\n",
    "\n",
    "# Scrape the data by looping through entries in DataFrame\n",
    "for url in out_df['Website']:\n",
    "    driver.get(url)\n",
    "    print('Accessing Webpage OK')\n",
    "\n",
    "    #Restaurant Name\n",
    "    try:\n",
    "        name_anchor = driver.find_element_by_tag_name('h1')\n",
    "        name = name_anchor.text\n",
    "        rest_name.append(name)\n",
    "    except NoSuchElementException:\n",
    "        name = \"404 Error\"\n",
    "        rest_name.append(name)\n",
    "        pass\n",
    "\n",
    "    print(f'Scraping Restaurant Name - {name} - OK')\n",
    "\n",
    "    #Restaurant Type\n",
    "    rest_type_list = []\n",
    "    rest_type_eltlist = driver.find_elements_by_class_name(\"heiMdG\")\n",
    "\n",
    "    for rest_type_anchor in rest_type_eltlist:\n",
    "        rest_type_text = rest_type_anchor.text\n",
    "        rest_type_list.append(rest_type_text)\n",
    "\n",
    "    rest_type.append(rest_type_list)\n",
    "    print(f'Scraping Restaurant Type - {rest_type_list} - OK')\n",
    "\n",
    "    #Restaurant Rating\n",
    "    try:\n",
    "        rest_rating_anchor = driver.find_elements_by_class_name(\"cILgox\")\n",
    "        rest_rating_anchor = rest_rating_anchor[1]\n",
    "        rest_rating_text = rest_rating_anchor.text\n",
    "    except NoSuchElementException:\n",
    "        rest_rating_text = \"Not Rated Yet\"\n",
    "        pass\n",
    "\n",
    "    rest_rating.append(rest_rating_text)\n",
    "    print(f'Scraping Restaurant Rating - {rest_rating_text} - OK')\n",
    "\n",
    "    #Restaurant Review\n",
    "    try:\n",
    "        rest_review_anchor = driver.find_elements_by_class_name(\"kEgyiI\")\n",
    "        rest_review_anchor = rest_review_anchor[0]\n",
    "        rest_review_text = rest_review_anchor.text\n",
    "    except NoSuchElementException:\n",
    "        rest_review_text = \"Not Reviewed Yet\"\n",
    "        pass\n",
    "\n",
    "    rest_review.append(rest_review_text)\n",
    "    print(f'Scraping Restaurant Review Counts - {rest_review_text} - OK')\n",
    "\n",
    "    #Restaurant Address\n",
    "    rest_address_list = []\n",
    "    rest_address_anchor_list = driver.find_elements_by_class_name(\"fjhUCy\")\n",
    "    for rest_address_anchor in rest_address_anchor_list:\n",
    "        rest_address_text = rest_address_anchor.text\n",
    "        rest_address_list.append(rest_address_text)\n",
    "    rest_address.append(rest_address_list)\n",
    "    print(f'Scraping Restaurant Address - {rest_address_list} - OK')\n",
    "\n",
    "    print('-------------------------------------------------------------------------------------------------------------------------------------------')\n",
    "\n",
    "driver.close()"
   ]
  },
  {
   "cell_type": "markdown",
   "id": "04dbfa46-a22d-498f-8018-8445310bf12d",
   "metadata": {},
   "source": [
    "#### Consolidamos los resultados en un DataFrame"
   ]
  },
  {
   "cell_type": "code",
   "execution_count": null,
   "id": "1070ba98-c29c-4ca4-8595-1072df88e7c3",
   "metadata": {},
   "outputs": [],
   "source": [
    "rdf = pd.DataFrame({\"Name\" : rest_name[:], \"Type\" : rest_type[:], \"Rating\" : rest_rating[:], \n",
    "                    \"Reviews\" : rest_review[:], \"Address\" : rest_address[:], })\n",
    "rdf.head()"
   ]
  },
  {
   "cell_type": "markdown",
   "id": "e52bd2a0-449d-4fca-b873-3d08d0896664",
   "metadata": {},
   "source": [
    "#### Podemos analizar los datos, o exportarlos"
   ]
  },
  {
   "cell_type": "code",
   "execution_count": null,
   "id": "fe5d5948-2801-4441-8d4e-c64878d5a259",
   "metadata": {},
   "outputs": [],
   "source": [
    "rdf.to_csv('restaurantes.csv')"
   ]
  },
  {
   "cell_type": "markdown",
   "id": "18cd3d42-6b69-4d44-8be9-205f3f74c81d",
   "metadata": {},
   "source": [
    "Elaborado por Luis Cajachahua bajo licencia MIT (2022)"
   ]
  }
 ],
 "metadata": {
  "kernelspec": {
   "display_name": "Python 3 (ipykernel)",
   "language": "python",
   "name": "python3"
  },
  "language_info": {
   "codemirror_mode": {
    "name": "ipython",
    "version": 3
   },
   "file_extension": ".py",
   "mimetype": "text/x-python",
   "name": "python",
   "nbconvert_exporter": "python",
   "pygments_lexer": "ipython3",
   "version": "3.9.7"
  }
 },
 "nbformat": 4,
 "nbformat_minor": 5
}
