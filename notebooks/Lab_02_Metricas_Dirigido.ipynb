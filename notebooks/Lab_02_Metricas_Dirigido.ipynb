{
 "cells": [
  {
   "cell_type": "markdown",
   "id": "64517fc2",
   "metadata": {},
   "source": [
    "# Trabajando con Datos Externos"
   ]
  },
  {
   "cell_type": "markdown",
   "id": "a7d71f0f",
   "metadata": {},
   "source": [
    "## Cargar archivos csv\n",
    "Utilizamos la base de datos de Marvel (https://www.kaggle.com/csanhueza/the-marvel-universe-social-network)"
   ]
  },
  {
   "cell_type": "code",
   "execution_count": null,
   "id": "c086f9f8",
   "metadata": {},
   "outputs": [],
   "source": [
    "import pandas as pd\n",
    "import numpy as np \n",
    "import matplotlib.pyplot as plt\n",
    "import networkx as nx\n",
    "import time"
   ]
  },
  {
   "cell_type": "code",
   "execution_count": null,
   "id": "44286594",
   "metadata": {},
   "outputs": [],
   "source": [
    "h = pd.read_csv('../data/hero-network.csv')"
   ]
  },
  {
   "cell_type": "markdown",
   "id": "71ded9d7",
   "metadata": {},
   "source": [
    "Revisamos la información del DataFrame"
   ]
  },
  {
   "cell_type": "code",
   "execution_count": null,
   "id": "4fb37031",
   "metadata": {},
   "outputs": [],
   "source": [
    "h.info()"
   ]
  },
  {
   "cell_type": "markdown",
   "id": "70a347b3",
   "metadata": {},
   "source": [
    "Transformamos el DataFrame en un Grafo Dirigido"
   ]
  },
  {
   "cell_type": "code",
   "execution_count": null,
   "id": "83920e28",
   "metadata": {},
   "outputs": [],
   "source": [
    "G = nx.from_pandas_edgelist(h, source = \"hero1\", target = \"hero2\", create_using=nx.DiGraph())\n",
    "print(nx.info(G))"
   ]
  },
  {
   "cell_type": "markdown",
   "id": "606b81f9",
   "metadata": {},
   "source": [
    "Crear la función top_nodes que mostrará los valores más altos de un diccionario"
   ]
  },
  {
   "cell_type": "code",
   "execution_count": null,
   "id": "b9705c28",
   "metadata": {},
   "outputs": [],
   "source": [
    "def get_top_nodes(cdict, num=5):\n",
    "    top_nodes ={}\n",
    "    for i in range(num):\n",
    "        top_nodes =dict(\n",
    "            sorted(cdict.items(), key=lambda x: x[1], reverse=True)[:num]\n",
    "            )\n",
    "        return top_nodes"
   ]
  },
  {
   "cell_type": "markdown",
   "id": "3869f316",
   "metadata": {},
   "source": [
    "#### Grado"
   ]
  },
  {
   "cell_type": "markdown",
   "id": "c97e9afe",
   "metadata": {},
   "source": [
    "Guardar el grado de cada nodo en un diccionario"
   ]
  },
  {
   "cell_type": "code",
   "execution_count": null,
   "id": "683ceeb2",
   "metadata": {},
   "outputs": [],
   "source": [
    "gdeg=G.degree()"
   ]
  },
  {
   "cell_type": "code",
   "execution_count": null,
   "id": "d36ae6a0",
   "metadata": {},
   "outputs": [],
   "source": [
    "get_top_nodes(dict(gdeg))"
   ]
  },
  {
   "cell_type": "code",
   "execution_count": null,
   "id": "5b6a89ac",
   "metadata": {},
   "outputs": [],
   "source": [
    "print(nx.info(G,'CAPTAIN AMERICA'))"
   ]
  },
  {
   "cell_type": "markdown",
   "id": "b8d077f5",
   "metadata": {},
   "source": [
    "#### In-Degree"
   ]
  },
  {
   "cell_type": "code",
   "execution_count": null,
   "id": "066edeaa",
   "metadata": {},
   "outputs": [],
   "source": [
    "indeg=G.in_degree()\n",
    "get_top_nodes(dict(indeg))"
   ]
  },
  {
   "cell_type": "markdown",
   "id": "f86037bd",
   "metadata": {},
   "source": [
    "#### Out-Degree"
   ]
  },
  {
   "cell_type": "code",
   "execution_count": null,
   "id": "ed815a06",
   "metadata": {},
   "outputs": [],
   "source": [
    "outdeg=G.out_degree()\n",
    "get_top_nodes(dict(outdeg))"
   ]
  },
  {
   "cell_type": "markdown",
   "id": "db1c7a75",
   "metadata": {},
   "source": [
    "#### Degree Centrality"
   ]
  },
  {
   "cell_type": "code",
   "execution_count": null,
   "id": "f3b13d36",
   "metadata": {},
   "outputs": [],
   "source": [
    "degree_centrality =nx.degree_centrality(G)\n",
    "nx.set_node_attributes(G,degree_centrality, 'dc')\n",
    "get_top_nodes(degree_centrality)"
   ]
  },
  {
   "cell_type": "markdown",
   "id": "976925ff",
   "metadata": {},
   "source": [
    "#### Betweenness"
   ]
  },
  {
   "cell_type": "code",
   "execution_count": null,
   "id": "8b6b45e3",
   "metadata": {},
   "outputs": [],
   "source": [
    "t0= time.process_time()\n",
    "\n",
    "betweenness_centrality = nx.betweenness_centrality(G)\n",
    "nx.set_node_attributes(G,betweenness_centrality, 'bc')\n",
    "\n",
    "t1 = time.process_time() - t0\n",
    "print(\"Time elapsed: \", t1)"
   ]
  },
  {
   "cell_type": "code",
   "execution_count": null,
   "id": "666cb943",
   "metadata": {},
   "outputs": [],
   "source": [
    "get_top_nodes(betweenness_centrality)"
   ]
  },
  {
   "cell_type": "markdown",
   "id": "775c7634",
   "metadata": {},
   "source": [
    "#### Closeness"
   ]
  },
  {
   "cell_type": "code",
   "execution_count": null,
   "id": "5a72768e",
   "metadata": {},
   "outputs": [],
   "source": [
    "t0= time.process_time()\n",
    "\n",
    "closeness_centrality =nx.closeness_centrality(G)\n",
    "nx.set_node_attributes(G,closeness_centrality, 'cc')\n",
    "\n",
    "t1 = time.process_time() - t0\n",
    "print(\"Time elapsed: \", t1)"
   ]
  },
  {
   "cell_type": "code",
   "execution_count": null,
   "id": "09904a61",
   "metadata": {},
   "outputs": [],
   "source": [
    "get_top_nodes(closeness_centrality)"
   ]
  },
  {
   "cell_type": "markdown",
   "id": "68a3d137",
   "metadata": {},
   "source": [
    "#### Eigenvector Centrality"
   ]
  },
  {
   "cell_type": "code",
   "execution_count": null,
   "id": "addee212",
   "metadata": {},
   "outputs": [],
   "source": [
    "t0= time.process_time()\n",
    "\n",
    "eigenvector_centrality = nx.eigenvector_centrality(G)\n",
    "nx.set_node_attributes(G, eigenvector_centrality,'ec')\n",
    "\n",
    "t1 = time.process_time() - t0\n",
    "print(\"Time elapsed: \", t1)"
   ]
  },
  {
   "cell_type": "code",
   "execution_count": null,
   "id": "625b3092",
   "metadata": {},
   "outputs": [],
   "source": [
    "get_top_nodes(eigenvector_centrality)"
   ]
  },
  {
   "cell_type": "markdown",
   "id": "c51b3635",
   "metadata": {},
   "source": [
    "#### PageRank Centrality"
   ]
  },
  {
   "cell_type": "code",
   "execution_count": null,
   "id": "509f69b6",
   "metadata": {},
   "outputs": [],
   "source": [
    "t0= time.process_time()\n",
    "\n",
    "pagerank_centrality =nx.pagerank(G)\n",
    "nx.set_node_attributes(G, pagerank_centrality, 'pr')\n",
    "\n",
    "t1 = time.process_time() - t0\n",
    "print(\"Time elapsed: \", t1)"
   ]
  },
  {
   "cell_type": "code",
   "execution_count": null,
   "id": "f919b18d",
   "metadata": {},
   "outputs": [],
   "source": [
    "get_top_nodes(pagerank_centrality)"
   ]
  },
  {
   "cell_type": "markdown",
   "id": "11622421",
   "metadata": {},
   "source": [
    "## Métricas de Grafo"
   ]
  },
  {
   "cell_type": "markdown",
   "id": "15827060",
   "metadata": {},
   "source": [
    "#### All Shortest Path"
   ]
  },
  {
   "cell_type": "code",
   "execution_count": null,
   "id": "27115bbd",
   "metadata": {},
   "outputs": [],
   "source": [
    "list(nx.all_shortest_paths(G,'SPIDER-MAN/PETER PAR','QUILL'))"
   ]
  },
  {
   "cell_type": "code",
   "execution_count": null,
   "id": "37b525d2",
   "metadata": {},
   "outputs": [],
   "source": [
    "nx.shortest_path_length(G,'SPIDER-MAN/PETER PAR','QUILL')"
   ]
  },
  {
   "cell_type": "markdown",
   "id": "e2dc113b",
   "metadata": {},
   "source": [
    "#### Densidad"
   ]
  },
  {
   "cell_type": "code",
   "execution_count": null,
   "id": "32ed7e85",
   "metadata": {},
   "outputs": [],
   "source": [
    "nx.density(G)"
   ]
  },
  {
   "cell_type": "markdown",
   "id": "f1b53027",
   "metadata": {},
   "source": [
    "#### Local Clustering Coefficient"
   ]
  },
  {
   "cell_type": "code",
   "execution_count": null,
   "id": "69146b98",
   "metadata": {},
   "outputs": [],
   "source": [
    "nx.average_clustering(G)"
   ]
  },
  {
   "cell_type": "markdown",
   "id": "0d93dfcb-ab9a-415a-91bb-7d880868904a",
   "metadata": {},
   "source": [
    "## Pregunta\n",
    "¿Cuáles son las principales diferencias entre el cálculo de métricas entre grafos dirigidos y no dirigidos? ¿Cuáles ejecutan más rápido? ¿Hay alguna que no se pueda calcular para uno de los tipos? (Explique en no más de 300 palabras)"
   ]
  },
  {
   "cell_type": "markdown",
   "id": "7caf5de9-2218-41a5-9fdf-c1c17d4fdb5d",
   "metadata": {},
   "source": []
  },
  {
   "cell_type": "markdown",
   "id": "0bae14b6",
   "metadata": {},
   "source": [
    "Elaborado por Luis Cajachahua bajo licencia MIT (2021)"
   ]
  }
 ],
 "metadata": {
  "kernelspec": {
   "display_name": "Python 3",
   "language": "python",
   "name": "python3"
  },
  "language_info": {
   "codemirror_mode": {
    "name": "ipython",
    "version": 3
   },
   "file_extension": ".py",
   "mimetype": "text/x-python",
   "name": "python",
   "nbconvert_exporter": "python",
   "pygments_lexer": "ipython3",
   "version": "3.8.8"
  }
 },
 "nbformat": 4,
 "nbformat_minor": 5
}
