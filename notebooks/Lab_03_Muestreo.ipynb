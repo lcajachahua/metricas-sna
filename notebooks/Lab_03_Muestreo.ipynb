{
 "cells": [
  {
   "cell_type": "markdown",
   "id": "9f0b651c",
   "metadata": {},
   "source": [
    "# Muestreando Grafos"
   ]
  },
  {
   "cell_type": "markdown",
   "id": "98b02cb9",
   "metadata": {},
   "source": [
    "## Cargar archivos csv\n",
    "Utilizamos la base de datos de Marvel (https://www.kaggle.com/csanhueza/the-marvel-universe-social-network)"
   ]
  },
  {
   "cell_type": "code",
   "execution_count": null,
   "id": "3f58315f",
   "metadata": {},
   "outputs": [],
   "source": [
    "import pandas as pd\n",
    "import numpy as np \n",
    "import matplotlib.pyplot as plt\n",
    "import networkx as nx\n",
    "import time"
   ]
  },
  {
   "cell_type": "code",
   "execution_count": null,
   "id": "325e1f3e",
   "metadata": {},
   "outputs": [],
   "source": [
    "h = pd.read_csv('../data/hero-network.csv')"
   ]
  },
  {
   "cell_type": "markdown",
   "id": "860b0a8a",
   "metadata": {},
   "source": [
    "Revisamos la información del DataFrame"
   ]
  },
  {
   "cell_type": "code",
   "execution_count": null,
   "id": "0bcaba8d",
   "metadata": {},
   "outputs": [],
   "source": [
    "h.info()"
   ]
  },
  {
   "cell_type": "markdown",
   "id": "69b04058",
   "metadata": {},
   "source": [
    "Transformamos el DataFrame en un Grafo No Dirigido"
   ]
  },
  {
   "cell_type": "code",
   "execution_count": null,
   "id": "1e6ac99a",
   "metadata": {},
   "outputs": [],
   "source": [
    "G = nx.from_pandas_edgelist(h, source = \"hero1\", target = \"hero2\")\n",
    "print(nx.info(G))"
   ]
  },
  {
   "cell_type": "markdown",
   "id": "1ef535e3",
   "metadata": {},
   "source": [
    "Crear la función top_nodes que mostrará los valores más altos de un diccionario"
   ]
  },
  {
   "cell_type": "code",
   "execution_count": null,
   "id": "10a1f3e5",
   "metadata": {},
   "outputs": [],
   "source": [
    "def get_top_nodes(cdict, num=5):\n",
    "    top_nodes ={}\n",
    "    for i in range(num):\n",
    "        top_nodes =dict(\n",
    "            sorted(cdict.items(), key=lambda x: x[1], reverse=True)[:num]\n",
    "            )\n",
    "        return top_nodes"
   ]
  },
  {
   "cell_type": "markdown",
   "id": "4c0f17e5",
   "metadata": {},
   "source": [
    "## Muestreo de Grafos\n",
    "#### Opción 1: Método de Nodos Aleatorio"
   ]
  },
  {
   "cell_type": "code",
   "execution_count": null,
   "id": "bc01b438",
   "metadata": {},
   "outputs": [],
   "source": [
    "import random\n",
    "sampled_nodes = random.sample(G.nodes, 700)\n",
    "SG = G.subgraph(sampled_nodes)\n",
    "print(nx.info(SG))"
   ]
  },
  {
   "cell_type": "markdown",
   "id": "5b731dc5",
   "metadata": {},
   "source": [
    "#### Opción 2: Nos quedamos con el componente más grande"
   ]
  },
  {
   "cell_type": "code",
   "execution_count": null,
   "id": "01d79734",
   "metadata": {},
   "outputs": [],
   "source": [
    "SA=SG\n",
    "SC = max(nx.connected_components(SA), key=len)\n",
    "SG = SA.subgraph(SC)\n",
    "print(nx.info(SG))"
   ]
  },
  {
   "cell_type": "markdown",
   "id": "8be05cc1",
   "metadata": {},
   "source": [
    "## Librería Graph_Sampling \n",
    "Puede instalarse desde: https://github.com/Ashish7129/Graph_Sampling utilizando las siguientes sentencias en la terminal:\n",
    "```\n",
    "git clone https://github.com/Ashish7129/Graph_Sampling.git\n",
    "cd Graph_Sampling\n",
    "pip install -e .\n",
    "```"
   ]
  },
  {
   "cell_type": "markdown",
   "id": "feff151d-cdfb-47d4-9b07-54ce0d37db7e",
   "metadata": {},
   "source": [
    "#### Opción 3: Método Snowball"
   ]
  },
  {
   "cell_type": "code",
   "execution_count": null,
   "id": "76d01998",
   "metadata": {},
   "outputs": [],
   "source": [
    "import Graph_Sampling \n",
    "objects = Graph_Sampling.Snowball()\n",
    "SG = objects.snowball(G, 200, 10)\n",
    "print(nx.info(SG))"
   ]
  },
  {
   "cell_type": "markdown",
   "id": "d6048499",
   "metadata": {},
   "source": [
    "#### Opción 4: Método ForestFire"
   ]
  },
  {
   "cell_type": "code",
   "execution_count": null,
   "id": "3aeeb965",
   "metadata": {},
   "outputs": [],
   "source": [
    "objectf = Graph_Sampling.ForestFire()\n",
    "SF = objectf.forestfire(G, 200)\n",
    "print(nx.info(SF))"
   ]
  },
  {
   "cell_type": "markdown",
   "id": "54b5132f",
   "metadata": {},
   "source": [
    "## Métricas de Nodo\n",
    "#### Grado"
   ]
  },
  {
   "cell_type": "markdown",
   "id": "dff36f00",
   "metadata": {},
   "source": [
    "Guardar el grado de cada nodo en un diccionario"
   ]
  },
  {
   "cell_type": "code",
   "execution_count": null,
   "id": "f59be34e",
   "metadata": {},
   "outputs": [],
   "source": [
    "gdeg=SG.degree()"
   ]
  },
  {
   "cell_type": "code",
   "execution_count": null,
   "id": "aef25392",
   "metadata": {},
   "outputs": [],
   "source": [
    "get_top_nodes(dict(gdeg))"
   ]
  },
  {
   "cell_type": "markdown",
   "id": "a851e208",
   "metadata": {},
   "source": [
    "#### Degree Centrality"
   ]
  },
  {
   "cell_type": "code",
   "execution_count": null,
   "id": "e2520405",
   "metadata": {},
   "outputs": [],
   "source": [
    "degree_centrality =nx.degree_centrality(SG)\n",
    "nx.set_node_attributes(SG,degree_centrality, 'dc')\n",
    "get_top_nodes(degree_centrality)"
   ]
  },
  {
   "cell_type": "code",
   "execution_count": null,
   "id": "20182355",
   "metadata": {},
   "outputs": [],
   "source": [
    "plt.figure(figsize=(32,18)) \n",
    "pos=nx.spring_layout(SG)\n",
    "nx.draw_networkx(SG, width=0.1, node_size=[5000*v for v in nx.get_node_attributes(SG, 'dc').values()], pos=pos)"
   ]
  },
  {
   "cell_type": "markdown",
   "id": "f67dab0a",
   "metadata": {},
   "source": [
    "#### Betweenness"
   ]
  },
  {
   "cell_type": "code",
   "execution_count": null,
   "id": "dc644aff",
   "metadata": {},
   "outputs": [],
   "source": [
    "betweenness_centrality = nx.betweenness_centrality(SG)\n",
    "nx.set_node_attributes(SG,betweenness_centrality, 'bc')\n",
    "get_top_nodes(betweenness_centrality)"
   ]
  },
  {
   "cell_type": "code",
   "execution_count": null,
   "id": "5bfa7c99",
   "metadata": {},
   "outputs": [],
   "source": [
    "plt.figure(figsize=(32,18)) \n",
    "nx.draw_networkx(SG, width=0.1, node_size=[10000 * v for v in nx.get_node_attributes(SG, 'bc').values()], pos=pos)"
   ]
  },
  {
   "cell_type": "markdown",
   "id": "50d9e2ed",
   "metadata": {},
   "source": [
    "#### Closeness"
   ]
  },
  {
   "cell_type": "code",
   "execution_count": null,
   "id": "56c1bfa9",
   "metadata": {},
   "outputs": [],
   "source": [
    "closeness_centrality =nx.closeness_centrality(SG)\n",
    "nx.set_node_attributes(SG,closeness_centrality, 'cc')\n",
    "get_top_nodes(closeness_centrality)"
   ]
  },
  {
   "cell_type": "code",
   "execution_count": null,
   "id": "45fdc16b",
   "metadata": {},
   "outputs": [],
   "source": [
    "plt.figure(figsize=(32,18)) \n",
    "nx.draw_networkx(SG, width=0.1, node_size=[1000 * v for v in nx.get_node_attributes(SG, 'cc').values()], pos=pos)"
   ]
  },
  {
   "cell_type": "markdown",
   "id": "20d0bac3",
   "metadata": {},
   "source": [
    "#### Eigenvector Centrality"
   ]
  },
  {
   "cell_type": "code",
   "execution_count": null,
   "id": "52fb53ca",
   "metadata": {},
   "outputs": [],
   "source": [
    "eigenvector_centrality = nx.eigenvector_centrality(SG)\n",
    "nx.set_node_attributes(SG, eigenvector_centrality,'ec')\n",
    "get_top_nodes(eigenvector_centrality)"
   ]
  },
  {
   "cell_type": "code",
   "execution_count": null,
   "id": "f2dd3232",
   "metadata": {},
   "outputs": [],
   "source": [
    "plt.figure(figsize=(32,18)) \n",
    "nx.draw_networkx(SG, width=0.1, node_size=[10000 * v for v in nx.get_node_attributes(SG, 'ec').values()], pos=pos)"
   ]
  },
  {
   "cell_type": "markdown",
   "id": "c6fe35bc",
   "metadata": {},
   "source": [
    "#### PageRank Centrality"
   ]
  },
  {
   "cell_type": "code",
   "execution_count": null,
   "id": "9a9408b8",
   "metadata": {},
   "outputs": [],
   "source": [
    "pagerank_centrality =nx.pagerank(SG)\n",
    "nx.set_node_attributes(SG, pagerank_centrality, 'pr')\n",
    "get_top_nodes(pagerank_centrality)"
   ]
  },
  {
   "cell_type": "code",
   "execution_count": null,
   "id": "5c20cec7",
   "metadata": {},
   "outputs": [],
   "source": [
    "plt.figure(figsize=(32,18)) \n",
    "nx.draw_networkx(SG, width=0.1, node_size=[100000 * v for v in nx.get_node_attributes(SG, 'pr').values()], pos=pos)"
   ]
  },
  {
   "cell_type": "markdown",
   "id": "d5b8e6ed",
   "metadata": {},
   "source": [
    "#### Densidad"
   ]
  },
  {
   "cell_type": "code",
   "execution_count": null,
   "id": "e81c6b3a",
   "metadata": {},
   "outputs": [],
   "source": [
    "nx.density(G)"
   ]
  },
  {
   "cell_type": "markdown",
   "id": "739fe55c",
   "metadata": {},
   "source": [
    "Elaborado por Luis Cajachahua bajo licencia MIT (2022)"
   ]
  }
 ],
 "metadata": {
  "kernelspec": {
   "display_name": "Python 3",
   "language": "python",
   "name": "python3"
  },
  "language_info": {
   "codemirror_mode": {
    "name": "ipython",
    "version": 3
   },
   "file_extension": ".py",
   "mimetype": "text/x-python",
   "name": "python",
   "nbconvert_exporter": "python",
   "pygments_lexer": "ipython3",
   "version": "3.8.8"
  }
 },
 "nbformat": 4,
 "nbformat_minor": 5
}
