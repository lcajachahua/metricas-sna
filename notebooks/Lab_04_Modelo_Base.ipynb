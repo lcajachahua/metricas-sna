{
 "cells": [
  {
   "cell_type": "markdown",
   "metadata": {
    "colab_type": "text",
    "id": "b8i4MkfOtI3N"
   },
   "source": [
    "# Caso: Predicción de Churn con Árboles y Ensamblados\n",
    "\n",
    "#### Cantidad de Clientes: 400\n",
    "#### Horizonte de tiempo: De Nov-2012 a Ene-2014 (15 meses)\n"
   ]
  },
  {
   "cell_type": "code",
   "execution_count": null,
   "metadata": {
    "colab": {
     "base_uri": "https://localhost:8080/",
     "height": 71
    },
    "colab_type": "code",
    "executionInfo": {
     "elapsed": 1072,
     "status": "ok",
     "timestamp": 1588348742428,
     "user": {
      "displayName": "César Quezada",
      "photoUrl": "",
      "userId": "01596675882994571196"
     },
     "user_tz": 300
    },
    "id": "_yGu867VsrU2",
    "outputId": "0bf3fb21-e2e5-429c-80c3-bcb70acefb51"
   },
   "outputs": [],
   "source": [
    "## Podemos hacer el balanceo de manera artesanal , para entender las lógicas.\n",
    "import numpy as np\n",
    "import pandas as pd\n",
    "import matplotlib.pyplot as plt\n",
    "import seaborn as sns"
   ]
  },
  {
   "cell_type": "markdown",
   "metadata": {
    "colab_type": "text",
    "id": "V2zHy1KRmMas"
   },
   "source": [
    "### **Carga de la base de datos**\n",
    "\n",
    "Desarrollar el mejor modelo de propensión que prediga si se logrará la venta de un préstamo digital."
   ]
  },
  {
   "cell_type": "code",
   "execution_count": null,
   "metadata": {
    "colab": {},
    "colab_type": "code",
    "id": "2YXJcHufxtqW"
   },
   "outputs": [],
   "source": [
    "df = pd.read_csv('../data/data_matrix.csv')"
   ]
  },
  {
   "cell_type": "code",
   "execution_count": null,
   "metadata": {
    "colab": {
     "base_uri": "https://localhost:8080/",
     "height": 292
    },
    "colab_type": "code",
    "executionInfo": {
     "elapsed": 691,
     "status": "ok",
     "timestamp": 1588351854875,
     "user": {
      "displayName": "César Quezada",
      "photoUrl": "",
      "userId": "01596675882994571196"
     },
     "user_tz": 300
    },
    "id": "yY7z1Keextsx",
    "outputId": "32e5a8e2-ce33-49d6-bbd3-543e127f97b0"
   },
   "outputs": [],
   "source": [
    "df.head(5)"
   ]
  },
  {
   "cell_type": "code",
   "execution_count": null,
   "metadata": {
    "colab": {
     "base_uri": "https://localhost:8080/",
     "height": 68
    },
    "colab_type": "code",
    "executionInfo": {
     "elapsed": 898,
     "status": "ok",
     "timestamp": 1588294720419,
     "user": {
      "displayName": "César Quezada",
      "photoUrl": "",
      "userId": "01596675882994571196"
     },
     "user_tz": 300
    },
    "id": "h3rHm-XvxtvK",
    "outputId": "2d6165df-b87a-47a5-b08f-31cc15116ce0"
   },
   "outputs": [],
   "source": [
    "df.churn.value_counts(normalize=True)"
   ]
  },
  {
   "cell_type": "code",
   "execution_count": null,
   "metadata": {},
   "outputs": [],
   "source": [
    "df.churn.value_counts()"
   ]
  },
  {
   "cell_type": "code",
   "execution_count": null,
   "metadata": {
    "colab": {
     "base_uri": "https://localhost:8080/",
     "height": 440
    },
    "colab_type": "code",
    "executionInfo": {
     "elapsed": 1248,
     "status": "ok",
     "timestamp": 1588349318017,
     "user": {
      "displayName": "César Quezada",
      "photoUrl": "",
      "userId": "01596675882994571196"
     },
     "user_tz": 300
    },
    "id": "49t8PcORBlPJ",
    "outputId": "85965b4c-33da-4686-96b9-4e6cc1bebddc"
   },
   "outputs": [],
   "source": [
    "sns.factorplot('churn',data=df,kind=\"count\")"
   ]
  },
  {
   "cell_type": "code",
   "execution_count": null,
   "metadata": {
    "colab": {},
    "colab_type": "code",
    "id": "zAfkRmL8xtxb"
   },
   "outputs": [],
   "source": [
    "df.dtypes"
   ]
  },
  {
   "cell_type": "code",
   "execution_count": null,
   "metadata": {},
   "outputs": [],
   "source": [
    "# limpieza básica\n",
    "df = df.drop(['customerid'], axis=1)"
   ]
  },
  {
   "cell_type": "code",
   "execution_count": null,
   "metadata": {},
   "outputs": [],
   "source": [
    "cor_mat = df.corr()\n",
    "mask = np.array(cor_mat)\n",
    "mask[np.tril_indices_from(mask)] = False\n",
    "fig = plt.gcf()\n",
    "fig.set_size_inches(30,12)\n",
    "sns.heatmap(data=cor_mat,mask=mask,square=True,annot=True,cbar=True)"
   ]
  },
  {
   "cell_type": "markdown",
   "metadata": {
    "colab_type": "text",
    "id": "4cGPzgkgf07u"
   },
   "source": [
    "### Modelos con la muestra completa"
   ]
  },
  {
   "cell_type": "code",
   "execution_count": null,
   "metadata": {
    "colab": {},
    "colab_type": "code",
    "id": "lR2S2WsFsrcW"
   },
   "outputs": [],
   "source": [
    "from sklearn.model_selection import train_test_split\n",
    "from sklearn.metrics import classification_report, confusion_matrix, accuracy_score, precision_score, recall_score, f1_score\n",
    "from sklearn.tree import DecisionTreeClassifier\n",
    "from sklearn.ensemble import RandomForestClassifier\n",
    "import xgboost as xgb"
   ]
  },
  {
   "cell_type": "code",
   "execution_count": null,
   "metadata": {
    "colab": {},
    "colab_type": "code",
    "id": "3gp3Pkkuf0Uk"
   },
   "outputs": [],
   "source": [
    "#Separación de predictoras y predicha\n",
    "X = df.drop('churn', axis=1)\n",
    "y = df['churn']"
   ]
  },
  {
   "cell_type": "code",
   "execution_count": null,
   "metadata": {
    "colab": {},
    "colab_type": "code",
    "id": "aN4OoNU0f_cz"
   },
   "outputs": [],
   "source": [
    "#Creación de muestras de train y test\n",
    "X_train, X_test, y_train, y_test = train_test_split(X, y, test_size=0.3, random_state=22)"
   ]
  },
  {
   "cell_type": "code",
   "execution_count": null,
   "metadata": {
    "colab": {
     "base_uri": "https://localhost:8080/",
     "height": 34
    },
    "colab_type": "code",
    "executionInfo": {
     "elapsed": 782,
     "status": "ok",
     "timestamp": 1588294842990,
     "user": {
      "displayName": "César Quezada",
      "photoUrl": "",
      "userId": "01596675882994571196"
     },
     "user_tz": 300
    },
    "id": "MqdEO5H8v75g",
    "outputId": "a82014e1-f16f-498a-8651-d49b367de725"
   },
   "outputs": [],
   "source": [
    "X_train.shape, y_train.shape"
   ]
  },
  {
   "cell_type": "code",
   "execution_count": null,
   "metadata": {
    "colab": {
     "base_uri": "https://localhost:8080/",
     "height": 34
    },
    "colab_type": "code",
    "executionInfo": {
     "elapsed": 939,
     "status": "ok",
     "timestamp": 1588294862678,
     "user": {
      "displayName": "César Quezada",
      "photoUrl": "",
      "userId": "01596675882994571196"
     },
     "user_tz": 300
    },
    "id": "JMixsjFdwAM_",
    "outputId": "0131448c-5236-4215-f582-f96be57d4625"
   },
   "outputs": [],
   "source": [
    "X_test.shape, y_test.shape"
   ]
  },
  {
   "cell_type": "markdown",
   "metadata": {},
   "source": [
    "### Modelo Decision Tree"
   ]
  },
  {
   "cell_type": "code",
   "execution_count": null,
   "metadata": {
    "colab": {},
    "colab_type": "code",
    "id": "NvqIXicxf_fJ"
   },
   "outputs": [],
   "source": [
    "tree = DecisionTreeClassifier()\n",
    "tree_model = tree.fit(X_train, y_train)\n",
    "Y_pred = tree_model.predict(X_test)"
   ]
  },
  {
   "cell_type": "code",
   "execution_count": null,
   "metadata": {},
   "outputs": [],
   "source": [
    "ind = pd.DataFrame(columns = ['Modelo', 'Muestra', 'Tamaño', 'Accuracy', 'Precision', 'Recall', 'F1Score'])"
   ]
  },
  {
   "cell_type": "code",
   "execution_count": null,
   "metadata": {},
   "outputs": [],
   "source": [
    "print(\"Matriz confusion: Test\")\n",
    "print(confusion_matrix(y_test,Y_pred))\n",
    "\n",
    "ind = ind.append({'Modelo' : 'DecisionTree', 'Muestra' : 'Test', 'Tamaño': len(Y_pred), 'Accuracy' : accuracy_score(y_test,Y_pred), \n",
    "                  'Precision' : precision_score(y_test,Y_pred), 'Recall' : recall_score(y_test,Y_pred), 'F1Score' : f1_score(y_test,Y_pred)}, ignore_index = True)\n",
    "ind.head()"
   ]
  },
  {
   "cell_type": "markdown",
   "metadata": {},
   "source": [
    "### Modelo XGBoost"
   ]
  },
  {
   "cell_type": "code",
   "execution_count": null,
   "metadata": {
    "colab": {},
    "colab_type": "code",
    "id": "0DbUhybuf0XI"
   },
   "outputs": [],
   "source": [
    "xgb_mod=xgb.XGBClassifier()\n",
    "xgb_mod.fit(X_train, y_train)\n",
    "Y_pred= xgb_mod.predict(X_test)"
   ]
  },
  {
   "cell_type": "code",
   "execution_count": null,
   "metadata": {},
   "outputs": [],
   "source": [
    "print(\"Matriz confusion: Test\")\n",
    "print(confusion_matrix(y_test,Y_pred))\n",
    "\n",
    "ind = ind.append({'Modelo' : 'XGBoost', 'Muestra' : 'Test', 'Tamaño': len(Y_pred), 'Accuracy' : accuracy_score(y_test,Y_pred), \n",
    "                  'Precision' : precision_score(y_test,Y_pred), 'Recall' : recall_score(y_test,Y_pred), 'F1Score' : f1_score(y_test,Y_pred)}, ignore_index = True)\n",
    "ind.head()"
   ]
  },
  {
   "cell_type": "markdown",
   "metadata": {},
   "source": [
    "### Modelo RandomForest"
   ]
  },
  {
   "cell_type": "code",
   "execution_count": null,
   "metadata": {},
   "outputs": [],
   "source": [
    "rf = RandomForestClassifier()\n",
    "rf.fit(X_train, y_train)\n",
    "Y_pred=rf.predict(X_test)"
   ]
  },
  {
   "cell_type": "code",
   "execution_count": null,
   "metadata": {},
   "outputs": [],
   "source": [
    "print(\"Matriz confusion: Test\")\n",
    "print(confusion_matrix(y_test,Y_pred))\n",
    "\n",
    "ind = ind.append({'Modelo' : 'RandomForest', 'Muestra' : 'Test', 'Tamaño': len(Y_pred), 'Accuracy' : accuracy_score(y_test,Y_pred), \n",
    "                  'Precision' : precision_score(y_test,Y_pred), 'Recall' : recall_score(y_test,Y_pred), 'F1Score' : f1_score(y_test,Y_pred)}, ignore_index = True)\n",
    "ind.head()"
   ]
  },
  {
   "cell_type": "code",
   "execution_count": null,
   "metadata": {},
   "outputs": [],
   "source": [
    "TablaImportancia = pd.concat([pd.DataFrame({'Feature':list(df.drop(['churn'],axis=1).columns)}),\n",
    "                              pd.DataFrame({'Importance':list(rf.feature_importances_)})], axis = 1)\n",
    "TablaImportancia[['Feature','Importance']].sort_values('Importance', ascending = False).reset_index(drop = True)"
   ]
  },
  {
   "cell_type": "markdown",
   "metadata": {},
   "source": [
    "Copyright 2021. Elaborado por Luis Cajachahua"
   ]
  }
 ],
 "metadata": {
  "colab": {
   "authorship_tag": "ABX9TyNa//3M4G0ziIjyi3XMSIRP",
   "name": "D. Resampling strategies.ipynb",
   "provenance": []
  },
  "kernelspec": {
   "display_name": "Python 3",
   "language": "python",
   "name": "python3"
  },
  "language_info": {
   "codemirror_mode": {
    "name": "ipython",
    "version": 3
   },
   "file_extension": ".py",
   "mimetype": "text/x-python",
   "name": "python",
   "nbconvert_exporter": "python",
   "pygments_lexer": "ipython3",
   "version": "3.8.8"
  }
 },
 "nbformat": 4,
 "nbformat_minor": 4
}
