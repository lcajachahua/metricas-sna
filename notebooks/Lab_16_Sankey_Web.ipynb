{
 "cells": [
  {
   "cell_type": "markdown",
   "id": "2448743d",
   "metadata": {},
   "source": [
    "# Caso: Análisis de los Logs de Navegación de la web de un Banco"
   ]
  },
  {
   "cell_type": "markdown",
   "id": "da74f8e3",
   "metadata": {},
   "source": [
    "Utilizamos una muestra del Log de Navegación del sitio web de un Banco\n",
    "##### Clientes analizados: 6,576\n",
    "##### Horizonte de tiempo: Del 12-Mar-2018 al 21-May-2018 (Poco menos de 3 meses)"
   ]
  },
  {
   "cell_type": "code",
   "execution_count": null,
   "id": "2a803026",
   "metadata": {},
   "outputs": [],
   "source": [
    "##pip install holoviews"
   ]
  },
  {
   "cell_type": "code",
   "execution_count": null,
   "id": "e4122fdd-8813-4589-82b6-b2fdaef42dc5",
   "metadata": {},
   "outputs": [],
   "source": [
    "##pip install plotly"
   ]
  },
  {
   "cell_type": "code",
   "execution_count": null,
   "id": "74ab3211-dfe4-4236-9d0c-019c3ae6d0b8",
   "metadata": {
    "tags": []
   },
   "outputs": [],
   "source": [
    "import pandas as pd\n",
    "import numpy as np \n",
    "import plotly.graph_objects as go\n",
    "import plotly.express as pex\n",
    "import holoviews as hv\n",
    "hv.extension('bokeh')"
   ]
  },
  {
   "cell_type": "code",
   "execution_count": null,
   "id": "d43c3a78-476b-4b63-81a4-e92079035b06",
   "metadata": {},
   "outputs": [],
   "source": [
    "h = pd.read_csv('../data/listanav.csv')\n",
    "h.head()"
   ]
  },
  {
   "cell_type": "markdown",
   "id": "620ef658-2670-45b3-9cb8-9b54cd152f62",
   "metadata": {},
   "source": [
    "## Visualización utilizando Holoviews"
   ]
  },
  {
   "cell_type": "code",
   "execution_count": null,
   "id": "b94430e2-0a3f-455a-b477-92203e648ed3",
   "metadata": {},
   "outputs": [],
   "source": [
    "%%opts Sankey (edge_color='inicio'  edge_line_width=2 node_cmap='tab20')\n",
    "%%opts Sankey (node_alpha=1.0 edge_hover_fill_color='red')\n",
    "%%opts Sankey [node_sort=False label_position='right' node_width=30 node_sort=True ]\n",
    "%%opts Sankey [margin=0 padding=0 bgcolor='white']\n",
    "\n",
    "hv.Sankey(h, kdims=['inicio', 'fin'], vdims=['customer'])"
   ]
  },
  {
   "cell_type": "code",
   "execution_count": null,
   "id": "0b4eab5b",
   "metadata": {},
   "outputs": [],
   "source": []
  },
  {
   "cell_type": "markdown",
   "id": "6c0e8fb0-b4c1-45cf-99a5-a5f3f955dbd0",
   "metadata": {},
   "source": [
    "## Visualización utilizando Plotly"
   ]
  },
  {
   "cell_type": "code",
   "execution_count": null,
   "id": "00c8cc1f-723e-4174-8954-53dd864d1f72",
   "metadata": {},
   "outputs": [],
   "source": [
    "all_nodes = h.inicio.values.tolist() + h.fin.values.tolist()\n",
    "source_indices = [all_nodes.index(country) for country in h.inicio]\n",
    "target_indices = [all_nodes.index(measure) for measure in h.fin]\n",
    "\n",
    "colors = pex.colors.qualitative.D3\n",
    "node_colors = [np.random.choice(colors) for node in all_nodes]\n",
    "\n",
    "fig = go.Figure(data=[go.Sankey(\n",
    "    node = dict(\n",
    "      pad = 20,\n",
    "      thickness = 20,\n",
    "      line = dict(color = 'black', width = 1.0),\n",
    "      label =  all_nodes,\n",
    "      color =  node_colors,\n",
    "    ),\n",
    "\n",
    "    link = dict(\n",
    "      source =  source_indices,\n",
    "      target =  target_indices,\n",
    "      value =  h.customer,\n",
    "))])\n",
    "\n",
    "fig.update_layout(title_text='Patrones de Navegación en el Banco',\n",
    "                  height=600,\n",
    "                  font=dict(size = 10, color = 'black'),\n",
    "                  paper_bgcolor='white')\n",
    "\n",
    "fig.show()"
   ]
  },
  {
   "cell_type": "code",
   "execution_count": null,
   "id": "80053489-99aa-4e12-88a6-bcaba9f65839",
   "metadata": {},
   "outputs": [],
   "source": []
  },
  {
   "cell_type": "markdown",
   "id": "b56d4e70",
   "metadata": {},
   "source": [
    "Elaborado por Luis Cajachahua bajo licencia MIT (2022)"
   ]
  }
 ],
 "metadata": {
  "kernelspec": {
   "display_name": "Python 3 (ipykernel)",
   "language": "python",
   "name": "python3"
  },
  "language_info": {
   "codemirror_mode": {
    "name": "ipython",
    "version": 3
   },
   "file_extension": ".py",
   "mimetype": "text/x-python",
   "name": "python",
   "nbconvert_exporter": "python",
   "pygments_lexer": "ipython3",
   "version": "3.9.7"
  }
 },
 "nbformat": 4,
 "nbformat_minor": 5
}
