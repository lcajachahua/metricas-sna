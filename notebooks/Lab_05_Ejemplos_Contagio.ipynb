{
 "cells": [
  {
   "cell_type": "markdown",
   "id": "hungry-institute",
   "metadata": {},
   "source": [
    "# Ejemplos: Contagio en Redes"
   ]
  },
  {
   "cell_type": "markdown",
   "id": "premium-pottery",
   "metadata": {},
   "source": [
    "## Contagio Simple"
   ]
  },
  {
   "cell_type": "code",
   "execution_count": null,
   "id": "formal-polish",
   "metadata": {},
   "outputs": [],
   "source": [
    "import pandas as pd\n",
    "import numpy as np \n",
    "import matplotlib.pyplot as plt\n",
    "import networkx as nx\n",
    "import time"
   ]
  },
  {
   "cell_type": "markdown",
   "id": "d4b4fd10-e13f-4468-9f9d-36b4e82fd202",
   "metadata": {},
   "source": [
    "### Propagación en una red tipo anillo\n",
    "Creamos una red pequeña utilizando el algoritmo de Watts-Strogatz"
   ]
  },
  {
   "cell_type": "code",
   "execution_count": null,
   "id": "swiss-cyprus",
   "metadata": {},
   "outputs": [],
   "source": [
    "plt.figure(figsize=(6,6)) \n",
    "G_small_ring = nx.watts_strogatz_graph(16, 4, 0)\n",
    "pos = nx.circular_layout(G_small_ring)\n",
    "nx.draw_networkx(G_small_ring, pos=pos, with_labels=False)"
   ]
  },
  {
   "cell_type": "markdown",
   "id": "modern-dominican",
   "metadata": {},
   "source": [
    "Creamos la función 'propagate_simple'"
   ]
  },
  {
   "cell_type": "code",
   "execution_count": null,
   "id": "useful-cable",
   "metadata": {},
   "outputs": [],
   "source": [
    "def propagate_simple(G):\n",
    "    to_infect = set([])\n",
    "    for v in G.nodes():\n",
    "        if G.nodes[v]['infected'] == False:\n",
    "            for w in nx.neighbors(G, v):\n",
    "                if G.nodes[w]['infected']:\n",
    "                    to_infect.add(v)\n",
    "                    break\n",
    "    for v in to_infect:\n",
    "        G.nodes[v]['infected'] = True"
   ]
  },
  {
   "cell_type": "markdown",
   "id": "mental-hollow",
   "metadata": {},
   "source": [
    "Simulamos el contagio"
   ]
  },
  {
   "cell_type": "code",
   "execution_count": null,
   "id": "elementary-doubt",
   "metadata": {},
   "outputs": [],
   "source": [
    "nx.set_node_attributes(G_small_ring, dict((i, False) for i in range(16)),'infected')\n",
    "for i in range(2):\n",
    "    G_small_ring.nodes[i]['infected'] = True"
   ]
  },
  {
   "cell_type": "markdown",
   "id": "faced-wilderness",
   "metadata": {},
   "source": [
    "Visualizamos la secuencia de contagio en dos pasos"
   ]
  },
  {
   "cell_type": "code",
   "execution_count": null,
   "id": "congressional-reaction",
   "metadata": {},
   "outputs": [],
   "source": [
    "plt.figure(figsize=(15,5)) \n",
    "for i in range(3):\n",
    "    plt.subplot(1, 3, i + 1)\n",
    "    node_color = ['#bfbf7f' if G_small_ring.nodes[v]['infected'] else '#9f9fff'\n",
    "                  for v in G_small_ring.nodes]\n",
    "    nx.draw_networkx(G_small_ring, pos=nx.circular_layout(G_small_ring), node_color=node_color)\n",
    "    propagate_simple(G_small_ring)\n",
    "    plt.title(\"Step {}\".format(i))\n",
    "plt.tight_layout()"
   ]
  },
  {
   "cell_type": "markdown",
   "id": "future-personal",
   "metadata": {},
   "source": [
    "### Propagación en una Red Aleatoria"
   ]
  },
  {
   "cell_type": "code",
   "execution_count": null,
   "id": "arbitrary-stopping",
   "metadata": {},
   "outputs": [],
   "source": [
    "plt.figure(figsize=(6,6))\n",
    "G_small_random = nx.watts_strogatz_graph(16, 4, 1)\n",
    "pos = nx.circular_layout(G_small_random)\n",
    "nx.draw_networkx(G_small_random, pos=pos, with_labels=False)"
   ]
  },
  {
   "cell_type": "markdown",
   "id": "durable-baghdad",
   "metadata": {},
   "source": [
    "Simulamos el contagio"
   ]
  },
  {
   "cell_type": "code",
   "execution_count": null,
   "id": "religious-motivation",
   "metadata": {},
   "outputs": [],
   "source": [
    "nx.set_node_attributes(G_small_random, dict((i, False) for i in range(16)), 'infected')\n",
    "for i in range(2):\n",
    "    G_small_random.nodes[i]['infected'] = True"
   ]
  },
  {
   "cell_type": "markdown",
   "id": "powered-shade",
   "metadata": {},
   "source": [
    "Visualizamos la secuencia de contagio en dos pasos"
   ]
  },
  {
   "cell_type": "code",
   "execution_count": null,
   "id": "integral-degree",
   "metadata": {},
   "outputs": [],
   "source": [
    "plt.figure(figsize=(15,5)) \n",
    "for i in range(3):\n",
    "    plt.subplot(1, 3, i + 1)\n",
    "    node_color = ['#bfbf7f' if G_small_random.nodes[v]['infected'] else '#9f9fff'\n",
    "                  for v in G_small_random.nodes]\n",
    "    nx.draw_networkx(G_small_random, pos=nx.circular_layout(G_small_random), node_color=node_color)\n",
    "    propagate_simple(G_small_random)\n",
    "    plt.title(\"Step {}\".format(i))\n",
    "plt.tight_layout()"
   ]
  },
  {
   "cell_type": "markdown",
   "id": "ignored-lucas",
   "metadata": {},
   "source": [
    "## Contagio Complejo"
   ]
  },
  {
   "cell_type": "markdown",
   "id": "intimate-personal",
   "metadata": {},
   "source": [
    "Agregamos un nivel de tolerancia para el contagio"
   ]
  },
  {
   "cell_type": "code",
   "execution_count": null,
   "id": "banner-collaboration",
   "metadata": {},
   "outputs": [],
   "source": [
    "def propagate_complex(G):\n",
    "    to_infect = set([])\n",
    "    for v in G.nodes():\n",
    "        if G.nodes[v]['infected'] == False:\n",
    "            infected_neighbors = 0\n",
    "            for w in nx.neighbors(G, v):\n",
    "                if G.nodes[w]['infected']:\n",
    "                    infected_neighbors += 1\n",
    "            if infected_neighbors >= 2:\n",
    "                to_infect.add(v)\n",
    "    for v in to_infect:\n",
    "        G.nodes[v]['infected'] = True"
   ]
  },
  {
   "cell_type": "markdown",
   "id": "executed-reunion",
   "metadata": {},
   "source": [
    "Inicializamos los contagios"
   ]
  },
  {
   "cell_type": "code",
   "execution_count": null,
   "id": "compliant-contest",
   "metadata": {},
   "outputs": [],
   "source": [
    "nx.set_node_attributes(G_small_ring, dict((i, False) for i in range(16)), 'infected')\n",
    "for i in range(2):\n",
    "    G_small_ring.nodes[i]['infected'] = True"
   ]
  },
  {
   "cell_type": "markdown",
   "id": "4fa5487a-cef2-43fa-9aa4-ca26daad25c5",
   "metadata": {},
   "source": [
    "Y revisamos el efecto en dos pasos"
   ]
  },
  {
   "cell_type": "code",
   "execution_count": null,
   "id": "f845b3bf-578f-454b-892b-7d91b22da2d2",
   "metadata": {},
   "outputs": [],
   "source": [
    "plt.figure(figsize=(15,5))\n",
    "for i in range(3):\n",
    "    plt.subplot(1, 3, i + 1)\n",
    "    node_color = ['#bfbf7f' if G_small_ring.nodes[v]['infected'] else '#9f9fff'\n",
    "                  for v in G_small_ring.nodes]\n",
    "    nx.draw_networkx(G_small_ring, pos=nx.circular_layout(G_small_ring), node_color=node_color)\n",
    "    propagate_complex(G_small_ring)\n",
    "    plt.title(\"Step {}\".format(i))\n",
    "plt.tight_layout()"
   ]
  },
  {
   "cell_type": "markdown",
   "id": "appreciated-letter",
   "metadata": {},
   "source": [
    "Elaborado por Luis Cajachahua bajo licencia MIT (2022)\n",
    "Tomado del capítulo 8 del libro: \"Network Science with Python and NetworkX Quick Start Guide\" de Edward L. Platt (2019)"
   ]
  }
 ],
 "metadata": {
  "kernelspec": {
   "display_name": "Python 3 (ipykernel)",
   "language": "python",
   "name": "python3"
  },
  "language_info": {
   "codemirror_mode": {
    "name": "ipython",
    "version": 3
   },
   "file_extension": ".py",
   "mimetype": "text/x-python",
   "name": "python",
   "nbconvert_exporter": "python",
   "pygments_lexer": "ipython3",
   "version": "3.9.7"
  }
 },
 "nbformat": 4,
 "nbformat_minor": 5
}
