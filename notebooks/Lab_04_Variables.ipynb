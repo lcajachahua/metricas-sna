{
 "cells": [
  {
   "cell_type": "markdown",
   "id": "2448743d",
   "metadata": {},
   "source": [
    "# Caso: Análisis de CDR de una Empresa de Telecomunicaciones"
   ]
  },
  {
   "cell_type": "markdown",
   "id": "da74f8e3",
   "metadata": {},
   "source": [
    "## Cargar archivos csv\n",
    "Utilizamos un Call Detail Record de ejemplo\n",
    "##### Clientes llamantes: 199\n",
    "##### Clientes llamados: 400\n",
    "##### Horizonte de tiempo: De Nov-2012 a Ene-2014 (15 meses)"
   ]
  },
  {
   "cell_type": "code",
   "execution_count": null,
   "id": "2a803026",
   "metadata": {},
   "outputs": [],
   "source": [
    "import pandas as pd\n",
    "import numpy as np \n",
    "import matplotlib.pyplot as plt\n",
    "import networkx as nx\n",
    "import time"
   ]
  },
  {
   "cell_type": "code",
   "execution_count": null,
   "id": "1a589d45",
   "metadata": {},
   "outputs": [],
   "source": [
    "h = pd.read_csv('../data/llamadas.csv')\n",
    "h.head()"
   ]
  },
  {
   "cell_type": "markdown",
   "id": "a554c3c9",
   "metadata": {},
   "source": [
    "Revisamos la información del DataFrame"
   ]
  },
  {
   "cell_type": "code",
   "execution_count": null,
   "id": "030e3790",
   "metadata": {},
   "outputs": [],
   "source": [
    "h.info()"
   ]
  },
  {
   "cell_type": "markdown",
   "id": "e590cff4",
   "metadata": {},
   "source": [
    "Transformamos el DataFrame en un Grafo dirigido con pesos (cantidad de llamadas y duración)"
   ]
  },
  {
   "cell_type": "code",
   "execution_count": null,
   "id": "14ba9b0f",
   "metadata": {},
   "outputs": [],
   "source": [
    "G = nx.from_pandas_edgelist(h, source=\"fromuserid\", target=\"touserid\", edge_attr=[\"numbercalls\",\"secondscalls\"], create_using=nx.DiGraph())\n",
    "print(nx.info(G))"
   ]
  },
  {
   "cell_type": "markdown",
   "id": "44d1ca09",
   "metadata": {},
   "source": [
    "Crear la función top_nodes que mostrará los valores más altos de un diccionario"
   ]
  },
  {
   "cell_type": "code",
   "execution_count": null,
   "id": "89e2bfd7",
   "metadata": {},
   "outputs": [],
   "source": [
    "def get_top_nodes(cdict, num=5):\n",
    "    top_nodes ={}\n",
    "    for i in range(num):\n",
    "        top_nodes =dict(\n",
    "            sorted(cdict.items(), key=lambda x: x[1], reverse=True)[:num]\n",
    "            )\n",
    "        return top_nodes"
   ]
  },
  {
   "cell_type": "markdown",
   "id": "dc7b03d4",
   "metadata": {},
   "source": [
    "#### Grado"
   ]
  },
  {
   "cell_type": "markdown",
   "id": "e7136548",
   "metadata": {},
   "source": [
    "Guardar el grado de cada nodo en un diccionario"
   ]
  },
  {
   "cell_type": "code",
   "execution_count": null,
   "id": "88645144",
   "metadata": {},
   "outputs": [],
   "source": [
    "gdeg=G.degree()"
   ]
  },
  {
   "cell_type": "code",
   "execution_count": null,
   "id": "612e70cd",
   "metadata": {},
   "outputs": [],
   "source": [
    "get_top_nodes(dict(gdeg))"
   ]
  },
  {
   "cell_type": "code",
   "execution_count": null,
   "id": "d40badeb",
   "metadata": {},
   "outputs": [],
   "source": [
    "plt.hist(nx.degree_histogram(G))\n",
    "plt.show()"
   ]
  },
  {
   "cell_type": "code",
   "execution_count": null,
   "id": "8934fa93",
   "metadata": {},
   "outputs": [],
   "source": [
    "print(nx.info(G,350159))"
   ]
  },
  {
   "cell_type": "code",
   "execution_count": null,
   "id": "9f0fd83f",
   "metadata": {},
   "outputs": [],
   "source": [
    "plt.figure(figsize=(80,45)) \n",
    "nx.draw_networkx(G, width=0.1, node_size=[100*val for(node,val)in gdeg])\n",
    "plt.show()"
   ]
  },
  {
   "cell_type": "markdown",
   "id": "9024be8d",
   "metadata": {},
   "source": [
    "#### In-Degree"
   ]
  },
  {
   "cell_type": "code",
   "execution_count": null,
   "id": "3e7c45db",
   "metadata": {},
   "outputs": [],
   "source": [
    "indeg=G.in_degree()\n",
    "get_top_nodes(dict(indeg))"
   ]
  },
  {
   "cell_type": "markdown",
   "id": "c361363d",
   "metadata": {},
   "source": [
    "#### Out-Degree"
   ]
  },
  {
   "cell_type": "code",
   "execution_count": null,
   "id": "e1095691",
   "metadata": {},
   "outputs": [],
   "source": [
    "outdeg=G.out_degree()\n",
    "get_top_nodes(dict(outdeg))"
   ]
  },
  {
   "cell_type": "code",
   "execution_count": null,
   "id": "faa44353",
   "metadata": {},
   "outputs": [],
   "source": [
    "nx.set_node_attributes(G,dict(gdeg), 'd')\n",
    "nx.set_node_attributes(G,dict(indeg), 'id')\n",
    "nx.set_node_attributes(G,dict(outdeg), 'od')"
   ]
  },
  {
   "cell_type": "code",
   "execution_count": null,
   "id": "eba5bf5d-6761-447a-94e0-e8529cd6800a",
   "metadata": {},
   "outputs": [],
   "source": [
    "G.degree(350024,weight=\"secondscalls\")"
   ]
  },
  {
   "cell_type": "code",
   "execution_count": null,
   "id": "1a135ea1",
   "metadata": {},
   "outputs": [],
   "source": [
    "gdeg=G.degree(weight=\"secondscalls\")\n",
    "indeg=G.in_degree(weight=\"secondscalls\")\n",
    "outdeg=G.out_degree(weight=\"secondscalls\")\n",
    "nx.set_node_attributes(G,dict(gdeg), 'wd')\n",
    "nx.set_node_attributes(G,dict(indeg), 'wid')\n",
    "nx.set_node_attributes(G,dict(outdeg), 'wod')"
   ]
  },
  {
   "cell_type": "markdown",
   "id": "ae2a47ba",
   "metadata": {},
   "source": [
    "#### Degree Centrality"
   ]
  },
  {
   "cell_type": "code",
   "execution_count": null,
   "id": "23d565fb",
   "metadata": {},
   "outputs": [],
   "source": [
    "degree_centrality =nx.degree_centrality(G)\n",
    "nx.set_node_attributes(G,degree_centrality, 'dc')\n",
    "get_top_nodes(degree_centrality)"
   ]
  },
  {
   "cell_type": "code",
   "execution_count": null,
   "id": "e3036a8b",
   "metadata": {},
   "outputs": [],
   "source": [
    "plt.figure(figsize=(80,45)) \n",
    "nx.draw_networkx(G, width=0.1, node_size=[1000*v for v in nx.get_node_attributes(G, 'dc').values()])\n",
    "plt.show()"
   ]
  },
  {
   "cell_type": "markdown",
   "id": "f2a4561d",
   "metadata": {},
   "source": [
    "#### Betweenness"
   ]
  },
  {
   "cell_type": "code",
   "execution_count": null,
   "id": "f4be442e",
   "metadata": {},
   "outputs": [],
   "source": [
    "betweenness_centrality = nx.betweenness_centrality(G,weight=\"secondscalls\")\n",
    "nx.set_node_attributes(G,betweenness_centrality, 'bc')"
   ]
  },
  {
   "cell_type": "code",
   "execution_count": null,
   "id": "415e9db8",
   "metadata": {},
   "outputs": [],
   "source": [
    "get_top_nodes(betweenness_centrality)"
   ]
  },
  {
   "cell_type": "code",
   "execution_count": null,
   "id": "3a782439",
   "metadata": {},
   "outputs": [],
   "source": [
    "print(nx.info(G,350146))"
   ]
  },
  {
   "cell_type": "code",
   "execution_count": null,
   "id": "e47ccbb7",
   "metadata": {},
   "outputs": [],
   "source": [
    "list(G.successors(350146))"
   ]
  },
  {
   "cell_type": "code",
   "execution_count": null,
   "id": "5438666f",
   "metadata": {},
   "outputs": [],
   "source": [
    "list(G.predecessors(350146))"
   ]
  },
  {
   "cell_type": "code",
   "execution_count": null,
   "id": "39d37f28",
   "metadata": {},
   "outputs": [],
   "source": [
    "S = nx.bfs_tree(G,350146,depth_limit=2)\n",
    "plt.figure(figsize=(64,36))\n",
    "nx.draw_networkx(S)"
   ]
  },
  {
   "cell_type": "code",
   "execution_count": null,
   "id": "b69a8c93",
   "metadata": {},
   "outputs": [],
   "source": [
    "plt.figure(figsize=(80,45)) \n",
    "nx.draw_networkx(G, width=0.1, node_size=[10000 * v for v in nx.get_node_attributes(G, 'bc').values()])\n",
    "plt.show()"
   ]
  },
  {
   "cell_type": "markdown",
   "id": "f7682680",
   "metadata": {},
   "source": [
    "#### Closeness"
   ]
  },
  {
   "cell_type": "code",
   "execution_count": null,
   "id": "9ac67a11",
   "metadata": {},
   "outputs": [],
   "source": [
    "closeness_centrality =nx.closeness_centrality(G,distance=\"secondscalls\")\n",
    "nx.set_node_attributes(G,closeness_centrality, 'cc')"
   ]
  },
  {
   "cell_type": "code",
   "execution_count": null,
   "id": "fc60550e",
   "metadata": {},
   "outputs": [],
   "source": [
    "get_top_nodes(closeness_centrality)"
   ]
  },
  {
   "cell_type": "code",
   "execution_count": null,
   "id": "3b3bbd47",
   "metadata": {},
   "outputs": [],
   "source": [
    "S = nx.bfs_tree(G,350058,depth_limit=2)\n",
    "plt.figure(figsize=(64,36))\n",
    "nx.draw_networkx(S)"
   ]
  },
  {
   "cell_type": "code",
   "execution_count": null,
   "id": "eb319c74",
   "metadata": {},
   "outputs": [],
   "source": [
    "plt.figure(figsize=(80,45)) \n",
    "pos =nx.spring_layout(G)\n",
    "ec =nx.draw_networkx_edges(G, width=0.1, pos=pos)\n",
    "nc =nx.draw_networkx_nodes(G, pos=pos,\n",
    "                           node_color=[v for v in nx.get_node_attributes(G, 'cc').values()],\n",
    "                           node_size=[100000 * v for v in nx.get_node_attributes(G, 'cc').values()])\n",
    "lb =nx.draw_networkx_labels(G,pos =pos)\n",
    "plt.show()"
   ]
  },
  {
   "cell_type": "markdown",
   "id": "92552cc9",
   "metadata": {},
   "source": [
    "#### Eigenvector Centrality"
   ]
  },
  {
   "cell_type": "code",
   "execution_count": null,
   "id": "4d28b85e",
   "metadata": {},
   "outputs": [],
   "source": [
    "eigenvector_centrality = nx.eigenvector_centrality(G,weight=\"secondscalls\")\n",
    "nx.set_node_attributes(G, eigenvector_centrality,'ec')"
   ]
  },
  {
   "cell_type": "code",
   "execution_count": null,
   "id": "eb4572b8",
   "metadata": {},
   "outputs": [],
   "source": [
    "get_top_nodes(eigenvector_centrality)"
   ]
  },
  {
   "cell_type": "code",
   "execution_count": null,
   "id": "b8fcd854",
   "metadata": {},
   "outputs": [],
   "source": [
    "S = nx.bfs_tree(G,350009,depth_limit=2)\n",
    "plt.figure(figsize=(64,36))\n",
    "nx.draw_networkx(S)"
   ]
  },
  {
   "cell_type": "code",
   "execution_count": null,
   "id": "2cd740b4",
   "metadata": {},
   "outputs": [],
   "source": [
    "plt.figure(figsize=(80,45)) \n",
    "nx.draw_networkx(G, width=0.1, node_size=[20000 * v for v in nx.get_node_attributes(G, 'ec').values()])\n",
    "plt.show()"
   ]
  },
  {
   "cell_type": "markdown",
   "id": "e93d5d87",
   "metadata": {},
   "source": [
    "#### PageRank Centrality"
   ]
  },
  {
   "cell_type": "code",
   "execution_count": null,
   "id": "c6fa592a",
   "metadata": {},
   "outputs": [],
   "source": [
    "pagerank_centrality =nx.pagerank(G,weight=\"secondscalls\")\n",
    "nx.set_node_attributes(G, pagerank_centrality, 'pr')"
   ]
  },
  {
   "cell_type": "code",
   "execution_count": null,
   "id": "c1d3bd10",
   "metadata": {},
   "outputs": [],
   "source": [
    "get_top_nodes(pagerank_centrality)"
   ]
  },
  {
   "cell_type": "code",
   "execution_count": null,
   "id": "7bd76880",
   "metadata": {},
   "outputs": [],
   "source": [
    "S = nx.bfs_tree(G,350055,depth_limit=2)\n",
    "plt.figure(figsize=(64,36))\n",
    "nx.draw_networkx(S)"
   ]
  },
  {
   "cell_type": "code",
   "execution_count": null,
   "id": "5673a5dc",
   "metadata": {},
   "outputs": [],
   "source": [
    "plt.figure(figsize=(80,45)) \n",
    "nx.draw_networkx(G, width=0.1, node_size=[50000 * v for v in nx.get_node_attributes(G, 'pr').values()], pos=pos)\n",
    "plt.show()"
   ]
  },
  {
   "cell_type": "markdown",
   "id": "3c89a826",
   "metadata": {},
   "source": [
    "## Métricas de Grafo"
   ]
  },
  {
   "cell_type": "markdown",
   "id": "1f82fa97",
   "metadata": {},
   "source": [
    "#### All Shortest Path"
   ]
  },
  {
   "cell_type": "code",
   "execution_count": null,
   "id": "053076e3",
   "metadata": {},
   "outputs": [],
   "source": [
    "list(nx.all_shortest_paths(G,350166,350024))"
   ]
  },
  {
   "cell_type": "code",
   "execution_count": null,
   "id": "1041196f",
   "metadata": {},
   "outputs": [],
   "source": [
    "nx.shortest_path_length(G,350166,350024)"
   ]
  },
  {
   "cell_type": "markdown",
   "id": "29d713c6",
   "metadata": {},
   "source": [
    "#### Average Path Length"
   ]
  },
  {
   "cell_type": "code",
   "execution_count": null,
   "id": "086f8300",
   "metadata": {},
   "outputs": [],
   "source": [
    "nx.average_shortest_path_length(G)"
   ]
  },
  {
   "cell_type": "markdown",
   "id": "9562dfe4",
   "metadata": {},
   "source": [
    "#### Densidad"
   ]
  },
  {
   "cell_type": "code",
   "execution_count": null,
   "id": "7bda5b98",
   "metadata": {},
   "outputs": [],
   "source": [
    "nx.density(G)"
   ]
  },
  {
   "cell_type": "markdown",
   "id": "7c39ec78",
   "metadata": {},
   "source": [
    "#### Local Clustering Coefficient"
   ]
  },
  {
   "cell_type": "code",
   "execution_count": null,
   "id": "a88c7cc1",
   "metadata": {},
   "outputs": [],
   "source": [
    "nx.average_clustering(G)"
   ]
  },
  {
   "cell_type": "markdown",
   "id": "81d8354a-c1bd-49e4-8a85-3eb294307631",
   "metadata": {},
   "source": [
    "## Hubs and Authorities Algorithm\n",
    "Para calcular los Authorities sumariza los pesos de los enlaces entrantes. Los Hubs sumarizan los pesos de los enlaces salientes"
   ]
  },
  {
   "cell_type": "code",
   "execution_count": null,
   "id": "9e8487f9-8034-4e7a-aed1-2a9e1a8daf4d",
   "metadata": {},
   "outputs": [],
   "source": [
    "hub, aut = nx.hits(G)"
   ]
  },
  {
   "cell_type": "code",
   "execution_count": null,
   "id": "44247dbb-9411-4576-80df-a64f1234c28d",
   "metadata": {},
   "outputs": [],
   "source": [
    "get_top_nodes(aut)"
   ]
  },
  {
   "cell_type": "code",
   "execution_count": null,
   "id": "213ef7d6-e99d-44ff-9bc7-564ea17e76da",
   "metadata": {},
   "outputs": [],
   "source": [
    "get_top_nodes(hub)"
   ]
  },
  {
   "cell_type": "code",
   "execution_count": null,
   "id": "83fdbdac-c1a5-405f-8c3f-981928129fa7",
   "metadata": {},
   "outputs": [],
   "source": [
    "nx.set_node_attributes(G,hub, 'hub')\n",
    "nx.set_node_attributes(G,aut, 'aut')"
   ]
  },
  {
   "cell_type": "markdown",
   "id": "501c1552",
   "metadata": {},
   "source": [
    "## Calculando el Valor de Red para cada Cliente"
   ]
  },
  {
   "cell_type": "markdown",
   "id": "aa807a09",
   "metadata": {},
   "source": [
    "Extraer las métricas por nodo a un dataframe de Pandas"
   ]
  },
  {
   "cell_type": "code",
   "execution_count": null,
   "id": "8c274f17",
   "metadata": {},
   "outputs": [],
   "source": [
    "graph = G.nodes(data = True)"
   ]
  },
  {
   "cell_type": "code",
   "execution_count": null,
   "id": "a0745c0e",
   "metadata": {},
   "outputs": [],
   "source": [
    "def func(graph):\n",
    "    data={}\n",
    "    data['fromuserid']=[x[0] for x in graph]\n",
    "    other_cols = list([*graph][0][1].keys())\n",
    "    for key in other_cols:\n",
    "        data[key] = [x[1][key] for x in graph]\n",
    "    return data"
   ]
  },
  {
   "cell_type": "code",
   "execution_count": null,
   "id": "2471e3ba",
   "metadata": {},
   "outputs": [],
   "source": [
    "df = pd.DataFrame(func(graph)).sort_values(by=['fromuserid']).reset_index(drop=True)"
   ]
  },
  {
   "cell_type": "code",
   "execution_count": null,
   "id": "958ce995",
   "metadata": {},
   "outputs": [],
   "source": [
    "df.head(10)"
   ]
  },
  {
   "cell_type": "code",
   "execution_count": null,
   "id": "3573009b",
   "metadata": {},
   "outputs": [],
   "source": [
    "df.info()"
   ]
  },
  {
   "cell_type": "markdown",
   "id": "c39a152a",
   "metadata": {},
   "source": [
    "Exportando para utilizar fuera"
   ]
  },
  {
   "cell_type": "code",
   "execution_count": null,
   "id": "0b4eab5b",
   "metadata": {},
   "outputs": [],
   "source": [
    "df.to_csv(r'../data/ind_grafo.csv',index=False)"
   ]
  },
  {
   "cell_type": "markdown",
   "id": "b56d4e70",
   "metadata": {},
   "source": [
    "Elaborado por Luis Cajachahua bajo licencia MIT (2021)"
   ]
  }
 ],
 "metadata": {
  "kernelspec": {
   "display_name": "Python 3",
   "language": "python",
   "name": "python3"
  },
  "language_info": {
   "codemirror_mode": {
    "name": "ipython",
    "version": 3
   },
   "file_extension": ".py",
   "mimetype": "text/x-python",
   "name": "python",
   "nbconvert_exporter": "python",
   "pygments_lexer": "ipython3",
   "version": "3.8.8"
  }
 },
 "nbformat": 4,
 "nbformat_minor": 5
}
